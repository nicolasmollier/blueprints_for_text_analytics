{
 "cells": [
  {
   "cell_type": "code",
   "execution_count": 1,
   "id": "2c35fbb6",
   "metadata": {},
   "outputs": [
    {
     "name": "stderr",
     "output_type": "stream",
     "text": [
      "2023-01-09 21:39:01.915003: W tensorflow/stream_executor/platform/default/dso_loader.cc:60] Could not load dynamic library 'libcudart.so.11.0'; dlerror: libcudart.so.11.0: cannot open shared object file: No such file or directory\n",
      "2023-01-09 21:39:01.915030: I tensorflow/stream_executor/cuda/cudart_stub.cc:29] Ignore above cudart dlerror if you do not have a GPU set up on your machine.\n",
      "2023-01-09 21:39:02.915043: I tensorflow/compiler/jit/xla_cpu_device.cc:41] Not creating XLA devices, tf_xla_enable_xla_devices not set\n",
      "2023-01-09 21:39:02.915114: I tensorflow/stream_executor/platform/default/dso_loader.cc:49] Successfully opened dynamic library libcuda.so.1\n",
      "2023-01-09 21:39:02.915254: I tensorflow/stream_executor/cuda/cuda_gpu_executor.cc:941] successful NUMA node read from SysFS had negative value (-1), but there must be at least one NUMA node, so returning NUMA node zero\n",
      "2023-01-09 21:39:02.915726: I tensorflow/core/common_runtime/gpu/gpu_device.cc:1720] Found device 0 with properties: \n",
      "pciBusID: 0000:26:00.0 name: NVIDIA GeForce GTX 1660 Ti computeCapability: 7.5\n",
      "coreClock: 1.875GHz coreCount: 24 deviceMemorySize: 5.80GiB deviceMemoryBandwidth: 268.26GiB/s\n",
      "2023-01-09 21:39:02.915816: W tensorflow/stream_executor/platform/default/dso_loader.cc:60] Could not load dynamic library 'libcudart.so.11.0'; dlerror: libcudart.so.11.0: cannot open shared object file: No such file or directory\n",
      "2023-01-09 21:39:02.915868: W tensorflow/stream_executor/platform/default/dso_loader.cc:60] Could not load dynamic library 'libcublas.so.11'; dlerror: libcublas.so.11: cannot open shared object file: No such file or directory\n",
      "2023-01-09 21:39:02.915917: W tensorflow/stream_executor/platform/default/dso_loader.cc:60] Could not load dynamic library 'libcublasLt.so.11'; dlerror: libcublasLt.so.11: cannot open shared object file: No such file or directory\n",
      "2023-01-09 21:39:02.915952: I tensorflow/stream_executor/platform/default/dso_loader.cc:49] Successfully opened dynamic library libcufft.so.10\n",
      "2023-01-09 21:39:02.915975: I tensorflow/stream_executor/platform/default/dso_loader.cc:49] Successfully opened dynamic library libcurand.so.10\n",
      "2023-01-09 21:39:02.915997: I tensorflow/stream_executor/platform/default/dso_loader.cc:49] Successfully opened dynamic library libcusolver.so.10\n",
      "2023-01-09 21:39:02.916040: W tensorflow/stream_executor/platform/default/dso_loader.cc:60] Could not load dynamic library 'libcusparse.so.11'; dlerror: libcusparse.so.11: cannot open shared object file: No such file or directory\n",
      "2023-01-09 21:39:02.916090: W tensorflow/stream_executor/platform/default/dso_loader.cc:60] Could not load dynamic library 'libcudnn.so.8'; dlerror: libcudnn.so.8: cannot open shared object file: No such file or directory\n",
      "2023-01-09 21:39:02.916097: W tensorflow/core/common_runtime/gpu/gpu_device.cc:1757] Cannot dlopen some GPU libraries. Please make sure the missing libraries mentioned above are installed properly if you would like to use GPU. Follow the guide at https://www.tensorflow.org/install/gpu for how to download and setup the required libraries for your platform.\n",
      "Skipping registering GPU devices...\n"
     ]
    }
   ],
   "source": [
    "import pandas as pd\n",
    "import os\n",
    "import sqlite3\n",
    "import re\n",
    "import html\n",
    "import textacy.preprocessing as tprep\n",
    "from textacy.preprocessing.resources import RE_URL\n",
    "import nltk\n",
    "import spacy\n",
    "from spacy.tokenizer import Tokenizer\n",
    "from spacy.util import compile_prefix_regex, compile_infix_regex, compile_suffix_regex"
   ]
  },
  {
   "cell_type": "markdown",
   "id": "29c6d204",
   "metadata": {},
   "source": [
    "## 1. Data"
   ]
  },
  {
   "cell_type": "code",
   "execution_count": 2,
   "id": "759afbb6",
   "metadata": {},
   "outputs": [],
   "source": [
    "os.chdir(\"../blueprints-text/\")"
   ]
  },
  {
   "cell_type": "code",
   "execution_count": 3,
   "id": "3250eaa0",
   "metadata": {},
   "outputs": [],
   "source": [
    "data_path = \"data\""
   ]
  },
  {
   "cell_type": "code",
   "execution_count": 4,
   "id": "9abbd536",
   "metadata": {},
   "outputs": [],
   "source": [
    "from packages.blueprints.exploration import count_words"
   ]
  },
  {
   "cell_type": "markdown",
   "id": "0960628c",
   "metadata": {},
   "source": [
    "### 1.1 Get the data"
   ]
  },
  {
   "cell_type": "code",
   "execution_count": 5,
   "id": "540fa0fd",
   "metadata": {},
   "outputs": [],
   "source": [
    "posts_df = pd.read_csv(os.path.join(data_path, \"reddit-selfposts/rspct_autos.tsv.gz\"), sep=\"\\t\")"
   ]
  },
  {
   "cell_type": "code",
   "execution_count": 6,
   "id": "0aadfd46",
   "metadata": {},
   "outputs": [
    {
     "data": {
      "text/html": [
       "<div>\n",
       "<style scoped>\n",
       "    .dataframe tbody tr th:only-of-type {\n",
       "        vertical-align: middle;\n",
       "    }\n",
       "\n",
       "    .dataframe tbody tr th {\n",
       "        vertical-align: top;\n",
       "    }\n",
       "\n",
       "    .dataframe thead th {\n",
       "        text-align: right;\n",
       "    }\n",
       "</style>\n",
       "<table border=\"1\" class=\"dataframe\">\n",
       "  <thead>\n",
       "    <tr style=\"text-align: right;\">\n",
       "      <th></th>\n",
       "      <th>id</th>\n",
       "      <th>subreddit</th>\n",
       "      <th>title</th>\n",
       "      <th>selftext</th>\n",
       "    </tr>\n",
       "  </thead>\n",
       "  <tbody>\n",
       "    <tr>\n",
       "      <th>0</th>\n",
       "      <td>8f73s7</td>\n",
       "      <td>Harley</td>\n",
       "      <td>No Club Colors</td>\n",
       "      <td>Funny story. I went to college in Las Vegas. T...</td>\n",
       "    </tr>\n",
       "    <tr>\n",
       "      <th>1</th>\n",
       "      <td>5s0q8r</td>\n",
       "      <td>Mustang</td>\n",
       "      <td>Roush vs Shleby GT500</td>\n",
       "      <td>I am trying to determine which is faster, and ...</td>\n",
       "    </tr>\n",
       "    <tr>\n",
       "      <th>2</th>\n",
       "      <td>5z3405</td>\n",
       "      <td>Volkswagen</td>\n",
       "      <td>2001 Golf Wagon looking for some insight</td>\n",
       "      <td>Hello! &lt;lb&gt;&lt;lb&gt;Trying to find some information...</td>\n",
       "    </tr>\n",
       "    <tr>\n",
       "      <th>3</th>\n",
       "      <td>7df18v</td>\n",
       "      <td>Lexus</td>\n",
       "      <td>IS 250 Coolant Flush/Change</td>\n",
       "      <td>https://www.cars.com/articles/how-often-should...</td>\n",
       "    </tr>\n",
       "    <tr>\n",
       "      <th>4</th>\n",
       "      <td>5tpve8</td>\n",
       "      <td>volt</td>\n",
       "      <td>Gen1 mpg w/ dead battery?</td>\n",
       "      <td>Hi, new to this subreddit.  I'm considering bu...</td>\n",
       "    </tr>\n",
       "    <tr>\n",
       "      <th>...</th>\n",
       "      <td>...</td>\n",
       "      <td>...</td>\n",
       "      <td>...</td>\n",
       "      <td>...</td>\n",
       "    </tr>\n",
       "    <tr>\n",
       "      <th>19995</th>\n",
       "      <td>7i2k6y</td>\n",
       "      <td>4Runner</td>\n",
       "      <td>Bilstein Shocks</td>\n",
       "      <td>I read a lot Forums and people recommend getti...</td>\n",
       "    </tr>\n",
       "    <tr>\n",
       "      <th>19996</th>\n",
       "      <td>83p2kv</td>\n",
       "      <td>Harley</td>\n",
       "      <td>Question on potential purchase of crashed bike.</td>\n",
       "      <td>I am thinking about  buying a 2010 Harley Spor...</td>\n",
       "    </tr>\n",
       "    <tr>\n",
       "      <th>19997</th>\n",
       "      <td>7x722h</td>\n",
       "      <td>volt</td>\n",
       "      <td>Got our first warning light on our dash</td>\n",
       "      <td>My husband and I were headed somewhere and I w...</td>\n",
       "    </tr>\n",
       "    <tr>\n",
       "      <th>19998</th>\n",
       "      <td>7v2xmg</td>\n",
       "      <td>Lexus</td>\n",
       "      <td>Any IS models to avoid?</td>\n",
       "      <td>I am looking at getting a used Lexus IS (2014 ...</td>\n",
       "    </tr>\n",
       "    <tr>\n",
       "      <th>19999</th>\n",
       "      <td>8dxx3b</td>\n",
       "      <td>mercedes_benz</td>\n",
       "      <td>Advice please. Looking at a 2011 E550 with 71K...</td>\n",
       "      <td>Looking for some help. I've never owned any lu...</td>\n",
       "    </tr>\n",
       "  </tbody>\n",
       "</table>\n",
       "<p>20000 rows × 4 columns</p>\n",
       "</div>"
      ],
      "text/plain": [
       "           id      subreddit  \\\n",
       "0      8f73s7         Harley   \n",
       "1      5s0q8r        Mustang   \n",
       "2      5z3405     Volkswagen   \n",
       "3      7df18v          Lexus   \n",
       "4      5tpve8           volt   \n",
       "...       ...            ...   \n",
       "19995  7i2k6y        4Runner   \n",
       "19996  83p2kv         Harley   \n",
       "19997  7x722h           volt   \n",
       "19998  7v2xmg          Lexus   \n",
       "19999  8dxx3b  mercedes_benz   \n",
       "\n",
       "                                                   title  \\\n",
       "0                                         No Club Colors   \n",
       "1                                  Roush vs Shleby GT500   \n",
       "2               2001 Golf Wagon looking for some insight   \n",
       "3                            IS 250 Coolant Flush/Change   \n",
       "4                              Gen1 mpg w/ dead battery?   \n",
       "...                                                  ...   \n",
       "19995                                    Bilstein Shocks   \n",
       "19996    Question on potential purchase of crashed bike.   \n",
       "19997            Got our first warning light on our dash   \n",
       "19998                            Any IS models to avoid?   \n",
       "19999  Advice please. Looking at a 2011 E550 with 71K...   \n",
       "\n",
       "                                                selftext  \n",
       "0      Funny story. I went to college in Las Vegas. T...  \n",
       "1      I am trying to determine which is faster, and ...  \n",
       "2      Hello! <lb><lb>Trying to find some information...  \n",
       "3      https://www.cars.com/articles/how-often-should...  \n",
       "4      Hi, new to this subreddit.  I'm considering bu...  \n",
       "...                                                  ...  \n",
       "19995  I read a lot Forums and people recommend getti...  \n",
       "19996  I am thinking about  buying a 2010 Harley Spor...  \n",
       "19997  My husband and I were headed somewhere and I w...  \n",
       "19998  I am looking at getting a used Lexus IS (2014 ...  \n",
       "19999  Looking for some help. I've never owned any lu...  \n",
       "\n",
       "[20000 rows x 4 columns]"
      ]
     },
     "execution_count": 6,
     "metadata": {},
     "output_type": "execute_result"
    }
   ],
   "source": [
    "posts_df"
   ]
  },
  {
   "cell_type": "code",
   "execution_count": 7,
   "id": "30233709",
   "metadata": {},
   "outputs": [],
   "source": [
    "subred_df = pd.read_csv(os.path.join(data_path, \"reddit-selfposts/subreddit_info.csv.gz\")).set_index([\"subreddit\"])"
   ]
  },
  {
   "cell_type": "code",
   "execution_count": 8,
   "id": "a9f6c27f",
   "metadata": {},
   "outputs": [
    {
     "data": {
      "text/html": [
       "<div>\n",
       "<style scoped>\n",
       "    .dataframe tbody tr th:only-of-type {\n",
       "        vertical-align: middle;\n",
       "    }\n",
       "\n",
       "    .dataframe tbody tr th {\n",
       "        vertical-align: top;\n",
       "    }\n",
       "\n",
       "    .dataframe thead th {\n",
       "        text-align: right;\n",
       "    }\n",
       "</style>\n",
       "<table border=\"1\" class=\"dataframe\">\n",
       "  <thead>\n",
       "    <tr style=\"text-align: right;\">\n",
       "      <th></th>\n",
       "      <th>category_1</th>\n",
       "      <th>category_2</th>\n",
       "      <th>category_3</th>\n",
       "      <th>in_data</th>\n",
       "      <th>reason_for_exclusion</th>\n",
       "    </tr>\n",
       "    <tr>\n",
       "      <th>subreddit</th>\n",
       "      <th></th>\n",
       "      <th></th>\n",
       "      <th></th>\n",
       "      <th></th>\n",
       "      <th></th>\n",
       "    </tr>\n",
       "  </thead>\n",
       "  <tbody>\n",
       "    <tr>\n",
       "      <th>whatsthatbook</th>\n",
       "      <td>advice/question</td>\n",
       "      <td>book</td>\n",
       "      <td>NaN</td>\n",
       "      <td>True</td>\n",
       "      <td>NaN</td>\n",
       "    </tr>\n",
       "    <tr>\n",
       "      <th>CasualConversation</th>\n",
       "      <td>advice/question</td>\n",
       "      <td>broad</td>\n",
       "      <td>NaN</td>\n",
       "      <td>False</td>\n",
       "      <td>too_broad</td>\n",
       "    </tr>\n",
       "    <tr>\n",
       "      <th>Clairvoyantreadings</th>\n",
       "      <td>advice/question</td>\n",
       "      <td>broad</td>\n",
       "      <td>NaN</td>\n",
       "      <td>False</td>\n",
       "      <td>too_broad</td>\n",
       "    </tr>\n",
       "    <tr>\n",
       "      <th>DecidingToBeBetter</th>\n",
       "      <td>advice/question</td>\n",
       "      <td>broad</td>\n",
       "      <td>NaN</td>\n",
       "      <td>False</td>\n",
       "      <td>too_broad</td>\n",
       "    </tr>\n",
       "    <tr>\n",
       "      <th>HelpMeFind</th>\n",
       "      <td>advice/question</td>\n",
       "      <td>broad</td>\n",
       "      <td>NaN</td>\n",
       "      <td>False</td>\n",
       "      <td>too_broad</td>\n",
       "    </tr>\n",
       "    <tr>\n",
       "      <th>...</th>\n",
       "      <td>...</td>\n",
       "      <td>...</td>\n",
       "      <td>...</td>\n",
       "      <td>...</td>\n",
       "      <td>...</td>\n",
       "    </tr>\n",
       "    <tr>\n",
       "      <th>HFY</th>\n",
       "      <td>writing/stories</td>\n",
       "      <td>sci-fi</td>\n",
       "      <td>NaN</td>\n",
       "      <td>True</td>\n",
       "      <td>NaN</td>\n",
       "    </tr>\n",
       "    <tr>\n",
       "      <th>TalesFromYourServer</th>\n",
       "      <td>writing/stories</td>\n",
       "      <td>tech support</td>\n",
       "      <td>NaN</td>\n",
       "      <td>False</td>\n",
       "      <td>fewer posts than r/talesfromtechsupport which ...</td>\n",
       "    </tr>\n",
       "    <tr>\n",
       "      <th>talesfromtechsupport</th>\n",
       "      <td>writing/stories</td>\n",
       "      <td>tech support</td>\n",
       "      <td>NaN</td>\n",
       "      <td>True</td>\n",
       "      <td>NaN</td>\n",
       "    </tr>\n",
       "    <tr>\n",
       "      <th>WayfarersPub</th>\n",
       "      <td>writing/stories</td>\n",
       "      <td>wayfarers pub</td>\n",
       "      <td>NaN</td>\n",
       "      <td>True</td>\n",
       "      <td>NaN</td>\n",
       "    </tr>\n",
       "    <tr>\n",
       "      <th>Glitch_in_the_Matrix</th>\n",
       "      <td>writing/stories</td>\n",
       "      <td>weird</td>\n",
       "      <td>NaN</td>\n",
       "      <td>False</td>\n",
       "      <td>too_broad</td>\n",
       "    </tr>\n",
       "  </tbody>\n",
       "</table>\n",
       "<p>3394 rows × 5 columns</p>\n",
       "</div>"
      ],
      "text/plain": [
       "                           category_1     category_2 category_3  in_data  \\\n",
       "subreddit                                                                  \n",
       "whatsthatbook         advice/question           book        NaN     True   \n",
       "CasualConversation    advice/question          broad        NaN    False   \n",
       "Clairvoyantreadings   advice/question          broad        NaN    False   \n",
       "DecidingToBeBetter    advice/question          broad        NaN    False   \n",
       "HelpMeFind            advice/question          broad        NaN    False   \n",
       "...                               ...            ...        ...      ...   \n",
       "HFY                   writing/stories         sci-fi        NaN     True   \n",
       "TalesFromYourServer   writing/stories   tech support        NaN    False   \n",
       "talesfromtechsupport  writing/stories   tech support        NaN     True   \n",
       "WayfarersPub          writing/stories  wayfarers pub        NaN     True   \n",
       "Glitch_in_the_Matrix  writing/stories          weird        NaN    False   \n",
       "\n",
       "                                                   reason_for_exclusion  \n",
       "subreddit                                                                \n",
       "whatsthatbook                                                       NaN  \n",
       "CasualConversation                                            too_broad  \n",
       "Clairvoyantreadings                                           too_broad  \n",
       "DecidingToBeBetter                                            too_broad  \n",
       "HelpMeFind                                                    too_broad  \n",
       "...                                                                 ...  \n",
       "HFY                                                                 NaN  \n",
       "TalesFromYourServer   fewer posts than r/talesfromtechsupport which ...  \n",
       "talesfromtechsupport                                                NaN  \n",
       "WayfarersPub                                                        NaN  \n",
       "Glitch_in_the_Matrix                                          too_broad  \n",
       "\n",
       "[3394 rows x 5 columns]"
      ]
     },
     "execution_count": 8,
     "metadata": {},
     "output_type": "execute_result"
    }
   ],
   "source": [
    "subred_df"
   ]
  },
  {
   "cell_type": "code",
   "execution_count": 9,
   "id": "011aad5b",
   "metadata": {},
   "outputs": [],
   "source": [
    "df = pd.merge(posts_df, subred_df, on=\"subreddit\")"
   ]
  },
  {
   "cell_type": "code",
   "execution_count": 10,
   "id": "a8db7990",
   "metadata": {},
   "outputs": [
    {
     "data": {
      "text/html": [
       "<div>\n",
       "<style scoped>\n",
       "    .dataframe tbody tr th:only-of-type {\n",
       "        vertical-align: middle;\n",
       "    }\n",
       "\n",
       "    .dataframe tbody tr th {\n",
       "        vertical-align: top;\n",
       "    }\n",
       "\n",
       "    .dataframe thead th {\n",
       "        text-align: right;\n",
       "    }\n",
       "</style>\n",
       "<table border=\"1\" class=\"dataframe\">\n",
       "  <thead>\n",
       "    <tr style=\"text-align: right;\">\n",
       "      <th></th>\n",
       "      <th>id</th>\n",
       "      <th>subreddit</th>\n",
       "      <th>title</th>\n",
       "      <th>selftext</th>\n",
       "      <th>category_1</th>\n",
       "      <th>category_2</th>\n",
       "      <th>category_3</th>\n",
       "      <th>in_data</th>\n",
       "      <th>reason_for_exclusion</th>\n",
       "    </tr>\n",
       "  </thead>\n",
       "  <tbody>\n",
       "    <tr>\n",
       "      <th>0</th>\n",
       "      <td>8f73s7</td>\n",
       "      <td>Harley</td>\n",
       "      <td>No Club Colors</td>\n",
       "      <td>Funny story. I went to college in Las Vegas. T...</td>\n",
       "      <td>autos</td>\n",
       "      <td>harley davidson</td>\n",
       "      <td>NaN</td>\n",
       "      <td>True</td>\n",
       "      <td>NaN</td>\n",
       "    </tr>\n",
       "    <tr>\n",
       "      <th>1</th>\n",
       "      <td>4z6vee</td>\n",
       "      <td>Harley</td>\n",
       "      <td>Mystery Rattle</td>\n",
       "      <td>I have a stock 2010 FXD that has a rate I can'...</td>\n",
       "      <td>autos</td>\n",
       "      <td>harley davidson</td>\n",
       "      <td>NaN</td>\n",
       "      <td>True</td>\n",
       "      <td>NaN</td>\n",
       "    </tr>\n",
       "    <tr>\n",
       "      <th>2</th>\n",
       "      <td>6x4tdk</td>\n",
       "      <td>Harley</td>\n",
       "      <td>Gum on tailpipe</td>\n",
       "      <td>So I'm on a bike trip with my father and we st...</td>\n",
       "      <td>autos</td>\n",
       "      <td>harley davidson</td>\n",
       "      <td>NaN</td>\n",
       "      <td>True</td>\n",
       "      <td>NaN</td>\n",
       "    </tr>\n",
       "    <tr>\n",
       "      <th>3</th>\n",
       "      <td>7l7rer</td>\n",
       "      <td>Harley</td>\n",
       "      <td>Changing up the bars!</td>\n",
       "      <td>So I’m gonna change out my T bars that came on...</td>\n",
       "      <td>autos</td>\n",
       "      <td>harley davidson</td>\n",
       "      <td>NaN</td>\n",
       "      <td>True</td>\n",
       "      <td>NaN</td>\n",
       "    </tr>\n",
       "    <tr>\n",
       "      <th>4</th>\n",
       "      <td>683pc7</td>\n",
       "      <td>Harley</td>\n",
       "      <td>Spent 2 days and made some Mini Floorboards fo...</td>\n",
       "      <td>A few weeks ago, somebody was looking for some...</td>\n",
       "      <td>autos</td>\n",
       "      <td>harley davidson</td>\n",
       "      <td>NaN</td>\n",
       "      <td>True</td>\n",
       "      <td>NaN</td>\n",
       "    </tr>\n",
       "    <tr>\n",
       "      <th>...</th>\n",
       "      <td>...</td>\n",
       "      <td>...</td>\n",
       "      <td>...</td>\n",
       "      <td>...</td>\n",
       "      <td>...</td>\n",
       "      <td>...</td>\n",
       "      <td>...</td>\n",
       "      <td>...</td>\n",
       "      <td>...</td>\n",
       "    </tr>\n",
       "    <tr>\n",
       "      <th>19995</th>\n",
       "      <td>7346dx</td>\n",
       "      <td>4Runner</td>\n",
       "      <td>03 JBL Sound System Issue</td>\n",
       "      <td>Just picked up my first 4Runner this week! Lov...</td>\n",
       "      <td>autos</td>\n",
       "      <td>toyota</td>\n",
       "      <td>NaN</td>\n",
       "      <td>True</td>\n",
       "      <td>NaN</td>\n",
       "    </tr>\n",
       "    <tr>\n",
       "      <th>19996</th>\n",
       "      <td>5ut9e2</td>\n",
       "      <td>4Runner</td>\n",
       "      <td>2nd gen Comes Back From the Dead With No Tools</td>\n",
       "      <td>Hello fellow runners-&lt;lb&gt;&lt;lb&gt;I wanted to share...</td>\n",
       "      <td>autos</td>\n",
       "      <td>toyota</td>\n",
       "      <td>NaN</td>\n",
       "      <td>True</td>\n",
       "      <td>NaN</td>\n",
       "    </tr>\n",
       "    <tr>\n",
       "      <th>19997</th>\n",
       "      <td>66xnwd</td>\n",
       "      <td>4Runner</td>\n",
       "      <td>Tranny cooler in cold temperatures?</td>\n",
       "      <td>So I picked up a 2002 4Runner recently and the...</td>\n",
       "      <td>autos</td>\n",
       "      <td>toyota</td>\n",
       "      <td>NaN</td>\n",
       "      <td>True</td>\n",
       "      <td>NaN</td>\n",
       "    </tr>\n",
       "    <tr>\n",
       "      <th>19998</th>\n",
       "      <td>8kvxkg</td>\n",
       "      <td>4Runner</td>\n",
       "      <td>Torn between a Wrangler and a 4 Runner...</td>\n",
       "      <td>Ok so I've posted to r/Jeep and figured I shou...</td>\n",
       "      <td>autos</td>\n",
       "      <td>toyota</td>\n",
       "      <td>NaN</td>\n",
       "      <td>True</td>\n",
       "      <td>NaN</td>\n",
       "    </tr>\n",
       "    <tr>\n",
       "      <th>19999</th>\n",
       "      <td>7i2k6y</td>\n",
       "      <td>4Runner</td>\n",
       "      <td>Bilstein Shocks</td>\n",
       "      <td>I read a lot Forums and people recommend getti...</td>\n",
       "      <td>autos</td>\n",
       "      <td>toyota</td>\n",
       "      <td>NaN</td>\n",
       "      <td>True</td>\n",
       "      <td>NaN</td>\n",
       "    </tr>\n",
       "  </tbody>\n",
       "</table>\n",
       "<p>20000 rows × 9 columns</p>\n",
       "</div>"
      ],
      "text/plain": [
       "           id subreddit                                              title  \\\n",
       "0      8f73s7    Harley                                     No Club Colors   \n",
       "1      4z6vee    Harley                                     Mystery Rattle   \n",
       "2      6x4tdk    Harley                                    Gum on tailpipe   \n",
       "3      7l7rer    Harley                              Changing up the bars!   \n",
       "4      683pc7    Harley  Spent 2 days and made some Mini Floorboards fo...   \n",
       "...       ...       ...                                                ...   \n",
       "19995  7346dx   4Runner                          03 JBL Sound System Issue   \n",
       "19996  5ut9e2   4Runner     2nd gen Comes Back From the Dead With No Tools   \n",
       "19997  66xnwd   4Runner                Tranny cooler in cold temperatures?   \n",
       "19998  8kvxkg   4Runner          Torn between a Wrangler and a 4 Runner...   \n",
       "19999  7i2k6y   4Runner                                    Bilstein Shocks   \n",
       "\n",
       "                                                selftext category_1  \\\n",
       "0      Funny story. I went to college in Las Vegas. T...      autos   \n",
       "1      I have a stock 2010 FXD that has a rate I can'...      autos   \n",
       "2      So I'm on a bike trip with my father and we st...      autos   \n",
       "3      So I’m gonna change out my T bars that came on...      autos   \n",
       "4      A few weeks ago, somebody was looking for some...      autos   \n",
       "...                                                  ...        ...   \n",
       "19995  Just picked up my first 4Runner this week! Lov...      autos   \n",
       "19996  Hello fellow runners-<lb><lb>I wanted to share...      autos   \n",
       "19997  So I picked up a 2002 4Runner recently and the...      autos   \n",
       "19998  Ok so I've posted to r/Jeep and figured I shou...      autos   \n",
       "19999  I read a lot Forums and people recommend getti...      autos   \n",
       "\n",
       "            category_2 category_3  in_data reason_for_exclusion  \n",
       "0      harley davidson        NaN     True                  NaN  \n",
       "1      harley davidson        NaN     True                  NaN  \n",
       "2      harley davidson        NaN     True                  NaN  \n",
       "3      harley davidson        NaN     True                  NaN  \n",
       "4      harley davidson        NaN     True                  NaN  \n",
       "...                ...        ...      ...                  ...  \n",
       "19995           toyota        NaN     True                  NaN  \n",
       "19996           toyota        NaN     True                  NaN  \n",
       "19997           toyota        NaN     True                  NaN  \n",
       "19998           toyota        NaN     True                  NaN  \n",
       "19999           toyota        NaN     True                  NaN  \n",
       "\n",
       "[20000 rows x 9 columns]"
      ]
     },
     "execution_count": 10,
     "metadata": {},
     "output_type": "execute_result"
    }
   ],
   "source": [
    "df"
   ]
  },
  {
   "cell_type": "code",
   "execution_count": 11,
   "id": "cc441169",
   "metadata": {},
   "outputs": [],
   "source": [
    "column_mapping = {\n",
    "    'id': 'id',\n",
    "    'subreddit': 'subreddit',\n",
    "    'title': 'title',\n",
    "    'selftext': 'text',\n",
    "    'category_1': 'category',\n",
    "    'category_2': 'subcategory',\n",
    "    'category_3': None,\n",
    "    'in_data': None,\n",
    "    'reason_for_exclusion': None\n",
    "}"
   ]
  },
  {
   "cell_type": "code",
   "execution_count": 12,
   "id": "3011f392",
   "metadata": {},
   "outputs": [
    {
     "data": {
      "text/plain": [
       "['id', 'subreddit', 'title', 'selftext', 'category_1', 'category_2']"
      ]
     },
     "execution_count": 12,
     "metadata": {},
     "output_type": "execute_result"
    }
   ],
   "source": [
    "columns = [c for c in column_mapping.keys() if column_mapping[c] != None]\n",
    "columns"
   ]
  },
  {
   "cell_type": "code",
   "execution_count": 13,
   "id": "67fb95ca",
   "metadata": {},
   "outputs": [
    {
     "data": {
      "text/html": [
       "<div>\n",
       "<style scoped>\n",
       "    .dataframe tbody tr th:only-of-type {\n",
       "        vertical-align: middle;\n",
       "    }\n",
       "\n",
       "    .dataframe tbody tr th {\n",
       "        vertical-align: top;\n",
       "    }\n",
       "\n",
       "    .dataframe thead th {\n",
       "        text-align: right;\n",
       "    }\n",
       "</style>\n",
       "<table border=\"1\" class=\"dataframe\">\n",
       "  <thead>\n",
       "    <tr style=\"text-align: right;\">\n",
       "      <th></th>\n",
       "      <th>id</th>\n",
       "      <th>subreddit</th>\n",
       "      <th>title</th>\n",
       "      <th>text</th>\n",
       "      <th>category</th>\n",
       "      <th>subcategory</th>\n",
       "    </tr>\n",
       "  </thead>\n",
       "  <tbody>\n",
       "    <tr>\n",
       "      <th>0</th>\n",
       "      <td>8f73s7</td>\n",
       "      <td>Harley</td>\n",
       "      <td>No Club Colors</td>\n",
       "      <td>Funny story. I went to college in Las Vegas. T...</td>\n",
       "      <td>autos</td>\n",
       "      <td>harley davidson</td>\n",
       "    </tr>\n",
       "    <tr>\n",
       "      <th>1</th>\n",
       "      <td>4z6vee</td>\n",
       "      <td>Harley</td>\n",
       "      <td>Mystery Rattle</td>\n",
       "      <td>I have a stock 2010 FXD that has a rate I can'...</td>\n",
       "      <td>autos</td>\n",
       "      <td>harley davidson</td>\n",
       "    </tr>\n",
       "    <tr>\n",
       "      <th>2</th>\n",
       "      <td>6x4tdk</td>\n",
       "      <td>Harley</td>\n",
       "      <td>Gum on tailpipe</td>\n",
       "      <td>So I'm on a bike trip with my father and we st...</td>\n",
       "      <td>autos</td>\n",
       "      <td>harley davidson</td>\n",
       "    </tr>\n",
       "    <tr>\n",
       "      <th>3</th>\n",
       "      <td>7l7rer</td>\n",
       "      <td>Harley</td>\n",
       "      <td>Changing up the bars!</td>\n",
       "      <td>So I’m gonna change out my T bars that came on...</td>\n",
       "      <td>autos</td>\n",
       "      <td>harley davidson</td>\n",
       "    </tr>\n",
       "    <tr>\n",
       "      <th>4</th>\n",
       "      <td>683pc7</td>\n",
       "      <td>Harley</td>\n",
       "      <td>Spent 2 days and made some Mini Floorboards fo...</td>\n",
       "      <td>A few weeks ago, somebody was looking for some...</td>\n",
       "      <td>autos</td>\n",
       "      <td>harley davidson</td>\n",
       "    </tr>\n",
       "    <tr>\n",
       "      <th>...</th>\n",
       "      <td>...</td>\n",
       "      <td>...</td>\n",
       "      <td>...</td>\n",
       "      <td>...</td>\n",
       "      <td>...</td>\n",
       "      <td>...</td>\n",
       "    </tr>\n",
       "    <tr>\n",
       "      <th>19995</th>\n",
       "      <td>7346dx</td>\n",
       "      <td>4Runner</td>\n",
       "      <td>03 JBL Sound System Issue</td>\n",
       "      <td>Just picked up my first 4Runner this week! Lov...</td>\n",
       "      <td>autos</td>\n",
       "      <td>toyota</td>\n",
       "    </tr>\n",
       "    <tr>\n",
       "      <th>19996</th>\n",
       "      <td>5ut9e2</td>\n",
       "      <td>4Runner</td>\n",
       "      <td>2nd gen Comes Back From the Dead With No Tools</td>\n",
       "      <td>Hello fellow runners-&lt;lb&gt;&lt;lb&gt;I wanted to share...</td>\n",
       "      <td>autos</td>\n",
       "      <td>toyota</td>\n",
       "    </tr>\n",
       "    <tr>\n",
       "      <th>19997</th>\n",
       "      <td>66xnwd</td>\n",
       "      <td>4Runner</td>\n",
       "      <td>Tranny cooler in cold temperatures?</td>\n",
       "      <td>So I picked up a 2002 4Runner recently and the...</td>\n",
       "      <td>autos</td>\n",
       "      <td>toyota</td>\n",
       "    </tr>\n",
       "    <tr>\n",
       "      <th>19998</th>\n",
       "      <td>8kvxkg</td>\n",
       "      <td>4Runner</td>\n",
       "      <td>Torn between a Wrangler and a 4 Runner...</td>\n",
       "      <td>Ok so I've posted to r/Jeep and figured I shou...</td>\n",
       "      <td>autos</td>\n",
       "      <td>toyota</td>\n",
       "    </tr>\n",
       "    <tr>\n",
       "      <th>19999</th>\n",
       "      <td>7i2k6y</td>\n",
       "      <td>4Runner</td>\n",
       "      <td>Bilstein Shocks</td>\n",
       "      <td>I read a lot Forums and people recommend getti...</td>\n",
       "      <td>autos</td>\n",
       "      <td>toyota</td>\n",
       "    </tr>\n",
       "  </tbody>\n",
       "</table>\n",
       "<p>20000 rows × 6 columns</p>\n",
       "</div>"
      ],
      "text/plain": [
       "           id subreddit                                              title  \\\n",
       "0      8f73s7    Harley                                     No Club Colors   \n",
       "1      4z6vee    Harley                                     Mystery Rattle   \n",
       "2      6x4tdk    Harley                                    Gum on tailpipe   \n",
       "3      7l7rer    Harley                              Changing up the bars!   \n",
       "4      683pc7    Harley  Spent 2 days and made some Mini Floorboards fo...   \n",
       "...       ...       ...                                                ...   \n",
       "19995  7346dx   4Runner                          03 JBL Sound System Issue   \n",
       "19996  5ut9e2   4Runner     2nd gen Comes Back From the Dead With No Tools   \n",
       "19997  66xnwd   4Runner                Tranny cooler in cold temperatures?   \n",
       "19998  8kvxkg   4Runner          Torn between a Wrangler and a 4 Runner...   \n",
       "19999  7i2k6y   4Runner                                    Bilstein Shocks   \n",
       "\n",
       "                                                    text category  \\\n",
       "0      Funny story. I went to college in Las Vegas. T...    autos   \n",
       "1      I have a stock 2010 FXD that has a rate I can'...    autos   \n",
       "2      So I'm on a bike trip with my father and we st...    autos   \n",
       "3      So I’m gonna change out my T bars that came on...    autos   \n",
       "4      A few weeks ago, somebody was looking for some...    autos   \n",
       "...                                                  ...      ...   \n",
       "19995  Just picked up my first 4Runner this week! Lov...    autos   \n",
       "19996  Hello fellow runners-<lb><lb>I wanted to share...    autos   \n",
       "19997  So I picked up a 2002 4Runner recently and the...    autos   \n",
       "19998  Ok so I've posted to r/Jeep and figured I shou...    autos   \n",
       "19999  I read a lot Forums and people recommend getti...    autos   \n",
       "\n",
       "           subcategory  \n",
       "0      harley davidson  \n",
       "1      harley davidson  \n",
       "2      harley davidson  \n",
       "3      harley davidson  \n",
       "4      harley davidson  \n",
       "...                ...  \n",
       "19995           toyota  \n",
       "19996           toyota  \n",
       "19997           toyota  \n",
       "19998           toyota  \n",
       "19999           toyota  \n",
       "\n",
       "[20000 rows x 6 columns]"
      ]
     },
     "execution_count": 13,
     "metadata": {},
     "output_type": "execute_result"
    }
   ],
   "source": [
    "df = df[columns].rename(columns=column_mapping)\n",
    "df"
   ]
  },
  {
   "cell_type": "code",
   "execution_count": 14,
   "id": "ab50978e",
   "metadata": {},
   "outputs": [
    {
     "data": {
      "text/html": [
       "<div>\n",
       "<style scoped>\n",
       "    .dataframe tbody tr th:only-of-type {\n",
       "        vertical-align: middle;\n",
       "    }\n",
       "\n",
       "    .dataframe tbody tr th {\n",
       "        vertical-align: top;\n",
       "    }\n",
       "\n",
       "    .dataframe thead th {\n",
       "        text-align: right;\n",
       "    }\n",
       "</style>\n",
       "<table border=\"1\" class=\"dataframe\">\n",
       "  <thead>\n",
       "    <tr style=\"text-align: right;\">\n",
       "      <th></th>\n",
       "      <th>id</th>\n",
       "      <th>subreddit</th>\n",
       "      <th>title</th>\n",
       "      <th>text</th>\n",
       "      <th>category</th>\n",
       "      <th>subcategory</th>\n",
       "    </tr>\n",
       "  </thead>\n",
       "  <tbody>\n",
       "    <tr>\n",
       "      <th>0</th>\n",
       "      <td>8f73s7</td>\n",
       "      <td>Harley</td>\n",
       "      <td>No Club Colors</td>\n",
       "      <td>Funny story. I went to college in Las Vegas. T...</td>\n",
       "      <td>autos</td>\n",
       "      <td>harley davidson</td>\n",
       "    </tr>\n",
       "    <tr>\n",
       "      <th>1</th>\n",
       "      <td>4z6vee</td>\n",
       "      <td>Harley</td>\n",
       "      <td>Mystery Rattle</td>\n",
       "      <td>I have a stock 2010 FXD that has a rate I can'...</td>\n",
       "      <td>autos</td>\n",
       "      <td>harley davidson</td>\n",
       "    </tr>\n",
       "    <tr>\n",
       "      <th>2</th>\n",
       "      <td>6x4tdk</td>\n",
       "      <td>Harley</td>\n",
       "      <td>Gum on tailpipe</td>\n",
       "      <td>So I'm on a bike trip with my father and we st...</td>\n",
       "      <td>autos</td>\n",
       "      <td>harley davidson</td>\n",
       "    </tr>\n",
       "    <tr>\n",
       "      <th>3</th>\n",
       "      <td>7l7rer</td>\n",
       "      <td>Harley</td>\n",
       "      <td>Changing up the bars!</td>\n",
       "      <td>So I’m gonna change out my T bars that came on...</td>\n",
       "      <td>autos</td>\n",
       "      <td>harley davidson</td>\n",
       "    </tr>\n",
       "    <tr>\n",
       "      <th>4</th>\n",
       "      <td>683pc7</td>\n",
       "      <td>Harley</td>\n",
       "      <td>Spent 2 days and made some Mini Floorboards fo...</td>\n",
       "      <td>A few weeks ago, somebody was looking for some...</td>\n",
       "      <td>autos</td>\n",
       "      <td>harley davidson</td>\n",
       "    </tr>\n",
       "    <tr>\n",
       "      <th>...</th>\n",
       "      <td>...</td>\n",
       "      <td>...</td>\n",
       "      <td>...</td>\n",
       "      <td>...</td>\n",
       "      <td>...</td>\n",
       "      <td>...</td>\n",
       "    </tr>\n",
       "    <tr>\n",
       "      <th>19995</th>\n",
       "      <td>7346dx</td>\n",
       "      <td>4Runner</td>\n",
       "      <td>03 JBL Sound System Issue</td>\n",
       "      <td>Just picked up my first 4Runner this week! Lov...</td>\n",
       "      <td>autos</td>\n",
       "      <td>toyota</td>\n",
       "    </tr>\n",
       "    <tr>\n",
       "      <th>19996</th>\n",
       "      <td>5ut9e2</td>\n",
       "      <td>4Runner</td>\n",
       "      <td>2nd gen Comes Back From the Dead With No Tools</td>\n",
       "      <td>Hello fellow runners-&lt;lb&gt;&lt;lb&gt;I wanted to share...</td>\n",
       "      <td>autos</td>\n",
       "      <td>toyota</td>\n",
       "    </tr>\n",
       "    <tr>\n",
       "      <th>19997</th>\n",
       "      <td>66xnwd</td>\n",
       "      <td>4Runner</td>\n",
       "      <td>Tranny cooler in cold temperatures?</td>\n",
       "      <td>So I picked up a 2002 4Runner recently and the...</td>\n",
       "      <td>autos</td>\n",
       "      <td>toyota</td>\n",
       "    </tr>\n",
       "    <tr>\n",
       "      <th>19998</th>\n",
       "      <td>8kvxkg</td>\n",
       "      <td>4Runner</td>\n",
       "      <td>Torn between a Wrangler and a 4 Runner...</td>\n",
       "      <td>Ok so I've posted to r/Jeep and figured I shou...</td>\n",
       "      <td>autos</td>\n",
       "      <td>toyota</td>\n",
       "    </tr>\n",
       "    <tr>\n",
       "      <th>19999</th>\n",
       "      <td>7i2k6y</td>\n",
       "      <td>4Runner</td>\n",
       "      <td>Bilstein Shocks</td>\n",
       "      <td>I read a lot Forums and people recommend getti...</td>\n",
       "      <td>autos</td>\n",
       "      <td>toyota</td>\n",
       "    </tr>\n",
       "  </tbody>\n",
       "</table>\n",
       "<p>20000 rows × 6 columns</p>\n",
       "</div>"
      ],
      "text/plain": [
       "           id subreddit                                              title  \\\n",
       "0      8f73s7    Harley                                     No Club Colors   \n",
       "1      4z6vee    Harley                                     Mystery Rattle   \n",
       "2      6x4tdk    Harley                                    Gum on tailpipe   \n",
       "3      7l7rer    Harley                              Changing up the bars!   \n",
       "4      683pc7    Harley  Spent 2 days and made some Mini Floorboards fo...   \n",
       "...       ...       ...                                                ...   \n",
       "19995  7346dx   4Runner                          03 JBL Sound System Issue   \n",
       "19996  5ut9e2   4Runner     2nd gen Comes Back From the Dead With No Tools   \n",
       "19997  66xnwd   4Runner                Tranny cooler in cold temperatures?   \n",
       "19998  8kvxkg   4Runner          Torn between a Wrangler and a 4 Runner...   \n",
       "19999  7i2k6y   4Runner                                    Bilstein Shocks   \n",
       "\n",
       "                                                    text category  \\\n",
       "0      Funny story. I went to college in Las Vegas. T...    autos   \n",
       "1      I have a stock 2010 FXD that has a rate I can'...    autos   \n",
       "2      So I'm on a bike trip with my father and we st...    autos   \n",
       "3      So I’m gonna change out my T bars that came on...    autos   \n",
       "4      A few weeks ago, somebody was looking for some...    autos   \n",
       "...                                                  ...      ...   \n",
       "19995  Just picked up my first 4Runner this week! Lov...    autos   \n",
       "19996  Hello fellow runners-<lb><lb>I wanted to share...    autos   \n",
       "19997  So I picked up a 2002 4Runner recently and the...    autos   \n",
       "19998  Ok so I've posted to r/Jeep and figured I shou...    autos   \n",
       "19999  I read a lot Forums and people recommend getti...    autos   \n",
       "\n",
       "           subcategory  \n",
       "0      harley davidson  \n",
       "1      harley davidson  \n",
       "2      harley davidson  \n",
       "3      harley davidson  \n",
       "4      harley davidson  \n",
       "...                ...  \n",
       "19995           toyota  \n",
       "19996           toyota  \n",
       "19997           toyota  \n",
       "19998           toyota  \n",
       "19999           toyota  \n",
       "\n",
       "[20000 rows x 6 columns]"
      ]
     },
     "execution_count": 14,
     "metadata": {},
     "output_type": "execute_result"
    }
   ],
   "source": [
    "df = df[df.category == \"autos\"]\n",
    "df"
   ]
  },
  {
   "cell_type": "markdown",
   "id": "cd691463",
   "metadata": {},
   "source": [
    "### 1.2 Save the data"
   ]
  },
  {
   "cell_type": "code",
   "execution_count": 15,
   "id": "d6c2ae9c",
   "metadata": {},
   "outputs": [],
   "source": [
    "df.to_pickle(os.path.join(data_path, \"reddit-selfposts/reddit_dataframe.pkl\"))"
   ]
  },
  {
   "cell_type": "code",
   "execution_count": 16,
   "id": "d94bb79a",
   "metadata": {},
   "outputs": [],
   "source": [
    "db_name = \"reddit-selfposts.db\"\n",
    "con = sqlite3.connect(os.path.join(data_path, \"reddit-selfposts\", db_name))\n",
    "df.to_sql(\"posts\", con, index=False, if_exists=\"replace\")\n",
    "con.close()"
   ]
  },
  {
   "cell_type": "code",
   "execution_count": 17,
   "id": "64fa93ee",
   "metadata": {},
   "outputs": [],
   "source": [
    "con = sqlite3.connect(os.path.join(data_path, \"reddit-selfposts\", db_name))\n",
    "pd.read_sql(\"SELECT * FROM posts\", con)\n",
    "con.close()"
   ]
  },
  {
   "cell_type": "markdown",
   "id": "e4717b18",
   "metadata": {},
   "source": [
    "## 2. Cleaning text data"
   ]
  },
  {
   "cell_type": "code",
   "execution_count": 18,
   "id": "5f56e4e1",
   "metadata": {},
   "outputs": [
    {
     "data": {
      "text/plain": [
       "0        Funny story. I went to college in Las Vegas. T...\n",
       "1        I have a stock 2010 FXD that has a rate I can'...\n",
       "2        So I'm on a bike trip with my father and we st...\n",
       "3        So I’m gonna change out my T bars that came on...\n",
       "4        A few weeks ago, somebody was looking for some...\n",
       "                               ...                        \n",
       "19995    Just picked up my first 4Runner this week! Lov...\n",
       "19996    Hello fellow runners-<lb><lb>I wanted to share...\n",
       "19997    So I picked up a 2002 4Runner recently and the...\n",
       "19998    Ok so I've posted to r/Jeep and figured I shou...\n",
       "19999    I read a lot Forums and people recommend getti...\n",
       "Name: text, Length: 20000, dtype: object"
      ]
     },
     "execution_count": 18,
     "metadata": {},
     "output_type": "execute_result"
    }
   ],
   "source": [
    "df.text"
   ]
  },
  {
   "cell_type": "markdown",
   "id": "ed604690",
   "metadata": {},
   "source": [
    "### 2.1 Blueprint: Identify noise with regular expressions"
   ]
  },
  {
   "cell_type": "code",
   "execution_count": 19,
   "id": "a42ad113",
   "metadata": {},
   "outputs": [],
   "source": [
    "RE_SUSPICIOUS = re.compile(r'[&#<>{}\\[\\]\\\\]')"
   ]
  },
  {
   "cell_type": "code",
   "execution_count": 20,
   "id": "48b6db23",
   "metadata": {},
   "outputs": [],
   "source": [
    "def impurity(text, min_len=10):\n",
    "    \"\"\"\n",
    "    returns the sahre of suspicious characters in a text\n",
    "    \"\"\"\n",
    "    if text == None or len(text) < min_len:\n",
    "        return 0\n",
    "    else:\n",
    "        return len(RE_SUSPICIOUS.findall(text))/len(text)"
   ]
  },
  {
   "cell_type": "code",
   "execution_count": 21,
   "id": "7ec551be",
   "metadata": {},
   "outputs": [],
   "source": [
    "df['impurity'] = df['text'].apply(impurity, min_len=10)"
   ]
  },
  {
   "cell_type": "code",
   "execution_count": 22,
   "id": "abcafc6e",
   "metadata": {},
   "outputs": [
    {
     "data": {
      "text/html": [
       "<div>\n",
       "<style scoped>\n",
       "    .dataframe tbody tr th:only-of-type {\n",
       "        vertical-align: middle;\n",
       "    }\n",
       "\n",
       "    .dataframe tbody tr th {\n",
       "        vertical-align: top;\n",
       "    }\n",
       "\n",
       "    .dataframe thead th {\n",
       "        text-align: right;\n",
       "    }\n",
       "</style>\n",
       "<table border=\"1\" class=\"dataframe\">\n",
       "  <thead>\n",
       "    <tr style=\"text-align: right;\">\n",
       "      <th></th>\n",
       "      <th>text</th>\n",
       "      <th>impurity</th>\n",
       "    </tr>\n",
       "  </thead>\n",
       "  <tbody>\n",
       "    <tr>\n",
       "      <th>14983</th>\n",
       "      <td>Looking at buying a 335i with 39k miles and 11...</td>\n",
       "      <td>0.214716</td>\n",
       "    </tr>\n",
       "    <tr>\n",
       "      <th>8630</th>\n",
       "      <td>I'm looking to lease an a4 premium plus automa...</td>\n",
       "      <td>0.165099</td>\n",
       "    </tr>\n",
       "    <tr>\n",
       "      <th>15141</th>\n",
       "      <td>Breakdown below:&lt;lb&gt;&lt;lb&gt;Elantra GT&lt;lb&gt;&lt;lb&gt;2.0L...</td>\n",
       "      <td>0.139130</td>\n",
       "    </tr>\n",
       "  </tbody>\n",
       "</table>\n",
       "</div>"
      ],
      "text/plain": [
       "                                                    text  impurity\n",
       "14983  Looking at buying a 335i with 39k miles and 11...  0.214716\n",
       "8630   I'm looking to lease an a4 premium plus automa...  0.165099\n",
       "15141  Breakdown below:<lb><lb>Elantra GT<lb><lb>2.0L...  0.139130"
      ]
     },
     "execution_count": 22,
     "metadata": {},
     "output_type": "execute_result"
    }
   ],
   "source": [
    "df[[\"text\", \"impurity\"]].sort_values(by=\"impurity\", ascending=False).head(3)"
   ]
  },
  {
   "cell_type": "code",
   "execution_count": 23,
   "id": "cf6be3a8",
   "metadata": {},
   "outputs": [
    {
     "data": {
      "text/html": [
       "<div>\n",
       "<style scoped>\n",
       "    .dataframe tbody tr th:only-of-type {\n",
       "        vertical-align: middle;\n",
       "    }\n",
       "\n",
       "    .dataframe tbody tr th {\n",
       "        vertical-align: top;\n",
       "    }\n",
       "\n",
       "    .dataframe thead th {\n",
       "        text-align: right;\n",
       "    }\n",
       "</style>\n",
       "<table border=\"1\" class=\"dataframe\">\n",
       "  <thead>\n",
       "    <tr style=\"text-align: right;\">\n",
       "      <th></th>\n",
       "      <th>freq</th>\n",
       "    </tr>\n",
       "    <tr>\n",
       "      <th>token</th>\n",
       "      <th></th>\n",
       "    </tr>\n",
       "  </thead>\n",
       "  <tbody>\n",
       "    <tr>\n",
       "      <th>&lt;lb&gt;</th>\n",
       "      <td>100729</td>\n",
       "    </tr>\n",
       "    <tr>\n",
       "      <th>&lt;tab&gt;</th>\n",
       "      <td>642</td>\n",
       "    </tr>\n",
       "  </tbody>\n",
       "</table>\n",
       "</div>"
      ],
      "text/plain": [
       "         freq\n",
       "token        \n",
       "<lb>   100729\n",
       "<tab>     642"
      ]
     },
     "execution_count": 23,
     "metadata": {},
     "output_type": "execute_result"
    }
   ],
   "source": [
    "count_words(df, column='text', preprocess=lambda t: re.findall(r'<[\\w/]*>', t))"
   ]
  },
  {
   "cell_type": "markdown",
   "id": "dcaeaf9d",
   "metadata": {},
   "source": [
    "### 2.2 Blueprint: Removing noise with regular expressions"
   ]
  },
  {
   "cell_type": "code",
   "execution_count": 24,
   "id": "498d18f5",
   "metadata": {},
   "outputs": [],
   "source": [
    "def clean(text):\n",
    "    # convert html escapes like &amp; to characters\n",
    "    text = html.unescape(text)\n",
    "    # tags like <tab>\n",
    "    text = re.sub(r\"<[^<>]*>\", \" \", text)\n",
    "    # markdown URLs like [Some text](https://....)\n",
    "    text = re.sub(r\"\\[([^\\[\\]]*)\\]\\([^\\(\\)]*\\)\", r\"\\1\", text)\n",
    "    # text or code in brackets like [0]\n",
    "    text = re.sub(r\"\\[[^\\[\\]]*\\]\", \" \", text)\n",
    "    # standalone sequences of hyphens like --- or ==\n",
    "    text = re.sub(r\"(?:^|\\s)[\\-=\\+]{2,}(?:\\s|$)\", \" \", text)\n",
    "    # sequences of white spaces\n",
    "    text = re.sub(r\"\\s+\", \" \", text)\n",
    "    return text.strip()"
   ]
  },
  {
   "cell_type": "code",
   "execution_count": 25,
   "id": "061cd976",
   "metadata": {},
   "outputs": [],
   "source": [
    "df[\"clean_text\"] = df.text.apply(clean)"
   ]
  },
  {
   "cell_type": "code",
   "execution_count": 26,
   "id": "f0b23f9d",
   "metadata": {},
   "outputs": [],
   "source": [
    "df[\"impurity\"] = df.clean_text.apply(impurity, min_len=20)"
   ]
  },
  {
   "cell_type": "code",
   "execution_count": 27,
   "id": "a37c291f",
   "metadata": {},
   "outputs": [
    {
     "data": {
      "text/html": [
       "<div>\n",
       "<style scoped>\n",
       "    .dataframe tbody tr th:only-of-type {\n",
       "        vertical-align: middle;\n",
       "    }\n",
       "\n",
       "    .dataframe tbody tr th {\n",
       "        vertical-align: top;\n",
       "    }\n",
       "\n",
       "    .dataframe thead th {\n",
       "        text-align: right;\n",
       "    }\n",
       "</style>\n",
       "<table border=\"1\" class=\"dataframe\">\n",
       "  <thead>\n",
       "    <tr style=\"text-align: right;\">\n",
       "      <th></th>\n",
       "      <th>clean_text</th>\n",
       "      <th>impurity</th>\n",
       "    </tr>\n",
       "  </thead>\n",
       "  <tbody>\n",
       "    <tr>\n",
       "      <th>15361</th>\n",
       "      <td>Split b/w 2 genesis options. Hyundai Genesis\\ ...</td>\n",
       "      <td>0.039867</td>\n",
       "    </tr>\n",
       "    <tr>\n",
       "      <th>1714</th>\n",
       "      <td>Mustang 2018, 2019, or 2020? Must Haves!! 1. H...</td>\n",
       "      <td>0.031980</td>\n",
       "    </tr>\n",
       "    <tr>\n",
       "      <th>17941</th>\n",
       "      <td>Just like the title says, when I am manually s...</td>\n",
       "      <td>0.028914</td>\n",
       "    </tr>\n",
       "    <tr>\n",
       "      <th>16959</th>\n",
       "      <td>At the dealership, they offered an option for ...</td>\n",
       "      <td>0.026455</td>\n",
       "    </tr>\n",
       "    <tr>\n",
       "      <th>12828</th>\n",
       "      <td>I am looking at four Caymans, all are in a sim...</td>\n",
       "      <td>0.024631</td>\n",
       "    </tr>\n",
       "    <tr>\n",
       "      <th>...</th>\n",
       "      <td>...</td>\n",
       "      <td>...</td>\n",
       "    </tr>\n",
       "    <tr>\n",
       "      <th>6866</th>\n",
       "      <td>Im lookin to get a 2008 honda fit with 150000k...</td>\n",
       "      <td>0.000000</td>\n",
       "    </tr>\n",
       "    <tr>\n",
       "      <th>6865</th>\n",
       "      <td>My car when I'm driving and know I'm going to ...</td>\n",
       "      <td>0.000000</td>\n",
       "    </tr>\n",
       "    <tr>\n",
       "      <th>6864</th>\n",
       "      <td>Hey /r/Honda, Ever since upgrading to iOS 11 a...</td>\n",
       "      <td>0.000000</td>\n",
       "    </tr>\n",
       "    <tr>\n",
       "      <th>6863</th>\n",
       "      <td>I just bought a 97 civic with 105k miles on it...</td>\n",
       "      <td>0.000000</td>\n",
       "    </tr>\n",
       "    <tr>\n",
       "      <th>19999</th>\n",
       "      <td>I read a lot Forums and people recommend getti...</td>\n",
       "      <td>0.000000</td>\n",
       "    </tr>\n",
       "  </tbody>\n",
       "</table>\n",
       "<p>20000 rows × 2 columns</p>\n",
       "</div>"
      ],
      "text/plain": [
       "                                              clean_text  impurity\n",
       "15361  Split b/w 2 genesis options. Hyundai Genesis\\ ...  0.039867\n",
       "1714   Mustang 2018, 2019, or 2020? Must Haves!! 1. H...  0.031980\n",
       "17941  Just like the title says, when I am manually s...  0.028914\n",
       "16959  At the dealership, they offered an option for ...  0.026455\n",
       "12828  I am looking at four Caymans, all are in a sim...  0.024631\n",
       "...                                                  ...       ...\n",
       "6866   Im lookin to get a 2008 honda fit with 150000k...  0.000000\n",
       "6865   My car when I'm driving and know I'm going to ...  0.000000\n",
       "6864   Hey /r/Honda, Ever since upgrading to iOS 11 a...  0.000000\n",
       "6863   I just bought a 97 civic with 105k miles on it...  0.000000\n",
       "19999  I read a lot Forums and people recommend getti...  0.000000\n",
       "\n",
       "[20000 rows x 2 columns]"
      ]
     },
     "execution_count": 27,
     "metadata": {},
     "output_type": "execute_result"
    }
   ],
   "source": [
    "df[[\"clean_text\", \"impurity\"]].sort_values(by=\"impurity\", ascending=False)"
   ]
  },
  {
   "cell_type": "markdown",
   "id": "a2fffa48",
   "metadata": {},
   "source": [
    "### 2.3 Blueprint: Character normalization with textacy"
   ]
  },
  {
   "cell_type": "code",
   "execution_count": 28,
   "id": "6543aed1",
   "metadata": {},
   "outputs": [],
   "source": [
    "text = \"The café “Saint-Raphaël” is loca-\\nted on Côte dʼAzur.\""
   ]
  },
  {
   "cell_type": "code",
   "execution_count": 29,
   "id": "70c81b54",
   "metadata": {},
   "outputs": [],
   "source": [
    "def normalize(text):\n",
    "    text = tprep.normalize.hyphenated_words(text)\n",
    "    text = tprep.normalize.quotation_marks(text)\n",
    "    text = tprep.normalize.unicode(text)\n",
    "    text = tprep.remove.accents(text)\n",
    "    return text"
   ]
  },
  {
   "cell_type": "code",
   "execution_count": 30,
   "id": "d25c9038",
   "metadata": {},
   "outputs": [
    {
     "name": "stdout",
     "output_type": "stream",
     "text": [
      "The café “Saint-Raphaël” is loca-\n",
      "ted on Côte dʼAzur.\n"
     ]
    }
   ],
   "source": [
    "print(text)"
   ]
  },
  {
   "cell_type": "code",
   "execution_count": 31,
   "id": "b95c476f",
   "metadata": {},
   "outputs": [
    {
     "name": "stdout",
     "output_type": "stream",
     "text": [
      "The cafe \"Saint-Raphael\" is located on Cote d'Azur.\n"
     ]
    }
   ],
   "source": [
    "print(normalize(text))"
   ]
  },
  {
   "cell_type": "markdown",
   "id": "c5a835a7",
   "metadata": {},
   "source": [
    "### 2.4 Blueprint: Pattern-based data masking with textacy"
   ]
  },
  {
   "cell_type": "code",
   "execution_count": 32,
   "id": "25592c57",
   "metadata": {},
   "outputs": [
    {
     "data": {
      "text/html": [
       "<div>\n",
       "<style scoped>\n",
       "    .dataframe tbody tr th:only-of-type {\n",
       "        vertical-align: middle;\n",
       "    }\n",
       "\n",
       "    .dataframe tbody tr th {\n",
       "        vertical-align: top;\n",
       "    }\n",
       "\n",
       "    .dataframe thead th {\n",
       "        text-align: right;\n",
       "    }\n",
       "</style>\n",
       "<table border=\"1\" class=\"dataframe\">\n",
       "  <thead>\n",
       "    <tr style=\"text-align: right;\">\n",
       "      <th></th>\n",
       "      <th>freq</th>\n",
       "    </tr>\n",
       "    <tr>\n",
       "      <th>token</th>\n",
       "      <th></th>\n",
       "    </tr>\n",
       "  </thead>\n",
       "  <tbody>\n",
       "    <tr>\n",
       "      <th></th>\n",
       "      <td>2448392</td>\n",
       "    </tr>\n",
       "    <tr>\n",
       "      <th>e</th>\n",
       "      <td>1137060</td>\n",
       "    </tr>\n",
       "    <tr>\n",
       "      <th>t</th>\n",
       "      <td>925384</td>\n",
       "    </tr>\n",
       "    <tr>\n",
       "      <th>a</th>\n",
       "      <td>777509</td>\n",
       "    </tr>\n",
       "    <tr>\n",
       "      <th>o</th>\n",
       "      <td>758592</td>\n",
       "    </tr>\n",
       "    <tr>\n",
       "      <th>...</th>\n",
       "      <td>...</td>\n",
       "    </tr>\n",
       "    <tr>\n",
       "      <th>͡</th>\n",
       "      <td>2</td>\n",
       "    </tr>\n",
       "    <tr>\n",
       "      <th>à</th>\n",
       "      <td>2</td>\n",
       "    </tr>\n",
       "    <tr>\n",
       "      <th>😔</th>\n",
       "      <td>2</td>\n",
       "    </tr>\n",
       "    <tr>\n",
       "      <th>³</th>\n",
       "      <td>2</td>\n",
       "    </tr>\n",
       "    <tr>\n",
       "      <th>℃</th>\n",
       "      <td>2</td>\n",
       "    </tr>\n",
       "  </tbody>\n",
       "</table>\n",
       "<p>156 rows × 1 columns</p>\n",
       "</div>"
      ],
      "text/plain": [
       "          freq\n",
       "token         \n",
       "       2448392\n",
       "e      1137060\n",
       "t       925384\n",
       "a       777509\n",
       "o       758592\n",
       "...        ...\n",
       "͡            2\n",
       "à            2\n",
       "😔            2\n",
       "³            2\n",
       "℃            2\n",
       "\n",
       "[156 rows x 1 columns]"
      ]
     },
     "execution_count": 32,
     "metadata": {},
     "output_type": "execute_result"
    }
   ],
   "source": [
    "count_words(df, column=\"clean_text\")"
   ]
  },
  {
   "cell_type": "code",
   "execution_count": 33,
   "id": "238e10cc",
   "metadata": {},
   "outputs": [
    {
     "data": {
      "text/html": [
       "<div>\n",
       "<style scoped>\n",
       "    .dataframe tbody tr th:only-of-type {\n",
       "        vertical-align: middle;\n",
       "    }\n",
       "\n",
       "    .dataframe tbody tr th {\n",
       "        vertical-align: top;\n",
       "    }\n",
       "\n",
       "    .dataframe thead th {\n",
       "        text-align: right;\n",
       "    }\n",
       "</style>\n",
       "<table border=\"1\" class=\"dataframe\">\n",
       "  <thead>\n",
       "    <tr style=\"text-align: right;\">\n",
       "      <th></th>\n",
       "      <th>freq</th>\n",
       "    </tr>\n",
       "    <tr>\n",
       "      <th>token</th>\n",
       "      <th></th>\n",
       "    </tr>\n",
       "  </thead>\n",
       "  <tbody>\n",
       "    <tr>\n",
       "      <th>www.getlowered.com</th>\n",
       "      <td>3</td>\n",
       "    </tr>\n",
       "    <tr>\n",
       "      <th>http://gm-volt.com</th>\n",
       "      <td>2</td>\n",
       "    </tr>\n",
       "    <tr>\n",
       "      <th>https://imgur.com/a/lnFec</th>\n",
       "      <td>2</td>\n",
       "    </tr>\n",
       "    <tr>\n",
       "      <th>https://imgur.com/gallery/rkdv4</th>\n",
       "      <td>2</td>\n",
       "    </tr>\n",
       "    <tr>\n",
       "      <th>https://www.reddit.com/r/Jeep/comments/4ux232/just_ordered_an_android_head_unit_joying_jeep/</th>\n",
       "      <td>2</td>\n",
       "    </tr>\n",
       "    <tr>\n",
       "      <th>http://imgur.com/3hd0dy9</th>\n",
       "      <td>2</td>\n",
       "    </tr>\n",
       "    <tr>\n",
       "      <th>http://ir.tesla.com</th>\n",
       "      <td>2</td>\n",
       "    </tr>\n",
       "    <tr>\n",
       "      <th>https://imgur.com/a/mbS08</th>\n",
       "      <td>2</td>\n",
       "    </tr>\n",
       "    <tr>\n",
       "      <th>http://www.ecolamautomotive.com/#!2/kv7fq</th>\n",
       "      <td>2</td>\n",
       "    </tr>\n",
       "    <tr>\n",
       "      <th>https://imgur.com/a/MXnni)</th>\n",
       "      <td>2</td>\n",
       "    </tr>\n",
       "    <tr>\n",
       "      <th>http://imgur.com/gallery/XkRsw</th>\n",
       "      <td>2</td>\n",
       "    </tr>\n",
       "    <tr>\n",
       "      <th>http://imgur.com/a/tIVhr</th>\n",
       "      <td>2</td>\n",
       "    </tr>\n",
       "    <tr>\n",
       "      <th>https://www.youtube.com/watch?v=DuTI_jlA8v8</th>\n",
       "      <td>2</td>\n",
       "    </tr>\n",
       "    <tr>\n",
       "      <th>http://imgur.com/m0Qbj1M</th>\n",
       "      <td>2</td>\n",
       "    </tr>\n",
       "    <tr>\n",
       "      <th>http://imgur.com/JO7qBPo</th>\n",
       "      <td>2</td>\n",
       "    </tr>\n",
       "    <tr>\n",
       "      <th>https://www.kbb.com/ford/mustang/2008/deluxe-coupe-2d/?vehicleid=197133&amp;intent=buy-used&amp;options=6279827%7ctrue&amp;category=coupe&amp;mileage=90000&amp;pricetype=retail&amp;condition=good)</th>\n",
       "      <td>2</td>\n",
       "    </tr>\n",
       "    <tr>\n",
       "      <th>https://rochester.craigslist.org/cto/d/hyundai-genesis-coupe-track/6200414183.html</th>\n",
       "      <td>2</td>\n",
       "    </tr>\n",
       "  </tbody>\n",
       "</table>\n",
       "</div>"
      ],
      "text/plain": [
       "                                                    freq\n",
       "token                                                   \n",
       "www.getlowered.com                                     3\n",
       "http://gm-volt.com                                     2\n",
       "https://imgur.com/a/lnFec                              2\n",
       "https://imgur.com/gallery/rkdv4                        2\n",
       "https://www.reddit.com/r/Jeep/comments/4ux232/j...     2\n",
       "http://imgur.com/3hd0dy9                               2\n",
       "http://ir.tesla.com                                    2\n",
       "https://imgur.com/a/mbS08                              2\n",
       "http://www.ecolamautomotive.com/#!2/kv7fq              2\n",
       "https://imgur.com/a/MXnni)                             2\n",
       "http://imgur.com/gallery/XkRsw                         2\n",
       "http://imgur.com/a/tIVhr                               2\n",
       "https://www.youtube.com/watch?v=DuTI_jlA8v8            2\n",
       "http://imgur.com/m0Qbj1M                               2\n",
       "http://imgur.com/JO7qBPo                               2\n",
       "https://www.kbb.com/ford/mustang/2008/deluxe-co...     2\n",
       "https://rochester.craigslist.org/cto/d/hyundai-...     2"
      ]
     },
     "execution_count": 33,
     "metadata": {},
     "output_type": "execute_result"
    }
   ],
   "source": [
    "count_words(df, column=\"clean_text\", preprocess=RE_URL.findall)"
   ]
  },
  {
   "cell_type": "code",
   "execution_count": 34,
   "id": "0135c080",
   "metadata": {},
   "outputs": [
    {
     "name": "stdout",
     "output_type": "stream",
     "text": [
      "Check out _URL_\n"
     ]
    }
   ],
   "source": [
    "text = \"Check out https://spacy.io/usage/spacy-101\"\n",
    "print(tprep.replace.urls(text))"
   ]
  },
  {
   "cell_type": "code",
   "execution_count": 35,
   "id": "7d656c30",
   "metadata": {},
   "outputs": [],
   "source": [
    "df[\"clean_text\"] = df.clean_text.map(tprep.replace.urls)\n",
    "df[\"clean_text\"] = df.clean_text.map(normalize)"
   ]
  },
  {
   "cell_type": "code",
   "execution_count": 36,
   "id": "68c5fde0",
   "metadata": {},
   "outputs": [
    {
     "data": {
      "text/plain": [
       "0        Funny story. I went to college in Las Vegas. T...\n",
       "1        I have a stock 2010 FXD that has a rate I can'...\n",
       "2        So I'm on a bike trip with my father and we st...\n",
       "3        So I'm gonna change out my T bars that came on...\n",
       "4        A few weeks ago, somebody was looking for some...\n",
       "                               ...                        \n",
       "19995    Just picked up my first 4Runner this week! Lov...\n",
       "19996    Hello fellow runners- I wanted to share my rec...\n",
       "19997    So I picked up a 2002 4Runner recently and the...\n",
       "19998    Ok so I've posted to r/Jeep and figured I shou...\n",
       "19999    I read a lot Forums and people recommend getti...\n",
       "Name: clean_text, Length: 20000, dtype: object"
      ]
     },
     "execution_count": 36,
     "metadata": {},
     "output_type": "execute_result"
    }
   ],
   "source": [
    "df.clean_text"
   ]
  },
  {
   "cell_type": "code",
   "execution_count": 37,
   "id": "45f9d303",
   "metadata": {},
   "outputs": [],
   "source": [
    "df.rename(columns={\"text\": \"raw_text\", \"clean_text\": \"text\"}, inplace=True)\n",
    "df.drop(columns=[\"impurity\"], inplace=True)"
   ]
  },
  {
   "cell_type": "code",
   "execution_count": 38,
   "id": "71b953a4",
   "metadata": {},
   "outputs": [],
   "source": [
    "con = sqlite3.connect(os.path.join(data_path, \"reddit-selfposts\", db_name))\n",
    "df.to_sql(\"posts_cleaned\", con, index=False, if_exists=\"replace\")\n",
    "con.close()"
   ]
  },
  {
   "cell_type": "code",
   "execution_count": 39,
   "id": "13ec11ed",
   "metadata": {},
   "outputs": [],
   "source": [
    "con = sqlite3.connect(os.path.join(data_path, \"reddit-selfposts\", db_name))\n",
    "x = pd.read_sql(\"SELECT * FROM posts_cleaned\", con)\n",
    "con.close()"
   ]
  },
  {
   "cell_type": "markdown",
   "id": "4357b21a",
   "metadata": {},
   "source": [
    "## 3. Tokenization"
   ]
  },
  {
   "cell_type": "code",
   "execution_count": 40,
   "id": "132edd28",
   "metadata": {},
   "outputs": [],
   "source": [
    "text = \"\"\"\n",
    "2019-08-10 23:32: @pete/@louis - I don't have a well-designed \n",
    "solution for today's problem. The code of module AC68 should be -1. \n",
    "Have to think a bit... #goodnight ;-) 😩😬\"\"\""
   ]
  },
  {
   "cell_type": "markdown",
   "id": "6ef41dc9",
   "metadata": {},
   "source": [
    "### 3.1 Blueprint: Tokenization with regular expressions"
   ]
  },
  {
   "cell_type": "code",
   "execution_count": 41,
   "id": "7b68a648",
   "metadata": {},
   "outputs": [
    {
     "name": "stdout",
     "output_type": "stream",
     "text": [
      "2019|08|10|23|32|pete|louis|don|have|well|designed|solution|for|today|problem|The|code|of|module|AC68|should|be|Have|to|think|bit|goodnight\n"
     ]
    }
   ],
   "source": [
    "tokens = re.findall(r\"\\w\\w+\", text)\n",
    "print(*tokens, sep=\"|\")"
   ]
  },
  {
   "cell_type": "code",
   "execution_count": 42,
   "id": "643db3cc",
   "metadata": {},
   "outputs": [
    {
     "name": "stdout",
     "output_type": "stream",
     "text": [
      "2019-08-10|23:32|@pete|@louis|I|don't|have|a|well-designed|solution|for|today's|problem|The|code|of|module|AC68|should|be|-1|Have|to|think|a|bit|#goodnight|;-)|😩|😬\n"
     ]
    }
   ],
   "source": [
    "RE_TOKEN = re.compile(r\"\"\"\n",
    "               ( [#]?[@\\w'’\\.\\-\\:]*\\w     # words, hash tags and email adresses\n",
    "               | [:;<]\\-?[\\)\\(3]          # coarse pattern for basic text emojis\n",
    "               | [\\U0001F100-\\U0001FFFF]  # coarse code range for unicode emojis\n",
    "               )\n",
    "               \"\"\", re.VERBOSE)\n",
    "\n",
    "def tokenize(text):\n",
    "    return RE_TOKEN.findall(text)\n",
    "\n",
    "tokens = tokenize(text)\n",
    "print(*tokens, sep='|')"
   ]
  },
  {
   "cell_type": "markdown",
   "id": "eba72064",
   "metadata": {},
   "source": [
    "### 3.2 Tokenization with NLTK"
   ]
  },
  {
   "cell_type": "code",
   "execution_count": 43,
   "id": "395e631a",
   "metadata": {},
   "outputs": [
    {
     "name": "stdout",
     "output_type": "stream",
     "text": [
      "2019-08-10|23:32|:|@|pete/|@|louis|-|I|do|n't|have|a|well-designed|solution|for|today|'s|problem|.|The|code|of|module|AC68|should|be|-1|.|Have|to|think|a|bit|...|#|goodnight|;|-|)|😩😬\n"
     ]
    }
   ],
   "source": [
    "tokens = nltk.tokenize.word_tokenize(text)\n",
    "print(*tokens, sep=\"|\")"
   ]
  },
  {
   "cell_type": "code",
   "execution_count": 44,
   "id": "3bf6eac5",
   "metadata": {},
   "outputs": [
    {
     "name": "stderr",
     "output_type": "stream",
     "text": [
      "[nltk_data] Downloading package punkt to /home/nicolas/nltk_data...\n",
      "[nltk_data]   Package punkt is already up-to-date!\n"
     ]
    },
    {
     "data": {
      "text/plain": [
       "True"
      ]
     },
     "execution_count": 44,
     "metadata": {},
     "output_type": "execute_result"
    }
   ],
   "source": [
    "nltk.download('punkt')"
   ]
  },
  {
   "cell_type": "code",
   "execution_count": 45,
   "id": "30f26beb",
   "metadata": {},
   "outputs": [
    {
     "name": "stdout",
     "output_type": "stream",
     "text": [
      "2019-08-|10|23:32|:|@pete|/|@louis|-|I|don't|have|a|well-designed|solution|for|today's|problem|.|The|code|of|module|AC68|should|be|-|1|.|Have|to|think|a|bit|...|#goodnight|;-)|😩|😬\n"
     ]
    }
   ],
   "source": [
    "# Not in book: Tweet Tokenizer\n",
    "tokenizer = nltk.tokenize.TweetTokenizer()\n",
    "tokens = tokenizer.tokenize(text)\n",
    "print(*tokens, sep='|')"
   ]
  },
  {
   "cell_type": "markdown",
   "id": "d1bdd54c",
   "metadata": {},
   "source": [
    "## 4. Linguistic processing with spacy"
   ]
  },
  {
   "cell_type": "code",
   "execution_count": 46,
   "id": "8e827422",
   "metadata": {},
   "outputs": [
    {
     "name": "stdout",
     "output_type": "stream",
     "text": [
      "2023-01-09 21:39:18.199896: W tensorflow/stream_executor/platform/default/dso_loader.cc:60] Could not load dynamic library 'libcudart.so.11.0'; dlerror: libcudart.so.11.0: cannot open shared object file: No such file or directory\n",
      "2023-01-09 21:39:18.199926: I tensorflow/stream_executor/cuda/cudart_stub.cc:29] Ignore above cudart dlerror if you do not have a GPU set up on your machine.\n",
      "2023-01-09 21:39:19.393002: I tensorflow/compiler/jit/xla_cpu_device.cc:41] Not creating XLA devices, tf_xla_enable_xla_devices not set\n",
      "2023-01-09 21:39:19.393076: I tensorflow/stream_executor/platform/default/dso_loader.cc:49] Successfully opened dynamic library libcuda.so.1\n",
      "2023-01-09 21:39:19.393185: I tensorflow/stream_executor/cuda/cuda_gpu_executor.cc:941] successful NUMA node read from SysFS had negative value (-1), but there must be at least one NUMA node, so returning NUMA node zero\n",
      "2023-01-09 21:39:19.393542: I tensorflow/core/common_runtime/gpu/gpu_device.cc:1720] Found device 0 with properties: \n",
      "pciBusID: 0000:26:00.0 name: NVIDIA GeForce GTX 1660 Ti computeCapability: 7.5\n",
      "coreClock: 1.875GHz coreCount: 24 deviceMemorySize: 5.80GiB deviceMemoryBandwidth: 268.26GiB/s\n",
      "2023-01-09 21:39:19.393650: W tensorflow/stream_executor/platform/default/dso_loader.cc:60] Could not load dynamic library 'libcudart.so.11.0'; dlerror: libcudart.so.11.0: cannot open shared object file: No such file or directory\n",
      "2023-01-09 21:39:19.393697: W tensorflow/stream_executor/platform/default/dso_loader.cc:60] Could not load dynamic library 'libcublas.so.11'; dlerror: libcublas.so.11: cannot open shared object file: No such file or directory\n",
      "2023-01-09 21:39:19.393739: W tensorflow/stream_executor/platform/default/dso_loader.cc:60] Could not load dynamic library 'libcublasLt.so.11'; dlerror: libcublasLt.so.11: cannot open shared object file: No such file or directory\n",
      "2023-01-09 21:39:19.393770: I tensorflow/stream_executor/platform/default/dso_loader.cc:49] Successfully opened dynamic library libcufft.so.10\n",
      "2023-01-09 21:39:19.393790: I tensorflow/stream_executor/platform/default/dso_loader.cc:49] Successfully opened dynamic library libcurand.so.10\n",
      "2023-01-09 21:39:19.393811: I tensorflow/stream_executor/platform/default/dso_loader.cc:49] Successfully opened dynamic library libcusolver.so.10\n",
      "2023-01-09 21:39:19.393849: W tensorflow/stream_executor/platform/default/dso_loader.cc:60] Could not load dynamic library 'libcusparse.so.11'; dlerror: libcusparse.so.11: cannot open shared object file: No such file or directory\n",
      "2023-01-09 21:39:19.393890: W tensorflow/stream_executor/platform/default/dso_loader.cc:60] Could not load dynamic library 'libcudnn.so.8'; dlerror: libcudnn.so.8: cannot open shared object file: No such file or directory\n",
      "2023-01-09 21:39:19.393899: W tensorflow/core/common_runtime/gpu/gpu_device.cc:1757] Cannot dlopen some GPU libraries. Please make sure the missing libraries mentioned above are installed properly if you would like to use GPU. Follow the guide at https://www.tensorflow.org/install/gpu for how to download and setup the required libraries for your platform.\n",
      "Skipping registering GPU devices...\n",
      "Collecting en-core-web-sm==3.4.1\n",
      "  Downloading https://github.com/explosion/spacy-models/releases/download/en_core_web_sm-3.4.1/en_core_web_sm-3.4.1-py3-none-any.whl (12.8 MB)\n",
      "\u001b[2K     \u001b[38;2;114;156;31m━━━━━━━━━━━━━━━━━━━━━━━━━━━━━━━━━━━━━━━━\u001b[0m \u001b[32m12.8/12.8 MB\u001b[0m \u001b[31m4.5 MB/s\u001b[0m eta \u001b[36m0:00:00\u001b[0mm eta \u001b[36m0:00:01\u001b[0m[36m0:00:01\u001b[0m\n",
      "\u001b[?25hRequirement already satisfied: spacy<3.5.0,>=3.4.0 in /home/nicolas/anaconda3/lib/python3.8/site-packages (from en-core-web-sm==3.4.1) (3.4.4)\n",
      "Requirement already satisfied: spacy-loggers<2.0.0,>=1.0.0 in /home/nicolas/anaconda3/lib/python3.8/site-packages (from spacy<3.5.0,>=3.4.0->en-core-web-sm==3.4.1) (1.0.3)\n",
      "Requirement already satisfied: cymem<2.1.0,>=2.0.2 in /home/nicolas/anaconda3/lib/python3.8/site-packages (from spacy<3.5.0,>=3.4.0->en-core-web-sm==3.4.1) (2.0.7)\n",
      "Requirement already satisfied: requests<3.0.0,>=2.13.0 in /home/nicolas/anaconda3/lib/python3.8/site-packages (from spacy<3.5.0,>=3.4.0->en-core-web-sm==3.4.1) (2.27.1)\n",
      "Requirement already satisfied: murmurhash<1.1.0,>=0.28.0 in /home/nicolas/anaconda3/lib/python3.8/site-packages (from spacy<3.5.0,>=3.4.0->en-core-web-sm==3.4.1) (1.0.9)\n",
      "Requirement already satisfied: spacy-legacy<3.1.0,>=3.0.10 in /home/nicolas/anaconda3/lib/python3.8/site-packages (from spacy<3.5.0,>=3.4.0->en-core-web-sm==3.4.1) (3.0.10)\n",
      "Requirement already satisfied: wasabi<1.1.0,>=0.9.1 in /home/nicolas/anaconda3/lib/python3.8/site-packages (from spacy<3.5.0,>=3.4.0->en-core-web-sm==3.4.1) (0.10.1)\n",
      "Requirement already satisfied: pydantic!=1.8,!=1.8.1,<1.11.0,>=1.7.4 in /home/nicolas/anaconda3/lib/python3.8/site-packages (from spacy<3.5.0,>=3.4.0->en-core-web-sm==3.4.1) (1.10.2)\n",
      "Requirement already satisfied: pathy>=0.3.5 in /home/nicolas/anaconda3/lib/python3.8/site-packages (from spacy<3.5.0,>=3.4.0->en-core-web-sm==3.4.1) (0.10.0)\n",
      "Requirement already satisfied: smart-open<7.0.0,>=5.2.1 in /home/nicolas/anaconda3/lib/python3.8/site-packages (from spacy<3.5.0,>=3.4.0->en-core-web-sm==3.4.1) (5.2.1)\n",
      "Requirement already satisfied: thinc<8.2.0,>=8.1.0 in /home/nicolas/anaconda3/lib/python3.8/site-packages (from spacy<3.5.0,>=3.4.0->en-core-web-sm==3.4.1) (8.1.5)\n",
      "Requirement already satisfied: langcodes<4.0.0,>=3.2.0 in /home/nicolas/anaconda3/lib/python3.8/site-packages (from spacy<3.5.0,>=3.4.0->en-core-web-sm==3.4.1) (3.3.0)\n",
      "Requirement already satisfied: tqdm<5.0.0,>=4.38.0 in /home/nicolas/anaconda3/lib/python3.8/site-packages (from spacy<3.5.0,>=3.4.0->en-core-web-sm==3.4.1) (4.62.3)\n",
      "Requirement already satisfied: preshed<3.1.0,>=3.0.2 in /home/nicolas/anaconda3/lib/python3.8/site-packages (from spacy<3.5.0,>=3.4.0->en-core-web-sm==3.4.1) (3.0.8)\n",
      "Requirement already satisfied: typer<0.8.0,>=0.3.0 in /home/nicolas/anaconda3/lib/python3.8/site-packages (from spacy<3.5.0,>=3.4.0->en-core-web-sm==3.4.1) (0.7.0)\n",
      "Requirement already satisfied: jinja2 in /home/nicolas/anaconda3/lib/python3.8/site-packages (from spacy<3.5.0,>=3.4.0->en-core-web-sm==3.4.1) (3.0.2)\n",
      "Requirement already satisfied: setuptools in /home/nicolas/anaconda3/lib/python3.8/site-packages (from spacy<3.5.0,>=3.4.0->en-core-web-sm==3.4.1) (65.6.3)\n",
      "Requirement already satisfied: packaging>=20.0 in /home/nicolas/anaconda3/lib/python3.8/site-packages (from spacy<3.5.0,>=3.4.0->en-core-web-sm==3.4.1) (21.3)\n",
      "Requirement already satisfied: numpy>=1.15.0 in /home/nicolas/anaconda3/lib/python3.8/site-packages (from spacy<3.5.0,>=3.4.0->en-core-web-sm==3.4.1) (1.22.3)\n",
      "Requirement already satisfied: catalogue<2.1.0,>=2.0.6 in /home/nicolas/anaconda3/lib/python3.8/site-packages (from spacy<3.5.0,>=3.4.0->en-core-web-sm==3.4.1) (2.0.8)\n",
      "Requirement already satisfied: srsly<3.0.0,>=2.4.3 in /home/nicolas/anaconda3/lib/python3.8/site-packages (from spacy<3.5.0,>=3.4.0->en-core-web-sm==3.4.1) (2.4.5)\n",
      "Requirement already satisfied: pyparsing!=3.0.5,>=2.0.2 in /home/nicolas/anaconda3/lib/python3.8/site-packages (from packaging>=20.0->spacy<3.5.0,>=3.4.0->en-core-web-sm==3.4.1) (3.0.4)\n",
      "Requirement already satisfied: typing-extensions>=4.1.0 in /home/nicolas/anaconda3/lib/python3.8/site-packages (from pydantic!=1.8,!=1.8.1,<1.11.0,>=1.7.4->spacy<3.5.0,>=3.4.0->en-core-web-sm==3.4.1) (4.4.0)\n",
      "Requirement already satisfied: idna<4,>=2.5 in /home/nicolas/anaconda3/lib/python3.8/site-packages (from requests<3.0.0,>=2.13.0->spacy<3.5.0,>=3.4.0->en-core-web-sm==3.4.1) (3.3)\n",
      "Requirement already satisfied: certifi>=2017.4.17 in /home/nicolas/anaconda3/lib/python3.8/site-packages (from requests<3.0.0,>=2.13.0->spacy<3.5.0,>=3.4.0->en-core-web-sm==3.4.1) (2021.10.8)\n",
      "Requirement already satisfied: charset-normalizer~=2.0.0 in /home/nicolas/anaconda3/lib/python3.8/site-packages (from requests<3.0.0,>=2.13.0->spacy<3.5.0,>=3.4.0->en-core-web-sm==3.4.1) (2.0.4)\n",
      "Requirement already satisfied: urllib3<1.27,>=1.21.1 in /home/nicolas/anaconda3/lib/python3.8/site-packages (from requests<3.0.0,>=2.13.0->spacy<3.5.0,>=3.4.0->en-core-web-sm==3.4.1) (1.26.8)\n",
      "Requirement already satisfied: confection<1.0.0,>=0.0.1 in /home/nicolas/anaconda3/lib/python3.8/site-packages (from thinc<8.2.0,>=8.1.0->spacy<3.5.0,>=3.4.0->en-core-web-sm==3.4.1) (0.0.3)\n",
      "Requirement already satisfied: blis<0.8.0,>=0.7.8 in /home/nicolas/anaconda3/lib/python3.8/site-packages (from thinc<8.2.0,>=8.1.0->spacy<3.5.0,>=3.4.0->en-core-web-sm==3.4.1) (0.7.9)\n",
      "Requirement already satisfied: click<9.0.0,>=7.1.1 in /home/nicolas/anaconda3/lib/python3.8/site-packages (from typer<0.8.0,>=0.3.0->spacy<3.5.0,>=3.4.0->en-core-web-sm==3.4.1) (8.0.3)\n",
      "Requirement already satisfied: MarkupSafe>=2.0 in /home/nicolas/anaconda3/lib/python3.8/site-packages (from jinja2->spacy<3.5.0,>=3.4.0->en-core-web-sm==3.4.1) (2.0.1)\n"
     ]
    },
    {
     "name": "stdout",
     "output_type": "stream",
     "text": [
      "\u001b[38;5;2m✔ Download and installation successful\u001b[0m\r\n",
      "You can now load the package via spacy.load('en_core_web_sm')\r\n"
     ]
    }
   ],
   "source": [
    "!python -m spacy download en_core_web_sm"
   ]
  },
  {
   "cell_type": "code",
   "execution_count": 47,
   "id": "806f4bdc",
   "metadata": {},
   "outputs": [],
   "source": [
    "nlp = spacy.load(\"en_core_web_sm\")"
   ]
  },
  {
   "cell_type": "code",
   "execution_count": 48,
   "id": "617d6f3a",
   "metadata": {},
   "outputs": [
    {
     "data": {
      "text/plain": [
       "[('tok2vec', <spacy.pipeline.tok2vec.Tok2Vec at 0x7f363d188e20>),\n",
       " ('tagger', <spacy.pipeline.tagger.Tagger at 0x7f363d193400>),\n",
       " ('parser', <spacy.pipeline.dep_parser.DependencyParser at 0x7f376df340b0>),\n",
       " ('attribute_ruler',\n",
       "  <spacy.pipeline.attributeruler.AttributeRuler at 0x7f376de9b580>),\n",
       " ('lemmatizer',\n",
       "  <spacy.lang.en.lemmatizer.EnglishLemmatizer at 0x7f376dea4500>),\n",
       " ('ner', <spacy.pipeline.ner.EntityRecognizer at 0x7f376df34200>)]"
      ]
     },
     "execution_count": 48,
     "metadata": {},
     "output_type": "execute_result"
    }
   ],
   "source": [
    "nlp.pipeline"
   ]
  },
  {
   "cell_type": "code",
   "execution_count": 49,
   "id": "c844f285",
   "metadata": {},
   "outputs": [
    {
     "data": {
      "text/plain": [
       "[('tok2vec', <spacy.pipeline.tok2vec.Tok2Vec at 0x7f363d2bb100>),\n",
       " ('tagger', <spacy.pipeline.tagger.Tagger at 0x7f363d2baf40>),\n",
       " ('attribute_ruler',\n",
       "  <spacy.pipeline.attributeruler.AttributeRuler at 0x7f376cd9d3c0>),\n",
       " ('lemmatizer',\n",
       "  <spacy.lang.en.lemmatizer.EnglishLemmatizer at 0x7f376cda4480>)]"
      ]
     },
     "execution_count": 49,
     "metadata": {},
     "output_type": "execute_result"
    }
   ],
   "source": [
    "nlp = spacy.load(\"en_core_web_sm\", disable=[\"parser\", \"ner\"])\n",
    "nlp.pipeline"
   ]
  },
  {
   "cell_type": "markdown",
   "id": "36df6797",
   "metadata": {},
   "source": [
    "### 4.1 Processing Text"
   ]
  },
  {
   "cell_type": "code",
   "execution_count": 50,
   "id": "2d634560",
   "metadata": {},
   "outputs": [],
   "source": [
    "text = \"My best friend Ryan Peters likes fancy adventure games.\""
   ]
  },
  {
   "cell_type": "code",
   "execution_count": 51,
   "id": "819e7e40",
   "metadata": {},
   "outputs": [],
   "source": [
    "nlp = spacy.load(\"en_core_web_sm\")\n",
    "doc = nlp(text)"
   ]
  },
  {
   "cell_type": "code",
   "execution_count": 52,
   "id": "83d59f99",
   "metadata": {},
   "outputs": [
    {
     "data": {
      "text/plain": [
       "My best friend Ryan Peters likes fancy adventure games."
      ]
     },
     "execution_count": 52,
     "metadata": {},
     "output_type": "execute_result"
    }
   ],
   "source": [
    "doc"
   ]
  },
  {
   "cell_type": "code",
   "execution_count": 53,
   "id": "e6cbdfa5",
   "metadata": {},
   "outputs": [
    {
     "data": {
      "text/plain": [
       "['_',\n",
       " '__bytes__',\n",
       " '__class__',\n",
       " '__delattr__',\n",
       " '__dir__',\n",
       " '__doc__',\n",
       " '__eq__',\n",
       " '__format__',\n",
       " '__ge__',\n",
       " '__getattribute__',\n",
       " '__getitem__',\n",
       " '__gt__',\n",
       " '__hash__',\n",
       " '__init__',\n",
       " '__init_subclass__',\n",
       " '__iter__',\n",
       " '__le__',\n",
       " '__len__',\n",
       " '__lt__',\n",
       " '__ne__',\n",
       " '__new__',\n",
       " '__pyx_vtable__',\n",
       " '__reduce__',\n",
       " '__reduce_ex__',\n",
       " '__repr__',\n",
       " '__setattr__',\n",
       " '__setstate__',\n",
       " '__sizeof__',\n",
       " '__str__',\n",
       " '__subclasshook__',\n",
       " '__unicode__',\n",
       " '_bulk_merge',\n",
       " '_context',\n",
       " '_get_array_attrs',\n",
       " '_realloc',\n",
       " '_vector',\n",
       " '_vector_norm',\n",
       " 'cats',\n",
       " 'char_span',\n",
       " 'copy',\n",
       " 'count_by',\n",
       " 'doc',\n",
       " 'ents',\n",
       " 'extend_tensor',\n",
       " 'from_array',\n",
       " 'from_bytes',\n",
       " 'from_dict',\n",
       " 'from_disk',\n",
       " 'from_docs',\n",
       " 'from_json',\n",
       " 'get_extension',\n",
       " 'get_lca_matrix',\n",
       " 'has_annotation',\n",
       " 'has_extension',\n",
       " 'has_unknown_spaces',\n",
       " 'has_vector',\n",
       " 'is_nered',\n",
       " 'is_parsed',\n",
       " 'is_sentenced',\n",
       " 'is_tagged',\n",
       " 'lang',\n",
       " 'lang_',\n",
       " 'mem',\n",
       " 'noun_chunks',\n",
       " 'noun_chunks_iterator',\n",
       " 'remove_extension',\n",
       " 'retokenize',\n",
       " 'sentiment',\n",
       " 'sents',\n",
       " 'set_ents',\n",
       " 'set_extension',\n",
       " 'similarity',\n",
       " 'spans',\n",
       " 'tensor',\n",
       " 'text',\n",
       " 'text_with_ws',\n",
       " 'to_array',\n",
       " 'to_bytes',\n",
       " 'to_dict',\n",
       " 'to_disk',\n",
       " 'to_json',\n",
       " 'to_utf8_array',\n",
       " 'user_data',\n",
       " 'user_hooks',\n",
       " 'user_span_hooks',\n",
       " 'user_token_hooks',\n",
       " 'vector',\n",
       " 'vector_norm',\n",
       " 'vocab']"
      ]
     },
     "execution_count": 53,
     "metadata": {},
     "output_type": "execute_result"
    }
   ],
   "source": [
    "dir(doc)"
   ]
  },
  {
   "cell_type": "code",
   "execution_count": 54,
   "id": "3fb86ca4",
   "metadata": {},
   "outputs": [
    {
     "name": "stdout",
     "output_type": "stream",
     "text": [
      "My|best|friend|Ryan|Peters|likes|fancy|adventure|games|.|"
     ]
    }
   ],
   "source": [
    "for token in doc:\n",
    "    print(token, end=\"|\")"
   ]
  },
  {
   "cell_type": "code",
   "execution_count": 55,
   "id": "9011603c",
   "metadata": {},
   "outputs": [
    {
     "data": {
      "text/plain": [
       "My best friend Ryan Peters likes fancy adventure games."
      ]
     },
     "execution_count": 55,
     "metadata": {},
     "output_type": "execute_result"
    }
   ],
   "source": [
    "doc"
   ]
  },
  {
   "cell_type": "code",
   "execution_count": 56,
   "id": "84652d82",
   "metadata": {},
   "outputs": [
    {
     "data": {
      "text/plain": [
       "'My best friend Ryan Peters likes fancy adventure games.'"
      ]
     },
     "execution_count": 56,
     "metadata": {},
     "output_type": "execute_result"
    }
   ],
   "source": [
    "doc.text"
   ]
  },
  {
   "cell_type": "code",
   "execution_count": 57,
   "id": "512a88b7",
   "metadata": {},
   "outputs": [
    {
     "name": "stdout",
     "output_type": "stream",
     "text": [
      "True PRON\n",
      "False ADJ\n",
      "False NOUN\n",
      "False PROPN\n",
      "False PROPN\n",
      "False VERB\n",
      "False ADJ\n",
      "False NOUN\n",
      "False NOUN\n",
      "False PUNCT\n"
     ]
    }
   ],
   "source": [
    "for t in doc:\n",
    "    print(t.is_stop, t.pos_)"
   ]
  },
  {
   "cell_type": "markdown",
   "id": "e4963342",
   "metadata": {},
   "source": [
    "### 4.2 Customizing tokenization"
   ]
  },
  {
   "cell_type": "code",
   "execution_count": 58,
   "id": "d88912c1",
   "metadata": {},
   "outputs": [],
   "source": [
    "text = \"@Pete: choose low-carb #food #eat-smart. _url_ ;-) 😋👍\""
   ]
  },
  {
   "cell_type": "code",
   "execution_count": 59,
   "id": "5178c177",
   "metadata": {},
   "outputs": [],
   "source": [
    "doc = nlp(text)"
   ]
  },
  {
   "cell_type": "code",
   "execution_count": 60,
   "id": "73efc926",
   "metadata": {},
   "outputs": [
    {
     "name": "stdout",
     "output_type": "stream",
     "text": [
      "@Pete|:|choose|low|-|carb|#|food|#|eat|-|smart|.|_|url|_|;-)|😋|👍|"
     ]
    }
   ],
   "source": [
    "for token in doc:\n",
    "    print(token, end=\"|\")"
   ]
  },
  {
   "cell_type": "code",
   "execution_count": 61,
   "id": "f0892b41",
   "metadata": {},
   "outputs": [
    {
     "name": "stdout",
     "output_type": "stream",
     "text": [
      "nuthin\n",
      "ü.\n",
      "p.m\n",
      "Kan\n",
      "Mar\n",
      "When's\n",
      " \n",
      "Sept.\n",
      "c.\n",
      "Mont.\n",
      ":-}\n",
      "12a.m.\n",
      "e.g\n",
      "Why's\n",
      "😋\n",
      "it\n",
      "6p.m\n",
      "Jr.\n",
      "Who’s\n",
      "K.\n",
      "Calif.\n",
      "e\n",
      "Ill.\n",
      "O'clock\n",
      "o'clock\n",
      "Mich.\n",
      "is\n",
      ":-o\n",
      "n.\n",
      "Might\n",
      "Nov\n",
      ">.<\n",
      "he's\n",
      "it’s\n",
      "where’s\n",
      "low\n",
      "Wash.\n",
      "where\n",
      ":-*\n",
      "she's\n",
      "g.\n",
      ":()\n",
      ")-:\n",
      "X\n",
      "S.C.\n",
      "Del\n",
      "Why’s\n",
      "0.o\n",
      "must\n",
      "Goin'\n",
      "4a.m.\n",
      "5p.m.\n",
      "Mass.\n",
      "co.\n",
      "━\n",
      "(-_-)\n",
      "Ariz\n",
      "had\n",
      "0\n",
      "vs.\n",
      "x.\n",
      "><(((*>\n",
      "11a.m.\n",
      "-o\n",
      "When’s\n",
      "Calif\n",
      "does\n",
      "nothin’\n",
      "’S\n",
      "Cos\n",
      "I.e\n",
      "8-)\n",
      "Would\n",
      "do\n",
      "\"\n",
      "Rev.\n",
      "’s\n",
      "N.M.\n",
      "°c.\n",
      "b\n",
      "O.o\n",
      "might\n",
      "q.\n",
      "adventure\n",
      "this's\n",
      "’’\n",
      "Goin’\n",
      "likes\n",
      "Has\n",
      "N.J.\n",
      "pm\n",
      "ought\n",
      "Dec\n",
      "food\n",
      "3p.m\n",
      "<space>\n",
      "Ore.\n",
      "10p.m\n",
      "h.\n",
      "where's\n",
      "doin’\n",
      "What's\n",
      "he’s\n",
      "'cos\n",
      "ä\n",
      "That's\n",
      "11a.m\n",
      "these\n",
      "1p.m\n",
      "Tenn\n",
      ";D\n",
      "Miss\n",
      "Ga\n",
      "Must\n",
      "9p.m\n",
      "somethin\n",
      "Nev.\n",
      "What\n",
      "z.\n",
      "’\n",
      "there's\n",
      "'Cause\n",
      "ü\n",
      "r\n",
      "9\n",
      "Dec.\n",
      "︵\n",
      "v.s\n",
      "Jun.\n",
      ":-))\n",
      ";_;\n",
      "When\n",
      "D.C.\n",
      "Have\n",
      "You\n",
      "10\n",
      "Where's\n",
      "6a.m\n",
      "o_o\n",
      "O\n",
      "'coz\n",
      "'cause\n",
      "co\n",
      "doin\n",
      "how's\n",
      "i.e\n",
      "._.\n",
      "c’m\n",
      "Prof.\n",
      ":’-)\n",
      "havin'\n",
      "Co.\n",
      "Va.\n",
      "Mt\n",
      "|\n",
      ":((\n",
      "O’clock\n",
      "Let\n",
      "Del.\n",
      "xDD\n",
      "Prof\n",
      "i.e.\n",
      "Ai\n",
      "lovin'\n",
      "when’s\n",
      "Does\n",
      "Minn\n",
      "g\n",
      "👍\n",
      "12a.m\n",
      "Who's\n",
      "-\n",
      "(\n",
      "La\n",
      "11\n",
      "(;\n",
      "12p.m.\n",
      "Mich\n",
      "n’t\n",
      "_\n",
      "Not\n",
      "choose\n",
      "1p.m.\n",
      "Okla.\n",
      "Okla\n",
      "what's\n",
      "□\n",
      ":P\n",
      "w\n",
      "cos\n",
      ":'-(\n",
      "Ph.D.\n",
      "It’s\n",
      "Va\n",
      "Nothin’\n",
      "Ltd.\n",
      "would\n",
      ":-/\n",
      "Rep\n",
      "Was\n",
      ";\n",
      "a.\n",
      ":)))\n",
      "k\n",
      "o.\n",
      "XD\n",
      "#\n",
      "Ga.\n",
      "Sha\n",
      "C\n",
      "Ought\n",
      "Sep\n",
      ">:o\n",
      ":-)\n",
      "<3\n",
      "d\n",
      "8)\n",
      "Who\n",
      "(¬_¬)\n",
      "Pa.\n",
      "f\n",
      "V_V\n",
      ":(((\n",
      "need\n",
      "That’s\n",
      "]\n",
      "-8\n",
      "c\n",
      "(^_^)\n",
      "@Pete\n",
      "v.s.\n",
      ":D\n",
      "m\n",
      "cause\n",
      "m.\n",
      "C'm\n",
      "8-\n",
      "0_0\n",
      "Somethin’\n",
      "¬_¬\n",
      "you\n",
      "=\n",
      "that’s\n",
      "was\n",
      "’m\n",
      "How’s\n",
      "F\n",
      "what’s\n",
      "‘s\n",
      "y\n",
      ":o\n",
      "Jr\n",
      "Mont\n",
      ":|\n",
      "Where\n",
      ":1\n",
      "nt\n",
      "this’s\n",
      "0.0\n",
      "11p.m\n",
      "Gen\n",
      "why’s\n",
      "Oct.\n",
      "Let's\n",
      "=D\n",
      "My\n",
      "-0\n",
      ".\n",
      "who\n",
      "Gov.\n",
      "May\n",
      "Nov.\n",
      ":o)\n",
      "Mr.\n",
      "’cos\n",
      "'ve\n",
      "Ky.\n",
      "why\n",
      "Are\n",
      "\\\n",
      "how\n",
      "9a.m\n",
      "could\n",
      "5p.m\n",
      "ಠ_ಠ\n",
      "'S\n",
      "Havin’\n",
      "8a.m\n",
      "┻\n",
      "h\n",
      "0_o\n",
      "'m\n",
      "Nuthin'\n",
      "[=\n",
      "ä.\n",
      "2p.m\n",
      "ö.\n",
      "ca\n",
      "'Coz\n",
      "o’clock\n",
      ":p\n",
      "doin'\n",
      "cuz\n",
      ":-(\n",
      ":-((\n",
      "<\n",
      "ol’\n",
      "Nebr.\n",
      "c'm\n",
      "Cuz\n",
      "o.o\n",
      "Havin\n",
      "a.m\n",
      "those\n",
      "space\n",
      "He\n",
      "Neb\n",
      "Ms.\n",
      "Nev\n",
      "9p.m.\n",
      "n't\n",
      "Ol’\n",
      "¯\\(ツ)/¯\n",
      "were\n",
      "t\n",
      "ta\n",
      "nothin'\n",
      "=)\n",
      "a\n",
      "somethin’\n",
      "dare\n",
      "’cause\n",
      "Lovin’\n",
      "’re\n",
      "goin’\n",
      "'Cos\n",
      "Messrs\n",
      "5\n",
      "/3\n",
      "ll\n",
      "this\n",
      "'y\n",
      "*\n",
      "12p.m\n",
      ":x\n",
      "Jan.\n",
      "Sep.\n",
      "Were\n",
      "Jan\n",
      "]=\n",
      "who's\n",
      "Jul.\n",
      "/\n",
      "2a.m.\n",
      "Doin’\n",
      ":(\n",
      "8D\n",
      "j.\n",
      "°k.\n",
      ":-)))\n",
      "nuthin’\n",
      "O_o\n",
      "O_O\n",
      "nuff\n",
      "(-:\n",
      ":\n",
      "they\n",
      "=/\n",
      "He’s\n",
      "^_^\n",
      "We\n",
      "[-:\n",
      "eat\n",
      "(:\n",
      "’Coz\n",
      "he\n",
      ":-p\n",
      "He's\n",
      "games\n",
      "Let’s\n",
      "Can\n",
      "=[\n",
      "'nuff\n",
      "It's\n",
      "Jun\n",
      "'\n",
      "Lovin'\n",
      "l\n",
      "Lovin\n",
      "when's\n",
      "u\n",
      "Ol\n",
      "Dare\n",
      ":-O\n",
      "q\n",
      ";-)\n",
      "there\n",
      "’nuff\n",
      "havin\n",
      "'bout\n",
      "’Cause\n",
      "Need\n",
      "Somethin\n",
      "gon\n",
      "333\n",
      "N.C.\n",
      "\\n\n",
      "E.G.\n",
      "Ia\n",
      "F.\n",
      "b.\n",
      "v\n",
      "got\n",
      "What’s\n",
      "=3\n",
      ">.>\n",
      ":}\n",
      "Wash\n",
      "3a.m\n",
      "Conn\n",
      "w/o\n",
      "Mass\n",
      "Colo\n",
      ":))\n",
      "1a.m.\n",
      "2p.m.\n",
      "11p.m.\n",
      "It\n",
      "j\n",
      "Those\n",
      "bout\n",
      "Ark.\n",
      "who’s\n",
      "that's\n",
      "Ma’am\n",
      "\\\")\n",
      "’coz\n",
      "</3\n",
      "7a.m.\n",
      "Id.\n",
      "St.\n",
      "Mr\n",
      "=|\n",
      "^___^\n",
      "v_v\n",
      ":’-(\n",
      "Bros\n",
      "(>_<)\n",
      "7a.m\n",
      "Mo\n",
      "D.\n",
      ":'(\n",
      "Ma'am\n",
      "Havin'\n",
      "-O\n",
      "Why\n",
      "(=\n",
      "k.\n",
      "K\n",
      "she’s\n",
      "a.m.\n",
      "Wo\n",
      ":-3\n",
      "Apr.\n",
      "Miss.\n",
      "or\n",
      "when\n",
      "o_0\n",
      "Adm.\n",
      "it's\n",
      "Dr\n",
      "Gen.\n",
      "Is\n",
      "lovin’\n",
      "she\n",
      " \n",
      "Feb.\n",
      "Fla.\n",
      "Id\n",
      "-__-\n",
      "Apr\n",
      "Messrs.\n",
      "ol'\n",
      "<333\n",
      "(-;\n",
      "1a.m\n",
      "may\n",
      "(o:\n",
      "=]\n",
      "C’m\n",
      "all\n",
      "Ltd\n",
      "Doin\n",
      "v.v\n",
      "Fla\n",
      "what\n",
      "Kan.\n",
      "-P\n",
      "Minn.\n",
      "p.m.\n",
      "7\n",
      "and/or\n",
      "Ind\n",
      "Sept\n",
      "‘S\n",
      ":X\n",
      "'s\n",
      "6a.m.\n",
      "N.H.\n",
      "''\n",
      "Sen\n",
      "coz\n",
      "i.\n",
      "nothin\n",
      "Bros.\n",
      "8-D\n",
      ":-D\n",
      "[\n",
      "9a.m.\n",
      "Ark\n",
      "This’s\n",
      "’Cuz\n",
      "8p.m\n",
      "Co\n",
      "10a.m.\n",
      "-x\n",
      "This\n",
      "Rev\n",
      "Ms\n",
      "re\n",
      "Gon\n",
      "3a.m.\n",
      "There\n",
      "\\t\n",
      "D\n",
      "Ala.\n",
      "12\n",
      "lovin\n",
      "1\n",
      "S\n",
      "There's\n",
      "4p.m\n",
      "Mrs\n",
      "Ol'\n",
      "(._.)\n",
      "friend\n",
      "Gov\n",
      ":-0\n",
      "Feb\n",
      "N.Y.\n",
      "-p\n",
      "Nuthin\n",
      "nuthin'\n",
      "ma’am\n",
      "):\n",
      "N.D.\n",
      "Corp\n",
      ")\n",
      "These\n",
      "6p.m.\n",
      "ma'am\n",
      "why's\n",
      "-|\n",
      "fancy\n",
      "Ky\n",
      "url\n",
      "C++\n",
      "somethin'\n",
      "e.g.\n",
      "-D\n",
      "not\n",
      "Could\n",
      "That\n",
      "Tenn.\n",
      "did\n",
      "(-8\n",
      "w.\n",
      "smart\n",
      "’Cos\n",
      "I\n",
      "f.\n",
      ":]\n",
      "I.e.\n",
      "°K.\n",
      "’d\n",
      "-3\n",
      "e.\n",
      "Do\n",
      "V.V\n",
      "Wis\n",
      "Ariz.\n",
      "has\n",
      "Where’s\n",
      "‘\n",
      "’cuz\n",
      "Inc\n",
      "Peters\n",
      "2a.m\n",
      "Md.\n",
      "There’s\n",
      "Ala\n",
      "Ind.\n",
      "°F.\n",
      "Rep.\n",
      ":')\n",
      ";-D\n",
      "have\n",
      "°f.\n",
      "Doin'\n",
      ":>\n",
      "Conn.\n",
      ">\n",
      "She\n",
      "sha\n",
      "y’\n",
      "d.\n",
      "5a.m\n",
      ":O\n",
      "o.O\n",
      "vs\n",
      "╯\n",
      "Did\n",
      ":0\n",
      "7p.m\n",
      "s\n",
      "Nothin'\n",
      "p.\n",
      "-/\n",
      "there’s\n",
      "^__^\n",
      "p\n",
      "'ll\n",
      "best\n",
      "She’s\n",
      "'re\n",
      "am\n",
      "'cuz\n",
      "Mo.\n",
      "Corp.\n",
      "Neb.\n",
      "havin’\n",
      "ol\n",
      ">:(\n",
      "<.<\n",
      "Inc.\n",
      "Pa\n",
      "3p.m.\n",
      "°\n",
      ":’(\n",
      ":’)\n",
      "can\n",
      "Jul\n",
      "8\n",
      "Ak.\n",
      "we\n",
      "<33\n",
      "Mt.\n",
      "o_O\n",
      "n\n",
      "em\n",
      "’bout\n",
      "Aug.\n",
      "}\n",
      "(*_*)\n",
      "(╯°□°）╯︵┻━┻\n",
      "on\n",
      "10a.m\n",
      "3\n",
      "Ph\n",
      "How's\n",
      ":/\n",
      "x\n",
      "’ve\n",
      "[:\n",
      "'Cuz\n",
      "Ca\n",
      "that\n",
      "o\n",
      "This's\n",
      ":'-)\n",
      "5a.m.\n",
      "\t\n",
      "y.\n",
      "St\n",
      "Should\n",
      "6\n",
      "@_@\n",
      "y'\n",
      ":3\n",
      "Mrs.\n",
      "10p.m.\n",
      "Oct\n",
      "7p.m.\n",
      "Md\n",
      "ಠ︵ಠ\n",
      "33\n",
      ";)\n",
      "Ryan\n",
      "'d\n",
      "Kans\n",
      ":-(((\n",
      "na\n",
      "i\n",
      "-X\n",
      "xD\n",
      "’ll\n",
      "t.\n",
      "°C.\n",
      "Ak\n",
      "8p.m.\n",
      "'em\n",
      "carb\n",
      "La.\n",
      ":-X\n",
      "v.\n",
      "Nothin\n",
      "Nuthin’\n",
      ":)\n",
      "z\n",
      "-_-\n",
      "(ಠ_ಠ)\n",
      "’em\n",
      "Ia.\n",
      "Sen.\n",
      ":->\n",
      "How\n",
      "4\n",
      "They\n",
      "4p.m.\n",
      "）\n",
      "how’s\n",
      "ö\n",
      "Dr.\n",
      "2\n",
      "ai\n",
      "let’s\n",
      "Had\n",
      "let's\n",
      "8a.m.\n",
      "goin'\n",
      "o.0\n",
      "r.\n",
      "Got\n",
      "Aug\n",
      "l.\n",
      "XDD\n",
      "P\n",
      "Kans.\n",
      "Cause\n",
      "s.\n",
      "wo\n",
      "Goin\n",
      "C.\n",
      ":-x\n",
      "4a.m\n",
      "u.\n",
      "should\n",
      ":-]\n",
      "E.g\n",
      "’y\n",
      "Ill\n",
      "I.E.\n",
      "=(\n",
      "Wis.\n",
      "are\n",
      "Coz\n",
      "Nebr\n",
      "Adm\n",
      "O.O\n",
      "and\n",
      "Colo.\n",
      "Somethin'\n",
      ":-P\n",
      "Ore\n",
      "—\n",
      "goin\n",
      "\n",
      "\n",
      "let\n",
      "Mar.\n",
      "She's\n",
      "ve\n",
      "E.g.\n",
      ":-|\n",
      ":*\n"
     ]
    }
   ],
   "source": [
    "for x in nlp.vocab:\n",
    "    print(x.text)"
   ]
  },
  {
   "cell_type": "code",
   "execution_count": 62,
   "id": "e30853fe",
   "metadata": {},
   "outputs": [],
   "source": [
    "def custom_tokenizer(nlp):\n",
    "    # use default patterns except the ones mathced by re.search\n",
    "    prefixes = [pattern for pattern in nlp.Defaults.prefixes if pattern not in [\"-\", \"_\", \"#\"]]\n",
    "    suffixes = [pattern for pattern in nlp.Defaults.suffixes if pattern not in [\"_\"]]\n",
    "    infixes = [pattern for pattern in nlp.Defaults.infixes if not re.search(pattern, \"xx-xx\")]\n",
    "    return Tokenizer(\n",
    "        vocab = nlp.vocab,\n",
    "        rules = nlp.Defaults.tokenizer_exceptions,\n",
    "        prefix_search = compile_prefix_regex(prefixes).search,\n",
    "        suffix_search = compile_suffix_regex(suffixes).search,\n",
    "        infix_finditer = compile_infix_regex(infixes).finditer,\n",
    "        token_match = nlp.Defaults.token_match\n",
    "    )"
   ]
  },
  {
   "cell_type": "code",
   "execution_count": 63,
   "id": "9fa7f399",
   "metadata": {},
   "outputs": [
    {
     "data": {
      "text/plain": [
       "['§',\n",
       " '%',\n",
       " '=',\n",
       " '—',\n",
       " '–',\n",
       " '\\\\+(?![0-9])',\n",
       " '…',\n",
       " '……',\n",
       " ',',\n",
       " ':',\n",
       " ';',\n",
       " '\\\\!',\n",
       " '\\\\?',\n",
       " '¿',\n",
       " '؟',\n",
       " '¡',\n",
       " '\\\\(',\n",
       " '\\\\)',\n",
       " '\\\\[',\n",
       " '\\\\]',\n",
       " '\\\\{',\n",
       " '\\\\}',\n",
       " '<',\n",
       " '>',\n",
       " '_',\n",
       " '#',\n",
       " '\\\\*',\n",
       " '&',\n",
       " '。',\n",
       " '？',\n",
       " '！',\n",
       " '，',\n",
       " '、',\n",
       " '；',\n",
       " '：',\n",
       " '～',\n",
       " '·',\n",
       " '।',\n",
       " '،',\n",
       " '۔',\n",
       " '؛',\n",
       " '٪',\n",
       " '\\\\.\\\\.+',\n",
       " '…',\n",
       " \"\\\\'\",\n",
       " '\"',\n",
       " '”',\n",
       " '“',\n",
       " '`',\n",
       " '‘',\n",
       " '´',\n",
       " '’',\n",
       " '‚',\n",
       " ',',\n",
       " '„',\n",
       " '»',\n",
       " '«',\n",
       " '「',\n",
       " '」',\n",
       " '『',\n",
       " '』',\n",
       " '（',\n",
       " '）',\n",
       " '〔',\n",
       " '〕',\n",
       " '【',\n",
       " '】',\n",
       " '《',\n",
       " '》',\n",
       " '〈',\n",
       " '〉',\n",
       " '\\\\$',\n",
       " '£',\n",
       " '€',\n",
       " '¥',\n",
       " '฿',\n",
       " 'US\\\\$',\n",
       " 'C\\\\$',\n",
       " 'A\\\\$',\n",
       " '₽',\n",
       " '﷼',\n",
       " '₴',\n",
       " '₠',\n",
       " '₡',\n",
       " '₢',\n",
       " '₣',\n",
       " '₤',\n",
       " '₥',\n",
       " '₦',\n",
       " '₧',\n",
       " '₨',\n",
       " '₩',\n",
       " '₪',\n",
       " '₫',\n",
       " '€',\n",
       " '₭',\n",
       " '₮',\n",
       " '₯',\n",
       " '₰',\n",
       " '₱',\n",
       " '₲',\n",
       " '₳',\n",
       " '₴',\n",
       " '₵',\n",
       " '₶',\n",
       " '₷',\n",
       " '₸',\n",
       " '₹',\n",
       " '₺',\n",
       " '₻',\n",
       " '₼',\n",
       " '₽',\n",
       " '₾',\n",
       " '₿',\n",
       " '[\\\\u00A6\\\\u00A9\\\\u00AE\\\\u00B0\\\\u0482\\\\u058D\\\\u058E\\\\u060E\\\\u060F\\\\u06DE\\\\u06E9\\\\u06FD\\\\u06FE\\\\u07F6\\\\u09FA\\\\u0B70\\\\u0BF3-\\\\u0BF8\\\\u0BFA\\\\u0C7F\\\\u0D4F\\\\u0D79\\\\u0F01-\\\\u0F03\\\\u0F13\\\\u0F15-\\\\u0F17\\\\u0F1A-\\\\u0F1F\\\\u0F34\\\\u0F36\\\\u0F38\\\\u0FBE-\\\\u0FC5\\\\u0FC7-\\\\u0FCC\\\\u0FCE\\\\u0FCF\\\\u0FD5-\\\\u0FD8\\\\u109E\\\\u109F\\\\u1390-\\\\u1399\\\\u1940\\\\u19DE-\\\\u19FF\\\\u1B61-\\\\u1B6A\\\\u1B74-\\\\u1B7C\\\\u2100\\\\u2101\\\\u2103-\\\\u2106\\\\u2108\\\\u2109\\\\u2114\\\\u2116\\\\u2117\\\\u211E-\\\\u2123\\\\u2125\\\\u2127\\\\u2129\\\\u212E\\\\u213A\\\\u213B\\\\u214A\\\\u214C\\\\u214D\\\\u214F\\\\u218A\\\\u218B\\\\u2195-\\\\u2199\\\\u219C-\\\\u219F\\\\u21A1\\\\u21A2\\\\u21A4\\\\u21A5\\\\u21A7-\\\\u21AD\\\\u21AF-\\\\u21CD\\\\u21D0\\\\u21D1\\\\u21D3\\\\u21D5-\\\\u21F3\\\\u2300-\\\\u2307\\\\u230C-\\\\u231F\\\\u2322-\\\\u2328\\\\u232B-\\\\u237B\\\\u237D-\\\\u239A\\\\u23B4-\\\\u23DB\\\\u23E2-\\\\u2426\\\\u2440-\\\\u244A\\\\u249C-\\\\u24E9\\\\u2500-\\\\u25B6\\\\u25B8-\\\\u25C0\\\\u25C2-\\\\u25F7\\\\u2600-\\\\u266E\\\\u2670-\\\\u2767\\\\u2794-\\\\u27BF\\\\u2800-\\\\u28FF\\\\u2B00-\\\\u2B2F\\\\u2B45\\\\u2B46\\\\u2B4D-\\\\u2B73\\\\u2B76-\\\\u2B95\\\\u2B98-\\\\u2BC8\\\\u2BCA-\\\\u2BFE\\\\u2CE5-\\\\u2CEA\\\\u2E80-\\\\u2E99\\\\u2E9B-\\\\u2EF3\\\\u2F00-\\\\u2FD5\\\\u2FF0-\\\\u2FFB\\\\u3004\\\\u3012\\\\u3013\\\\u3020\\\\u3036\\\\u3037\\\\u303E\\\\u303F\\\\u3190\\\\u3191\\\\u3196-\\\\u319F\\\\u31C0-\\\\u31E3\\\\u3200-\\\\u321E\\\\u322A-\\\\u3247\\\\u3250\\\\u3260-\\\\u327F\\\\u328A-\\\\u32B0\\\\u32C0-\\\\u32FE\\\\u3300-\\\\u33FF\\\\u4DC0-\\\\u4DFF\\\\uA490-\\\\uA4C6\\\\uA828-\\\\uA82B\\\\uA836\\\\uA837\\\\uA839\\\\uAA77-\\\\uAA79\\\\uFDFD\\\\uFFE4\\\\uFFE8\\\\uFFED\\\\uFFEE\\\\uFFFC\\\\uFFFD\\\\U00010137-\\\\U0001013F\\\\U00010179-\\\\U00010189\\\\U0001018C-\\\\U0001018E\\\\U00010190-\\\\U0001019B\\\\U000101A0\\\\U000101D0-\\\\U000101FC\\\\U00010877\\\\U00010878\\\\U00010AC8\\\\U0001173F\\\\U00016B3C-\\\\U00016B3F\\\\U00016B45\\\\U0001BC9C\\\\U0001D000-\\\\U0001D0F5\\\\U0001D100-\\\\U0001D126\\\\U0001D129-\\\\U0001D164\\\\U0001D16A-\\\\U0001D16C\\\\U0001D183\\\\U0001D184\\\\U0001D18C-\\\\U0001D1A9\\\\U0001D1AE-\\\\U0001D1E8\\\\U0001D200-\\\\U0001D241\\\\U0001D245\\\\U0001D300-\\\\U0001D356\\\\U0001D800-\\\\U0001D9FF\\\\U0001DA37-\\\\U0001DA3A\\\\U0001DA6D-\\\\U0001DA74\\\\U0001DA76-\\\\U0001DA83\\\\U0001DA85\\\\U0001DA86\\\\U0001ECAC\\\\U0001F000-\\\\U0001F02B\\\\U0001F030-\\\\U0001F093\\\\U0001F0A0-\\\\U0001F0AE\\\\U0001F0B1-\\\\U0001F0BF\\\\U0001F0C1-\\\\U0001F0CF\\\\U0001F0D1-\\\\U0001F0F5\\\\U0001F110-\\\\U0001F16B\\\\U0001F170-\\\\U0001F1AC\\\\U0001F1E6-\\\\U0001F202\\\\U0001F210-\\\\U0001F23B\\\\U0001F240-\\\\U0001F248\\\\U0001F250\\\\U0001F251\\\\U0001F260-\\\\U0001F265\\\\U0001F300-\\\\U0001F3FA\\\\U0001F400-\\\\U0001F6D4\\\\U0001F6E0-\\\\U0001F6EC\\\\U0001F6F0-\\\\U0001F6F9\\\\U0001F700-\\\\U0001F773\\\\U0001F780-\\\\U0001F7D8\\\\U0001F800-\\\\U0001F80B\\\\U0001F810-\\\\U0001F847\\\\U0001F850-\\\\U0001F859\\\\U0001F860-\\\\U0001F887\\\\U0001F890-\\\\U0001F8AD\\\\U0001F900-\\\\U0001F90B\\\\U0001F910-\\\\U0001F93E\\\\U0001F940-\\\\U0001F970\\\\U0001F973-\\\\U0001F976\\\\U0001F97A\\\\U0001F97C-\\\\U0001F9A2\\\\U0001F9B0-\\\\U0001F9B9\\\\U0001F9C0-\\\\U0001F9C2\\\\U0001F9D0-\\\\U0001F9FF\\\\U0001FA60-\\\\U0001FA6D]']"
      ]
     },
     "execution_count": 63,
     "metadata": {},
     "output_type": "execute_result"
    }
   ],
   "source": [
    "nlp.Defaults.prefixes"
   ]
  },
  {
   "cell_type": "code",
   "execution_count": 64,
   "id": "0a49bc91",
   "metadata": {},
   "outputs": [
    {
     "data": {
      "text/plain": [
       "['\\\\.\\\\.+',\n",
       " '…',\n",
       " '[\\\\u00A6\\\\u00A9\\\\u00AE\\\\u00B0\\\\u0482\\\\u058D\\\\u058E\\\\u060E\\\\u060F\\\\u06DE\\\\u06E9\\\\u06FD\\\\u06FE\\\\u07F6\\\\u09FA\\\\u0B70\\\\u0BF3-\\\\u0BF8\\\\u0BFA\\\\u0C7F\\\\u0D4F\\\\u0D79\\\\u0F01-\\\\u0F03\\\\u0F13\\\\u0F15-\\\\u0F17\\\\u0F1A-\\\\u0F1F\\\\u0F34\\\\u0F36\\\\u0F38\\\\u0FBE-\\\\u0FC5\\\\u0FC7-\\\\u0FCC\\\\u0FCE\\\\u0FCF\\\\u0FD5-\\\\u0FD8\\\\u109E\\\\u109F\\\\u1390-\\\\u1399\\\\u1940\\\\u19DE-\\\\u19FF\\\\u1B61-\\\\u1B6A\\\\u1B74-\\\\u1B7C\\\\u2100\\\\u2101\\\\u2103-\\\\u2106\\\\u2108\\\\u2109\\\\u2114\\\\u2116\\\\u2117\\\\u211E-\\\\u2123\\\\u2125\\\\u2127\\\\u2129\\\\u212E\\\\u213A\\\\u213B\\\\u214A\\\\u214C\\\\u214D\\\\u214F\\\\u218A\\\\u218B\\\\u2195-\\\\u2199\\\\u219C-\\\\u219F\\\\u21A1\\\\u21A2\\\\u21A4\\\\u21A5\\\\u21A7-\\\\u21AD\\\\u21AF-\\\\u21CD\\\\u21D0\\\\u21D1\\\\u21D3\\\\u21D5-\\\\u21F3\\\\u2300-\\\\u2307\\\\u230C-\\\\u231F\\\\u2322-\\\\u2328\\\\u232B-\\\\u237B\\\\u237D-\\\\u239A\\\\u23B4-\\\\u23DB\\\\u23E2-\\\\u2426\\\\u2440-\\\\u244A\\\\u249C-\\\\u24E9\\\\u2500-\\\\u25B6\\\\u25B8-\\\\u25C0\\\\u25C2-\\\\u25F7\\\\u2600-\\\\u266E\\\\u2670-\\\\u2767\\\\u2794-\\\\u27BF\\\\u2800-\\\\u28FF\\\\u2B00-\\\\u2B2F\\\\u2B45\\\\u2B46\\\\u2B4D-\\\\u2B73\\\\u2B76-\\\\u2B95\\\\u2B98-\\\\u2BC8\\\\u2BCA-\\\\u2BFE\\\\u2CE5-\\\\u2CEA\\\\u2E80-\\\\u2E99\\\\u2E9B-\\\\u2EF3\\\\u2F00-\\\\u2FD5\\\\u2FF0-\\\\u2FFB\\\\u3004\\\\u3012\\\\u3013\\\\u3020\\\\u3036\\\\u3037\\\\u303E\\\\u303F\\\\u3190\\\\u3191\\\\u3196-\\\\u319F\\\\u31C0-\\\\u31E3\\\\u3200-\\\\u321E\\\\u322A-\\\\u3247\\\\u3250\\\\u3260-\\\\u327F\\\\u328A-\\\\u32B0\\\\u32C0-\\\\u32FE\\\\u3300-\\\\u33FF\\\\u4DC0-\\\\u4DFF\\\\uA490-\\\\uA4C6\\\\uA828-\\\\uA82B\\\\uA836\\\\uA837\\\\uA839\\\\uAA77-\\\\uAA79\\\\uFDFD\\\\uFFE4\\\\uFFE8\\\\uFFED\\\\uFFEE\\\\uFFFC\\\\uFFFD\\\\U00010137-\\\\U0001013F\\\\U00010179-\\\\U00010189\\\\U0001018C-\\\\U0001018E\\\\U00010190-\\\\U0001019B\\\\U000101A0\\\\U000101D0-\\\\U000101FC\\\\U00010877\\\\U00010878\\\\U00010AC8\\\\U0001173F\\\\U00016B3C-\\\\U00016B3F\\\\U00016B45\\\\U0001BC9C\\\\U0001D000-\\\\U0001D0F5\\\\U0001D100-\\\\U0001D126\\\\U0001D129-\\\\U0001D164\\\\U0001D16A-\\\\U0001D16C\\\\U0001D183\\\\U0001D184\\\\U0001D18C-\\\\U0001D1A9\\\\U0001D1AE-\\\\U0001D1E8\\\\U0001D200-\\\\U0001D241\\\\U0001D245\\\\U0001D300-\\\\U0001D356\\\\U0001D800-\\\\U0001D9FF\\\\U0001DA37-\\\\U0001DA3A\\\\U0001DA6D-\\\\U0001DA74\\\\U0001DA76-\\\\U0001DA83\\\\U0001DA85\\\\U0001DA86\\\\U0001ECAC\\\\U0001F000-\\\\U0001F02B\\\\U0001F030-\\\\U0001F093\\\\U0001F0A0-\\\\U0001F0AE\\\\U0001F0B1-\\\\U0001F0BF\\\\U0001F0C1-\\\\U0001F0CF\\\\U0001F0D1-\\\\U0001F0F5\\\\U0001F110-\\\\U0001F16B\\\\U0001F170-\\\\U0001F1AC\\\\U0001F1E6-\\\\U0001F202\\\\U0001F210-\\\\U0001F23B\\\\U0001F240-\\\\U0001F248\\\\U0001F250\\\\U0001F251\\\\U0001F260-\\\\U0001F265\\\\U0001F300-\\\\U0001F3FA\\\\U0001F400-\\\\U0001F6D4\\\\U0001F6E0-\\\\U0001F6EC\\\\U0001F6F0-\\\\U0001F6F9\\\\U0001F700-\\\\U0001F773\\\\U0001F780-\\\\U0001F7D8\\\\U0001F800-\\\\U0001F80B\\\\U0001F810-\\\\U0001F847\\\\U0001F850-\\\\U0001F859\\\\U0001F860-\\\\U0001F887\\\\U0001F890-\\\\U0001F8AD\\\\U0001F900-\\\\U0001F90B\\\\U0001F910-\\\\U0001F93E\\\\U0001F940-\\\\U0001F970\\\\U0001F973-\\\\U0001F976\\\\U0001F97A\\\\U0001F97C-\\\\U0001F9A2\\\\U0001F9B0-\\\\U0001F9B9\\\\U0001F9C0-\\\\U0001F9C2\\\\U0001F9D0-\\\\U0001F9FF\\\\U0001FA60-\\\\U0001FA6D]',\n",
       " '(?<=[0-9])[+\\\\-\\\\*^](?=[0-9-])',\n",
       " '(?<=[a-z\\\\uFF41-\\\\uFF5A\\\\u00DF-\\\\u00F6\\\\u00F8-\\\\u00FF\\\\u0101\\\\u0103\\\\u0105\\\\u0107\\\\u0109\\\\u010B\\\\u010D\\\\u010F\\\\u0111\\\\u0113\\\\u0115\\\\u0117\\\\u0119\\\\u011B\\\\u011D\\\\u011F\\\\u0121\\\\u0123\\\\u0125\\\\u0127\\\\u0129\\\\u012B\\\\u012D\\\\u012F\\\\u0131\\\\u0133\\\\u0135\\\\u0137\\\\u0138\\\\u013A\\\\u013C\\\\u013E\\\\u0140\\\\u0142\\\\u0144\\\\u0146\\\\u0148\\\\u0149\\\\u014B\\\\u014D\\\\u014F\\\\u0151\\\\u0153\\\\u0155\\\\u0157\\\\u0159\\\\u015B\\\\u015D\\\\u015F\\\\u0161\\\\u0163\\\\u0165\\\\u0167\\\\u0169\\\\u016B\\\\u016D\\\\u016F\\\\u0171\\\\u0173\\\\u0175\\\\u0177\\\\u017A\\\\u017C\\\\u017E\\\\u017F\\\\u0180\\\\u0183\\\\u0185\\\\u0188\\\\u018C\\\\u018D\\\\u0192\\\\u0195\\\\u0199-\\\\u019B\\\\u019E\\\\u01A1\\\\u01A3\\\\u01A5\\\\u01A8\\\\u01AA\\\\u01AB\\\\u01AD\\\\u01B0\\\\u01B4\\\\u01B6\\\\u01B9\\\\u01BA\\\\u01BD-\\\\u01BF\\\\u01C6\\\\u01C9\\\\u01CC\\\\u01CE\\\\u01D0\\\\u01D2\\\\u01D4\\\\u01D6\\\\u01D8\\\\u01DA\\\\u01DC\\\\u01DD\\\\u01DF\\\\u01E1\\\\u01E3\\\\u01E5\\\\u01E7\\\\u01E9\\\\u01EB\\\\u01ED\\\\u01EF\\\\u01F0\\\\u01F3\\\\u01F5\\\\u01F9\\\\u01FB\\\\u01FD\\\\u01FF\\\\u0201\\\\u0203\\\\u0205\\\\u0207\\\\u0209\\\\u020B\\\\u020D\\\\u020F\\\\u0211\\\\u0213\\\\u0215\\\\u0217\\\\u0219\\\\u021B\\\\u021D\\\\u021F\\\\u0221\\\\u0223\\\\u0225\\\\u0227\\\\u0229\\\\u022B\\\\u022D\\\\u022F\\\\u0231\\\\u0233-\\\\u0239\\\\u023C\\\\u023F\\\\u0240\\\\u0242\\\\u0247\\\\u0249\\\\u024B\\\\u024D\\\\u024F\\\\u2C61\\\\u2C65\\\\u2C66\\\\u2C68\\\\u2C6A\\\\u2C6C\\\\u2C71\\\\u2C73\\\\u2C74\\\\u2C76-\\\\u2C7B\\\\uA723\\\\uA725\\\\uA727\\\\uA729\\\\uA72B\\\\uA72D\\\\uA72F-\\\\uA731\\\\uA733\\\\uA735\\\\uA737\\\\uA739\\\\uA73B\\\\uA73D\\\\uA73F\\\\uA741\\\\uA743\\\\uA745\\\\uA747\\\\uA749\\\\uA74B\\\\uA74D\\\\uA74F\\\\uA751\\\\uA753\\\\uA755\\\\uA757\\\\uA759\\\\uA75B\\\\uA75D\\\\uA75F\\\\uA761\\\\uA763\\\\uA765\\\\uA767\\\\uA769\\\\uA76B\\\\uA76D\\\\uA76F\\\\uA771-\\\\uA778\\\\uA77A\\\\uA77C\\\\uA77F\\\\uA781\\\\uA783\\\\uA785\\\\uA787\\\\uA78C\\\\uA78E\\\\uA791\\\\uA793-\\\\uA795\\\\uA797\\\\uA799\\\\uA79B\\\\uA79D\\\\uA79F\\\\uA7A1\\\\uA7A3\\\\uA7A5\\\\uA7A7\\\\uA7A9\\\\uA7AF\\\\uA7B5\\\\uA7B7\\\\uA7B9\\\\uA7FA\\\\uAB30-\\\\uAB5A\\\\uAB60-\\\\uAB64\\\\u0250-\\\\u02AF\\\\u1D00-\\\\u1D25\\\\u1D6B-\\\\u1D77\\\\u1D79-\\\\u1D9A\\\\u1E01\\\\u1E03\\\\u1E05\\\\u1E07\\\\u1E09\\\\u1E0B\\\\u1E0D\\\\u1E0F\\\\u1E11\\\\u1E13\\\\u1E15\\\\u1E17\\\\u1E19\\\\u1E1B\\\\u1E1D\\\\u1E1F\\\\u1E21\\\\u1E23\\\\u1E25\\\\u1E27\\\\u1E29\\\\u1E2B\\\\u1E2D\\\\u1E2F\\\\u1E31\\\\u1E33\\\\u1E35\\\\u1E37\\\\u1E39\\\\u1E3B\\\\u1E3D\\\\u1E3F\\\\u1E41\\\\u1E43\\\\u1E45\\\\u1E47\\\\u1E49\\\\u1E4B\\\\u1E4D\\\\u1E4F\\\\u1E51\\\\u1E53\\\\u1E55\\\\u1E57\\\\u1E59\\\\u1E5B\\\\u1E5D\\\\u1E5F\\\\u1E61\\\\u1E63\\\\u1E65\\\\u1E67\\\\u1E69\\\\u1E6B\\\\u1E6D\\\\u1E6F\\\\u1E71\\\\u1E73\\\\u1E75\\\\u1E77\\\\u1E79\\\\u1E7B\\\\u1E7D\\\\u1E7F\\\\u1E81\\\\u1E83\\\\u1E85\\\\u1E87\\\\u1E89\\\\u1E8B\\\\u1E8D\\\\u1E8F\\\\u1E91\\\\u1E93\\\\u1E95-\\\\u1E9D\\\\u1E9F\\\\u1EA1\\\\u1EA3\\\\u1EA5\\\\u1EA7\\\\u1EA9\\\\u1EAB\\\\u1EAD\\\\u1EAF\\\\u1EB1\\\\u1EB3\\\\u1EB5\\\\u1EB7\\\\u1EB9\\\\u1EBB\\\\u1EBD\\\\u1EBF\\\\u1EC1\\\\u1EC3\\\\u1EC5\\\\u1EC7\\\\u1EC9\\\\u1ECB\\\\u1ECD\\\\u1ECF\\\\u1ED1\\\\u1ED3\\\\u1ED5\\\\u1ED7\\\\u1ED9\\\\u1EDB\\\\u1EDD\\\\u1EDF\\\\u1EE1\\\\u1EE3\\\\u1EE5\\\\u1EE7\\\\u1EE9\\\\u1EEB\\\\u1EED\\\\u1EEF\\\\u1EF1\\\\u1EF3\\\\u1EF5\\\\u1EF7\\\\u1EF9\\\\u1EFB\\\\u1EFD\\\\u1EFFёа-яәөүҗңһα-ωάέίόώήύа-щюяіїєґѓѕјљњќѐѝ\\\\u1200-\\\\u137F\\\\u0980-\\\\u09FF\\\\u0591-\\\\u05F4\\\\uFB1D-\\\\uFB4F\\\\u0620-\\\\u064A\\\\u066E-\\\\u06D5\\\\u06E5-\\\\u06FF\\\\u0750-\\\\u077F\\\\u08A0-\\\\u08BD\\\\uFB50-\\\\uFBB1\\\\uFBD3-\\\\uFD3D\\\\uFD50-\\\\uFDC7\\\\uFDF0-\\\\uFDFB\\\\uFE70-\\\\uFEFC\\\\U0001EE00-\\\\U0001EEBB\\\\u0D80-\\\\u0DFF\\\\u0900-\\\\u097F\\\\u0C80-\\\\u0CFF\\\\u0B80-\\\\u0BFF\\\\u0C00-\\\\u0C7F\\\\uAC00-\\\\uD7AF\\\\u1100-\\\\u11FF\\\\u3040-\\\\u309F\\\\u30A0-\\\\u30FFー\\\\u4E00-\\\\u62FF\\\\u6300-\\\\u77FF\\\\u7800-\\\\u8CFF\\\\u8D00-\\\\u9FFF\\\\u3400-\\\\u4DBF\\\\U00020000-\\\\U000215FF\\\\U00021600-\\\\U000230FF\\\\U00023100-\\\\U000245FF\\\\U00024600-\\\\U000260FF\\\\U00026100-\\\\U000275FF\\\\U00027600-\\\\U000290FF\\\\U00029100-\\\\U0002A6DF\\\\U0002A700-\\\\U0002B73F\\\\U0002B740-\\\\U0002B81F\\\\U0002B820-\\\\U0002CEAF\\\\U0002CEB0-\\\\U0002EBEF\\\\u2E80-\\\\u2EFF\\\\u2F00-\\\\u2FDF\\\\u2FF0-\\\\u2FFF\\\\u3000-\\\\u303F\\\\u31C0-\\\\u31EF\\\\u3200-\\\\u32FF\\\\u3300-\\\\u33FF\\\\uF900-\\\\uFAFF\\\\uFE30-\\\\uFE4F\\\\U0001F200-\\\\U0001F2FF\\\\U0002F800-\\\\U0002FA1F\\\\\\'\"”“`‘´’‚,„»«「」『』（）〔〕【】《》〈〉])\\\\.(?=[A-Z\\\\uFF21-\\\\uFF3A\\\\u00C0-\\\\u00D6\\\\u00D8-\\\\u00DE\\\\u0100\\\\u0102\\\\u0104\\\\u0106\\\\u0108\\\\u010A\\\\u010C\\\\u010E\\\\u0110\\\\u0112\\\\u0114\\\\u0116\\\\u0118\\\\u011A\\\\u011C\\\\u011E\\\\u0120\\\\u0122\\\\u0124\\\\u0126\\\\u0128\\\\u012A\\\\u012C\\\\u012E\\\\u0130\\\\u0132\\\\u0134\\\\u0136\\\\u0139\\\\u013B\\\\u013D\\\\u013F\\\\u0141\\\\u0143\\\\u0145\\\\u0147\\\\u014A\\\\u014C\\\\u014E\\\\u0150\\\\u0152\\\\u0154\\\\u0156\\\\u0158\\\\u015A\\\\u015C\\\\u015E\\\\u0160\\\\u0162\\\\u0164\\\\u0166\\\\u0168\\\\u016A\\\\u016C\\\\u016E\\\\u0170\\\\u0172\\\\u0174\\\\u0176\\\\u0178\\\\u0179\\\\u017B\\\\u017D\\\\u0181\\\\u0182\\\\u0184\\\\u0186\\\\u0187\\\\u0189-\\\\u018B\\\\u018E-\\\\u0191\\\\u0193\\\\u0194\\\\u0196-\\\\u0198\\\\u019C\\\\u019D\\\\u019F\\\\u01A0\\\\u01A2\\\\u01A4\\\\u01A6\\\\u01A7\\\\u01A9\\\\u01AC\\\\u01AE\\\\u01AF\\\\u01B1-\\\\u01B3\\\\u01B5\\\\u01B7\\\\u01B8\\\\u01BC\\\\u01C4\\\\u01C7\\\\u01CA\\\\u01CD\\\\u01CF\\\\u01D1\\\\u01D3\\\\u01D5\\\\u01D7\\\\u01D9\\\\u01DB\\\\u01DE\\\\u01E0\\\\u01E2\\\\u01E4\\\\u01E6\\\\u01E8\\\\u01EA\\\\u01EC\\\\u01EE\\\\u01F1\\\\u01F4\\\\u01F6-\\\\u01F8\\\\u01FA\\\\u01FC\\\\u01FE\\\\u0200\\\\u0202\\\\u0204\\\\u0206\\\\u0208\\\\u020A\\\\u020C\\\\u020E\\\\u0210\\\\u0212\\\\u0214\\\\u0216\\\\u0218\\\\u021A\\\\u021C\\\\u021E\\\\u0220\\\\u0222\\\\u0224\\\\u0226\\\\u0228\\\\u022A\\\\u022C\\\\u022E\\\\u0230\\\\u0232\\\\u023A\\\\u023B\\\\u023D\\\\u023E\\\\u0241\\\\u0243-\\\\u0246\\\\u0248\\\\u024A\\\\u024C\\\\u024E\\\\u2C60\\\\u2C62-\\\\u2C64\\\\u2C67\\\\u2C69\\\\u2C6B\\\\u2C6D-\\\\u2C70\\\\u2C72\\\\u2C75\\\\u2C7E\\\\u2C7F\\\\uA722\\\\uA724\\\\uA726\\\\uA728\\\\uA72A\\\\uA72C\\\\uA72E\\\\uA732\\\\uA734\\\\uA736\\\\uA738\\\\uA73A\\\\uA73C\\\\uA73E\\\\uA740\\\\uA742\\\\uA744\\\\uA746\\\\uA748\\\\uA74A\\\\uA74C\\\\uA74E\\\\uA750\\\\uA752\\\\uA754\\\\uA756\\\\uA758\\\\uA75A\\\\uA75C\\\\uA75E\\\\uA760\\\\uA762\\\\uA764\\\\uA766\\\\uA768\\\\uA76A\\\\uA76C\\\\uA76E\\\\uA779\\\\uA77B\\\\uA77D\\\\uA77E\\\\uA780\\\\uA782\\\\uA784\\\\uA786\\\\uA78B\\\\uA78D\\\\uA790\\\\uA792\\\\uA796\\\\uA798\\\\uA79A\\\\uA79C\\\\uA79E\\\\uA7A0\\\\uA7A2\\\\uA7A4\\\\uA7A6\\\\uA7A8\\\\uA7AA-\\\\uA7AE\\\\uA7B0-\\\\uA7B4\\\\uA7B6\\\\uA7B8\\\\u1E00\\\\u1E02\\\\u1E04\\\\u1E06\\\\u1E08\\\\u1E0A\\\\u1E0C\\\\u1E0E\\\\u1E10\\\\u1E12\\\\u1E14\\\\u1E16\\\\u1E18\\\\u1E1A\\\\u1E1C\\\\u1E1E\\\\u1E20\\\\u1E22\\\\u1E24\\\\u1E26\\\\u1E28\\\\u1E2A\\\\u1E2C\\\\u1E2E\\\\u1E30\\\\u1E32\\\\u1E34\\\\u1E36\\\\u1E38\\\\u1E3A\\\\u1E3C\\\\u1E3E\\\\u1E40\\\\u1E42\\\\u1E44\\\\u1E46\\\\u1E48\\\\u1E4A\\\\u1E4C\\\\u1E4E\\\\u1E50\\\\u1E52\\\\u1E54\\\\u1E56\\\\u1E58\\\\u1E5A\\\\u1E5C\\\\u1E5E\\\\u1E60\\\\u1E62\\\\u1E64\\\\u1E66\\\\u1E68\\\\u1E6A\\\\u1E6C\\\\u1E6E\\\\u1E70\\\\u1E72\\\\u1E74\\\\u1E76\\\\u1E78\\\\u1E7A\\\\u1E7C\\\\u1E7E\\\\u1E80\\\\u1E82\\\\u1E84\\\\u1E86\\\\u1E88\\\\u1E8A\\\\u1E8C\\\\u1E8E\\\\u1E90\\\\u1E92\\\\u1E94\\\\u1E9E\\\\u1EA0\\\\u1EA2\\\\u1EA4\\\\u1EA6\\\\u1EA8\\\\u1EAA\\\\u1EAC\\\\u1EAE\\\\u1EB0\\\\u1EB2\\\\u1EB4\\\\u1EB6\\\\u1EB8\\\\u1EBA\\\\u1EBC\\\\u1EBE\\\\u1EC0\\\\u1EC2\\\\u1EC4\\\\u1EC6\\\\u1EC8\\\\u1ECA\\\\u1ECC\\\\u1ECE\\\\u1ED0\\\\u1ED2\\\\u1ED4\\\\u1ED6\\\\u1ED8\\\\u1EDA\\\\u1EDC\\\\u1EDE\\\\u1EE0\\\\u1EE2\\\\u1EE4\\\\u1EE6\\\\u1EE8\\\\u1EEA\\\\u1EEC\\\\u1EEE\\\\u1EF0\\\\u1EF2\\\\u1EF4\\\\u1EF6\\\\u1EF8\\\\u1EFA\\\\u1EFC\\\\u1EFEЁА-ЯӘӨҮҖҢҺΑ-ΩΆΈΊΌΏΉΎА-ЩЮЯІЇЄҐЃЅЈЉЊЌЀЍ\\\\u1200-\\\\u137F\\\\u0980-\\\\u09FF\\\\u0591-\\\\u05F4\\\\uFB1D-\\\\uFB4F\\\\u0620-\\\\u064A\\\\u066E-\\\\u06D5\\\\u06E5-\\\\u06FF\\\\u0750-\\\\u077F\\\\u08A0-\\\\u08BD\\\\uFB50-\\\\uFBB1\\\\uFBD3-\\\\uFD3D\\\\uFD50-\\\\uFDC7\\\\uFDF0-\\\\uFDFB\\\\uFE70-\\\\uFEFC\\\\U0001EE00-\\\\U0001EEBB\\\\u0D80-\\\\u0DFF\\\\u0900-\\\\u097F\\\\u0C80-\\\\u0CFF\\\\u0B80-\\\\u0BFF\\\\u0C00-\\\\u0C7F\\\\uAC00-\\\\uD7AF\\\\u1100-\\\\u11FF\\\\u3040-\\\\u309F\\\\u30A0-\\\\u30FFー\\\\u4E00-\\\\u62FF\\\\u6300-\\\\u77FF\\\\u7800-\\\\u8CFF\\\\u8D00-\\\\u9FFF\\\\u3400-\\\\u4DBF\\\\U00020000-\\\\U000215FF\\\\U00021600-\\\\U000230FF\\\\U00023100-\\\\U000245FF\\\\U00024600-\\\\U000260FF\\\\U00026100-\\\\U000275FF\\\\U00027600-\\\\U000290FF\\\\U00029100-\\\\U0002A6DF\\\\U0002A700-\\\\U0002B73F\\\\U0002B740-\\\\U0002B81F\\\\U0002B820-\\\\U0002CEAF\\\\U0002CEB0-\\\\U0002EBEF\\\\u2E80-\\\\u2EFF\\\\u2F00-\\\\u2FDF\\\\u2FF0-\\\\u2FFF\\\\u3000-\\\\u303F\\\\u31C0-\\\\u31EF\\\\u3200-\\\\u32FF\\\\u3300-\\\\u33FF\\\\uF900-\\\\uFAFF\\\\uFE30-\\\\uFE4F\\\\U0001F200-\\\\U0001F2FF\\\\U0002F800-\\\\U0002FA1F\\\\\\'\"”“`‘´’‚,„»«「」『』（）〔〕【】《》〈〉])',\n",
       " '(?<=[A-Za-z\\\\uFF21-\\\\uFF3A\\\\uFF41-\\\\uFF5A\\\\u00C0-\\\\u00D6\\\\u00D8-\\\\u00F6\\\\u00F8-\\\\u00FF\\\\u0100-\\\\u017F\\\\u0180-\\\\u01BF\\\\u01C4-\\\\u024F\\\\u2C60-\\\\u2C7B\\\\u2C7E\\\\u2C7F\\\\uA722-\\\\uA76F\\\\uA771-\\\\uA787\\\\uA78B-\\\\uA78E\\\\uA790-\\\\uA7B9\\\\uA7FA\\\\uAB30-\\\\uAB5A\\\\uAB60-\\\\uAB64\\\\u0250-\\\\u02AF\\\\u1D00-\\\\u1D25\\\\u1D6B-\\\\u1D77\\\\u1D79-\\\\u1D9A\\\\u1E00-\\\\u1EFFёа-яЁА-ЯәөүҗңһӘӨҮҖҢҺα-ωάέίόώήύΑ-ΩΆΈΊΌΏΉΎа-щюяіїєґА-ЩЮЯІЇЄҐѓѕјљњќѐѝЃЅЈЉЊЌЀЍ\\\\u1200-\\\\u137F\\\\u0980-\\\\u09FF\\\\u0591-\\\\u05F4\\\\uFB1D-\\\\uFB4F\\\\u0620-\\\\u064A\\\\u066E-\\\\u06D5\\\\u06E5-\\\\u06FF\\\\u0750-\\\\u077F\\\\u08A0-\\\\u08BD\\\\uFB50-\\\\uFBB1\\\\uFBD3-\\\\uFD3D\\\\uFD50-\\\\uFDC7\\\\uFDF0-\\\\uFDFB\\\\uFE70-\\\\uFEFC\\\\U0001EE00-\\\\U0001EEBB\\\\u0D80-\\\\u0DFF\\\\u0900-\\\\u097F\\\\u0C80-\\\\u0CFF\\\\u0B80-\\\\u0BFF\\\\u0C00-\\\\u0C7F\\\\uAC00-\\\\uD7AF\\\\u1100-\\\\u11FF\\\\u3040-\\\\u309F\\\\u30A0-\\\\u30FFー\\\\u4E00-\\\\u62FF\\\\u6300-\\\\u77FF\\\\u7800-\\\\u8CFF\\\\u8D00-\\\\u9FFF\\\\u3400-\\\\u4DBF\\\\U00020000-\\\\U000215FF\\\\U00021600-\\\\U000230FF\\\\U00023100-\\\\U000245FF\\\\U00024600-\\\\U000260FF\\\\U00026100-\\\\U000275FF\\\\U00027600-\\\\U000290FF\\\\U00029100-\\\\U0002A6DF\\\\U0002A700-\\\\U0002B73F\\\\U0002B740-\\\\U0002B81F\\\\U0002B820-\\\\U0002CEAF\\\\U0002CEB0-\\\\U0002EBEF\\\\u2E80-\\\\u2EFF\\\\u2F00-\\\\u2FDF\\\\u2FF0-\\\\u2FFF\\\\u3000-\\\\u303F\\\\u31C0-\\\\u31EF\\\\u3200-\\\\u32FF\\\\u3300-\\\\u33FF\\\\uF900-\\\\uFAFF\\\\uFE30-\\\\uFE4F\\\\U0001F200-\\\\U0001F2FF\\\\U0002F800-\\\\U0002FA1F]),(?=[A-Za-z\\\\uFF21-\\\\uFF3A\\\\uFF41-\\\\uFF5A\\\\u00C0-\\\\u00D6\\\\u00D8-\\\\u00F6\\\\u00F8-\\\\u00FF\\\\u0100-\\\\u017F\\\\u0180-\\\\u01BF\\\\u01C4-\\\\u024F\\\\u2C60-\\\\u2C7B\\\\u2C7E\\\\u2C7F\\\\uA722-\\\\uA76F\\\\uA771-\\\\uA787\\\\uA78B-\\\\uA78E\\\\uA790-\\\\uA7B9\\\\uA7FA\\\\uAB30-\\\\uAB5A\\\\uAB60-\\\\uAB64\\\\u0250-\\\\u02AF\\\\u1D00-\\\\u1D25\\\\u1D6B-\\\\u1D77\\\\u1D79-\\\\u1D9A\\\\u1E00-\\\\u1EFFёа-яЁА-ЯәөүҗңһӘӨҮҖҢҺα-ωάέίόώήύΑ-ΩΆΈΊΌΏΉΎа-щюяіїєґА-ЩЮЯІЇЄҐѓѕјљњќѐѝЃЅЈЉЊЌЀЍ\\\\u1200-\\\\u137F\\\\u0980-\\\\u09FF\\\\u0591-\\\\u05F4\\\\uFB1D-\\\\uFB4F\\\\u0620-\\\\u064A\\\\u066E-\\\\u06D5\\\\u06E5-\\\\u06FF\\\\u0750-\\\\u077F\\\\u08A0-\\\\u08BD\\\\uFB50-\\\\uFBB1\\\\uFBD3-\\\\uFD3D\\\\uFD50-\\\\uFDC7\\\\uFDF0-\\\\uFDFB\\\\uFE70-\\\\uFEFC\\\\U0001EE00-\\\\U0001EEBB\\\\u0D80-\\\\u0DFF\\\\u0900-\\\\u097F\\\\u0C80-\\\\u0CFF\\\\u0B80-\\\\u0BFF\\\\u0C00-\\\\u0C7F\\\\uAC00-\\\\uD7AF\\\\u1100-\\\\u11FF\\\\u3040-\\\\u309F\\\\u30A0-\\\\u30FFー\\\\u4E00-\\\\u62FF\\\\u6300-\\\\u77FF\\\\u7800-\\\\u8CFF\\\\u8D00-\\\\u9FFF\\\\u3400-\\\\u4DBF\\\\U00020000-\\\\U000215FF\\\\U00021600-\\\\U000230FF\\\\U00023100-\\\\U000245FF\\\\U00024600-\\\\U000260FF\\\\U00026100-\\\\U000275FF\\\\U00027600-\\\\U000290FF\\\\U00029100-\\\\U0002A6DF\\\\U0002A700-\\\\U0002B73F\\\\U0002B740-\\\\U0002B81F\\\\U0002B820-\\\\U0002CEAF\\\\U0002CEB0-\\\\U0002EBEF\\\\u2E80-\\\\u2EFF\\\\u2F00-\\\\u2FDF\\\\u2FF0-\\\\u2FFF\\\\u3000-\\\\u303F\\\\u31C0-\\\\u31EF\\\\u3200-\\\\u32FF\\\\u3300-\\\\u33FF\\\\uF900-\\\\uFAFF\\\\uFE30-\\\\uFE4F\\\\U0001F200-\\\\U0001F2FF\\\\U0002F800-\\\\U0002FA1F])',\n",
       " '(?<=[A-Za-z\\\\uFF21-\\\\uFF3A\\\\uFF41-\\\\uFF5A\\\\u00C0-\\\\u00D6\\\\u00D8-\\\\u00F6\\\\u00F8-\\\\u00FF\\\\u0100-\\\\u017F\\\\u0180-\\\\u01BF\\\\u01C4-\\\\u024F\\\\u2C60-\\\\u2C7B\\\\u2C7E\\\\u2C7F\\\\uA722-\\\\uA76F\\\\uA771-\\\\uA787\\\\uA78B-\\\\uA78E\\\\uA790-\\\\uA7B9\\\\uA7FA\\\\uAB30-\\\\uAB5A\\\\uAB60-\\\\uAB64\\\\u0250-\\\\u02AF\\\\u1D00-\\\\u1D25\\\\u1D6B-\\\\u1D77\\\\u1D79-\\\\u1D9A\\\\u1E00-\\\\u1EFFёа-яЁА-ЯәөүҗңһӘӨҮҖҢҺα-ωάέίόώήύΑ-ΩΆΈΊΌΏΉΎа-щюяіїєґА-ЩЮЯІЇЄҐѓѕјљњќѐѝЃЅЈЉЊЌЀЍ\\\\u1200-\\\\u137F\\\\u0980-\\\\u09FF\\\\u0591-\\\\u05F4\\\\uFB1D-\\\\uFB4F\\\\u0620-\\\\u064A\\\\u066E-\\\\u06D5\\\\u06E5-\\\\u06FF\\\\u0750-\\\\u077F\\\\u08A0-\\\\u08BD\\\\uFB50-\\\\uFBB1\\\\uFBD3-\\\\uFD3D\\\\uFD50-\\\\uFDC7\\\\uFDF0-\\\\uFDFB\\\\uFE70-\\\\uFEFC\\\\U0001EE00-\\\\U0001EEBB\\\\u0D80-\\\\u0DFF\\\\u0900-\\\\u097F\\\\u0C80-\\\\u0CFF\\\\u0B80-\\\\u0BFF\\\\u0C00-\\\\u0C7F\\\\uAC00-\\\\uD7AF\\\\u1100-\\\\u11FF\\\\u3040-\\\\u309F\\\\u30A0-\\\\u30FFー\\\\u4E00-\\\\u62FF\\\\u6300-\\\\u77FF\\\\u7800-\\\\u8CFF\\\\u8D00-\\\\u9FFF\\\\u3400-\\\\u4DBF\\\\U00020000-\\\\U000215FF\\\\U00021600-\\\\U000230FF\\\\U00023100-\\\\U000245FF\\\\U00024600-\\\\U000260FF\\\\U00026100-\\\\U000275FF\\\\U00027600-\\\\U000290FF\\\\U00029100-\\\\U0002A6DF\\\\U0002A700-\\\\U0002B73F\\\\U0002B740-\\\\U0002B81F\\\\U0002B820-\\\\U0002CEAF\\\\U0002CEB0-\\\\U0002EBEF\\\\u2E80-\\\\u2EFF\\\\u2F00-\\\\u2FDF\\\\u2FF0-\\\\u2FFF\\\\u3000-\\\\u303F\\\\u31C0-\\\\u31EF\\\\u3200-\\\\u32FF\\\\u3300-\\\\u33FF\\\\uF900-\\\\uFAFF\\\\uFE30-\\\\uFE4F\\\\U0001F200-\\\\U0001F2FF\\\\U0002F800-\\\\U0002FA1F0-9])(?:-|–|—|--|---|——|~)(?=[A-Za-z\\\\uFF21-\\\\uFF3A\\\\uFF41-\\\\uFF5A\\\\u00C0-\\\\u00D6\\\\u00D8-\\\\u00F6\\\\u00F8-\\\\u00FF\\\\u0100-\\\\u017F\\\\u0180-\\\\u01BF\\\\u01C4-\\\\u024F\\\\u2C60-\\\\u2C7B\\\\u2C7E\\\\u2C7F\\\\uA722-\\\\uA76F\\\\uA771-\\\\uA787\\\\uA78B-\\\\uA78E\\\\uA790-\\\\uA7B9\\\\uA7FA\\\\uAB30-\\\\uAB5A\\\\uAB60-\\\\uAB64\\\\u0250-\\\\u02AF\\\\u1D00-\\\\u1D25\\\\u1D6B-\\\\u1D77\\\\u1D79-\\\\u1D9A\\\\u1E00-\\\\u1EFFёа-яЁА-ЯәөүҗңһӘӨҮҖҢҺα-ωάέίόώήύΑ-ΩΆΈΊΌΏΉΎа-щюяіїєґА-ЩЮЯІЇЄҐѓѕјљњќѐѝЃЅЈЉЊЌЀЍ\\\\u1200-\\\\u137F\\\\u0980-\\\\u09FF\\\\u0591-\\\\u05F4\\\\uFB1D-\\\\uFB4F\\\\u0620-\\\\u064A\\\\u066E-\\\\u06D5\\\\u06E5-\\\\u06FF\\\\u0750-\\\\u077F\\\\u08A0-\\\\u08BD\\\\uFB50-\\\\uFBB1\\\\uFBD3-\\\\uFD3D\\\\uFD50-\\\\uFDC7\\\\uFDF0-\\\\uFDFB\\\\uFE70-\\\\uFEFC\\\\U0001EE00-\\\\U0001EEBB\\\\u0D80-\\\\u0DFF\\\\u0900-\\\\u097F\\\\u0C80-\\\\u0CFF\\\\u0B80-\\\\u0BFF\\\\u0C00-\\\\u0C7F\\\\uAC00-\\\\uD7AF\\\\u1100-\\\\u11FF\\\\u3040-\\\\u309F\\\\u30A0-\\\\u30FFー\\\\u4E00-\\\\u62FF\\\\u6300-\\\\u77FF\\\\u7800-\\\\u8CFF\\\\u8D00-\\\\u9FFF\\\\u3400-\\\\u4DBF\\\\U00020000-\\\\U000215FF\\\\U00021600-\\\\U000230FF\\\\U00023100-\\\\U000245FF\\\\U00024600-\\\\U000260FF\\\\U00026100-\\\\U000275FF\\\\U00027600-\\\\U000290FF\\\\U00029100-\\\\U0002A6DF\\\\U0002A700-\\\\U0002B73F\\\\U0002B740-\\\\U0002B81F\\\\U0002B820-\\\\U0002CEAF\\\\U0002CEB0-\\\\U0002EBEF\\\\u2E80-\\\\u2EFF\\\\u2F00-\\\\u2FDF\\\\u2FF0-\\\\u2FFF\\\\u3000-\\\\u303F\\\\u31C0-\\\\u31EF\\\\u3200-\\\\u32FF\\\\u3300-\\\\u33FF\\\\uF900-\\\\uFAFF\\\\uFE30-\\\\uFE4F\\\\U0001F200-\\\\U0001F2FF\\\\U0002F800-\\\\U0002FA1F])',\n",
       " '(?<=[A-Za-z\\\\uFF21-\\\\uFF3A\\\\uFF41-\\\\uFF5A\\\\u00C0-\\\\u00D6\\\\u00D8-\\\\u00F6\\\\u00F8-\\\\u00FF\\\\u0100-\\\\u017F\\\\u0180-\\\\u01BF\\\\u01C4-\\\\u024F\\\\u2C60-\\\\u2C7B\\\\u2C7E\\\\u2C7F\\\\uA722-\\\\uA76F\\\\uA771-\\\\uA787\\\\uA78B-\\\\uA78E\\\\uA790-\\\\uA7B9\\\\uA7FA\\\\uAB30-\\\\uAB5A\\\\uAB60-\\\\uAB64\\\\u0250-\\\\u02AF\\\\u1D00-\\\\u1D25\\\\u1D6B-\\\\u1D77\\\\u1D79-\\\\u1D9A\\\\u1E00-\\\\u1EFFёа-яЁА-ЯәөүҗңһӘӨҮҖҢҺα-ωάέίόώήύΑ-ΩΆΈΊΌΏΉΎа-щюяіїєґА-ЩЮЯІЇЄҐѓѕјљњќѐѝЃЅЈЉЊЌЀЍ\\\\u1200-\\\\u137F\\\\u0980-\\\\u09FF\\\\u0591-\\\\u05F4\\\\uFB1D-\\\\uFB4F\\\\u0620-\\\\u064A\\\\u066E-\\\\u06D5\\\\u06E5-\\\\u06FF\\\\u0750-\\\\u077F\\\\u08A0-\\\\u08BD\\\\uFB50-\\\\uFBB1\\\\uFBD3-\\\\uFD3D\\\\uFD50-\\\\uFDC7\\\\uFDF0-\\\\uFDFB\\\\uFE70-\\\\uFEFC\\\\U0001EE00-\\\\U0001EEBB\\\\u0D80-\\\\u0DFF\\\\u0900-\\\\u097F\\\\u0C80-\\\\u0CFF\\\\u0B80-\\\\u0BFF\\\\u0C00-\\\\u0C7F\\\\uAC00-\\\\uD7AF\\\\u1100-\\\\u11FF\\\\u3040-\\\\u309F\\\\u30A0-\\\\u30FFー\\\\u4E00-\\\\u62FF\\\\u6300-\\\\u77FF\\\\u7800-\\\\u8CFF\\\\u8D00-\\\\u9FFF\\\\u3400-\\\\u4DBF\\\\U00020000-\\\\U000215FF\\\\U00021600-\\\\U000230FF\\\\U00023100-\\\\U000245FF\\\\U00024600-\\\\U000260FF\\\\U00026100-\\\\U000275FF\\\\U00027600-\\\\U000290FF\\\\U00029100-\\\\U0002A6DF\\\\U0002A700-\\\\U0002B73F\\\\U0002B740-\\\\U0002B81F\\\\U0002B820-\\\\U0002CEAF\\\\U0002CEB0-\\\\U0002EBEF\\\\u2E80-\\\\u2EFF\\\\u2F00-\\\\u2FDF\\\\u2FF0-\\\\u2FFF\\\\u3000-\\\\u303F\\\\u31C0-\\\\u31EF\\\\u3200-\\\\u32FF\\\\u3300-\\\\u33FF\\\\uF900-\\\\uFAFF\\\\uFE30-\\\\uFE4F\\\\U0001F200-\\\\U0001F2FF\\\\U0002F800-\\\\U0002FA1F0-9])[:<>=/](?=[A-Za-z\\\\uFF21-\\\\uFF3A\\\\uFF41-\\\\uFF5A\\\\u00C0-\\\\u00D6\\\\u00D8-\\\\u00F6\\\\u00F8-\\\\u00FF\\\\u0100-\\\\u017F\\\\u0180-\\\\u01BF\\\\u01C4-\\\\u024F\\\\u2C60-\\\\u2C7B\\\\u2C7E\\\\u2C7F\\\\uA722-\\\\uA76F\\\\uA771-\\\\uA787\\\\uA78B-\\\\uA78E\\\\uA790-\\\\uA7B9\\\\uA7FA\\\\uAB30-\\\\uAB5A\\\\uAB60-\\\\uAB64\\\\u0250-\\\\u02AF\\\\u1D00-\\\\u1D25\\\\u1D6B-\\\\u1D77\\\\u1D79-\\\\u1D9A\\\\u1E00-\\\\u1EFFёа-яЁА-ЯәөүҗңһӘӨҮҖҢҺα-ωάέίόώήύΑ-ΩΆΈΊΌΏΉΎа-щюяіїєґА-ЩЮЯІЇЄҐѓѕјљњќѐѝЃЅЈЉЊЌЀЍ\\\\u1200-\\\\u137F\\\\u0980-\\\\u09FF\\\\u0591-\\\\u05F4\\\\uFB1D-\\\\uFB4F\\\\u0620-\\\\u064A\\\\u066E-\\\\u06D5\\\\u06E5-\\\\u06FF\\\\u0750-\\\\u077F\\\\u08A0-\\\\u08BD\\\\uFB50-\\\\uFBB1\\\\uFBD3-\\\\uFD3D\\\\uFD50-\\\\uFDC7\\\\uFDF0-\\\\uFDFB\\\\uFE70-\\\\uFEFC\\\\U0001EE00-\\\\U0001EEBB\\\\u0D80-\\\\u0DFF\\\\u0900-\\\\u097F\\\\u0C80-\\\\u0CFF\\\\u0B80-\\\\u0BFF\\\\u0C00-\\\\u0C7F\\\\uAC00-\\\\uD7AF\\\\u1100-\\\\u11FF\\\\u3040-\\\\u309F\\\\u30A0-\\\\u30FFー\\\\u4E00-\\\\u62FF\\\\u6300-\\\\u77FF\\\\u7800-\\\\u8CFF\\\\u8D00-\\\\u9FFF\\\\u3400-\\\\u4DBF\\\\U00020000-\\\\U000215FF\\\\U00021600-\\\\U000230FF\\\\U00023100-\\\\U000245FF\\\\U00024600-\\\\U000260FF\\\\U00026100-\\\\U000275FF\\\\U00027600-\\\\U000290FF\\\\U00029100-\\\\U0002A6DF\\\\U0002A700-\\\\U0002B73F\\\\U0002B740-\\\\U0002B81F\\\\U0002B820-\\\\U0002CEAF\\\\U0002CEB0-\\\\U0002EBEF\\\\u2E80-\\\\u2EFF\\\\u2F00-\\\\u2FDF\\\\u2FF0-\\\\u2FFF\\\\u3000-\\\\u303F\\\\u31C0-\\\\u31EF\\\\u3200-\\\\u32FF\\\\u3300-\\\\u33FF\\\\uF900-\\\\uFAFF\\\\uFE30-\\\\uFE4F\\\\U0001F200-\\\\U0001F2FF\\\\U0002F800-\\\\U0002FA1F])']"
      ]
     },
     "execution_count": 64,
     "metadata": {},
     "output_type": "execute_result"
    }
   ],
   "source": [
    "nlp.Defaults.infixes"
   ]
  },
  {
   "cell_type": "code",
   "execution_count": 65,
   "id": "27be3791",
   "metadata": {},
   "outputs": [
    {
     "data": {
      "text/plain": [
       "(8, 7)"
      ]
     },
     "execution_count": 65,
     "metadata": {},
     "output_type": "execute_result"
    }
   ],
   "source": [
    "len(nlp.Defaults.infixes), len([pattern for pattern in nlp.Defaults.infixes if not re.search(pattern, \"xx-xx\")])"
   ]
  },
  {
   "cell_type": "code",
   "execution_count": 66,
   "id": "cb82c71a",
   "metadata": {},
   "outputs": [
    {
     "data": {
      "text/plain": [
       "['(?<=[A-Za-z\\\\uFF21-\\\\uFF3A\\\\uFF41-\\\\uFF5A\\\\u00C0-\\\\u00D6\\\\u00D8-\\\\u00F6\\\\u00F8-\\\\u00FF\\\\u0100-\\\\u017F\\\\u0180-\\\\u01BF\\\\u01C4-\\\\u024F\\\\u2C60-\\\\u2C7B\\\\u2C7E\\\\u2C7F\\\\uA722-\\\\uA76F\\\\uA771-\\\\uA787\\\\uA78B-\\\\uA78E\\\\uA790-\\\\uA7B9\\\\uA7FA\\\\uAB30-\\\\uAB5A\\\\uAB60-\\\\uAB64\\\\u0250-\\\\u02AF\\\\u1D00-\\\\u1D25\\\\u1D6B-\\\\u1D77\\\\u1D79-\\\\u1D9A\\\\u1E00-\\\\u1EFFёа-яЁА-ЯәөүҗңһӘӨҮҖҢҺα-ωάέίόώήύΑ-ΩΆΈΊΌΏΉΎа-щюяіїєґА-ЩЮЯІЇЄҐѓѕјљњќѐѝЃЅЈЉЊЌЀЍ\\\\u1200-\\\\u137F\\\\u0980-\\\\u09FF\\\\u0591-\\\\u05F4\\\\uFB1D-\\\\uFB4F\\\\u0620-\\\\u064A\\\\u066E-\\\\u06D5\\\\u06E5-\\\\u06FF\\\\u0750-\\\\u077F\\\\u08A0-\\\\u08BD\\\\uFB50-\\\\uFBB1\\\\uFBD3-\\\\uFD3D\\\\uFD50-\\\\uFDC7\\\\uFDF0-\\\\uFDFB\\\\uFE70-\\\\uFEFC\\\\U0001EE00-\\\\U0001EEBB\\\\u0D80-\\\\u0DFF\\\\u0900-\\\\u097F\\\\u0C80-\\\\u0CFF\\\\u0B80-\\\\u0BFF\\\\u0C00-\\\\u0C7F\\\\uAC00-\\\\uD7AF\\\\u1100-\\\\u11FF\\\\u3040-\\\\u309F\\\\u30A0-\\\\u30FFー\\\\u4E00-\\\\u62FF\\\\u6300-\\\\u77FF\\\\u7800-\\\\u8CFF\\\\u8D00-\\\\u9FFF\\\\u3400-\\\\u4DBF\\\\U00020000-\\\\U000215FF\\\\U00021600-\\\\U000230FF\\\\U00023100-\\\\U000245FF\\\\U00024600-\\\\U000260FF\\\\U00026100-\\\\U000275FF\\\\U00027600-\\\\U000290FF\\\\U00029100-\\\\U0002A6DF\\\\U0002A700-\\\\U0002B73F\\\\U0002B740-\\\\U0002B81F\\\\U0002B820-\\\\U0002CEAF\\\\U0002CEB0-\\\\U0002EBEF\\\\u2E80-\\\\u2EFF\\\\u2F00-\\\\u2FDF\\\\u2FF0-\\\\u2FFF\\\\u3000-\\\\u303F\\\\u31C0-\\\\u31EF\\\\u3200-\\\\u32FF\\\\u3300-\\\\u33FF\\\\uF900-\\\\uFAFF\\\\uFE30-\\\\uFE4F\\\\U0001F200-\\\\U0001F2FF\\\\U0002F800-\\\\U0002FA1F0-9])(?:-|–|—|--|---|——|~)(?=[A-Za-z\\\\uFF21-\\\\uFF3A\\\\uFF41-\\\\uFF5A\\\\u00C0-\\\\u00D6\\\\u00D8-\\\\u00F6\\\\u00F8-\\\\u00FF\\\\u0100-\\\\u017F\\\\u0180-\\\\u01BF\\\\u01C4-\\\\u024F\\\\u2C60-\\\\u2C7B\\\\u2C7E\\\\u2C7F\\\\uA722-\\\\uA76F\\\\uA771-\\\\uA787\\\\uA78B-\\\\uA78E\\\\uA790-\\\\uA7B9\\\\uA7FA\\\\uAB30-\\\\uAB5A\\\\uAB60-\\\\uAB64\\\\u0250-\\\\u02AF\\\\u1D00-\\\\u1D25\\\\u1D6B-\\\\u1D77\\\\u1D79-\\\\u1D9A\\\\u1E00-\\\\u1EFFёа-яЁА-ЯәөүҗңһӘӨҮҖҢҺα-ωάέίόώήύΑ-ΩΆΈΊΌΏΉΎа-щюяіїєґА-ЩЮЯІЇЄҐѓѕјљњќѐѝЃЅЈЉЊЌЀЍ\\\\u1200-\\\\u137F\\\\u0980-\\\\u09FF\\\\u0591-\\\\u05F4\\\\uFB1D-\\\\uFB4F\\\\u0620-\\\\u064A\\\\u066E-\\\\u06D5\\\\u06E5-\\\\u06FF\\\\u0750-\\\\u077F\\\\u08A0-\\\\u08BD\\\\uFB50-\\\\uFBB1\\\\uFBD3-\\\\uFD3D\\\\uFD50-\\\\uFDC7\\\\uFDF0-\\\\uFDFB\\\\uFE70-\\\\uFEFC\\\\U0001EE00-\\\\U0001EEBB\\\\u0D80-\\\\u0DFF\\\\u0900-\\\\u097F\\\\u0C80-\\\\u0CFF\\\\u0B80-\\\\u0BFF\\\\u0C00-\\\\u0C7F\\\\uAC00-\\\\uD7AF\\\\u1100-\\\\u11FF\\\\u3040-\\\\u309F\\\\u30A0-\\\\u30FFー\\\\u4E00-\\\\u62FF\\\\u6300-\\\\u77FF\\\\u7800-\\\\u8CFF\\\\u8D00-\\\\u9FFF\\\\u3400-\\\\u4DBF\\\\U00020000-\\\\U000215FF\\\\U00021600-\\\\U000230FF\\\\U00023100-\\\\U000245FF\\\\U00024600-\\\\U000260FF\\\\U00026100-\\\\U000275FF\\\\U00027600-\\\\U000290FF\\\\U00029100-\\\\U0002A6DF\\\\U0002A700-\\\\U0002B73F\\\\U0002B740-\\\\U0002B81F\\\\U0002B820-\\\\U0002CEAF\\\\U0002CEB0-\\\\U0002EBEF\\\\u2E80-\\\\u2EFF\\\\u2F00-\\\\u2FDF\\\\u2FF0-\\\\u2FFF\\\\u3000-\\\\u303F\\\\u31C0-\\\\u31EF\\\\u3200-\\\\u32FF\\\\u3300-\\\\u33FF\\\\uF900-\\\\uFAFF\\\\uFE30-\\\\uFE4F\\\\U0001F200-\\\\U0001F2FF\\\\U0002F800-\\\\U0002FA1F])']"
      ]
     },
     "execution_count": 66,
     "metadata": {},
     "output_type": "execute_result"
    }
   ],
   "source": [
    "[pattern for pattern in nlp.Defaults.infixes if re.search(pattern, \"xx-xx\")]"
   ]
  },
  {
   "cell_type": "code",
   "execution_count": 67,
   "id": "69160fc6",
   "metadata": {},
   "outputs": [
    {
     "name": "stdout",
     "output_type": "stream",
     "text": [
      "@Pete|:|choose|low|-|carb|#|food|#|eat|-|smart|.|_|url|_|;-)|😋|👍|"
     ]
    }
   ],
   "source": [
    "nlp = spacy.load(\"en_core_web_sm\")\n",
    "doc = nlp(text)\n",
    "for token in doc:\n",
    "    print(token, end=\"|\")"
   ]
  },
  {
   "cell_type": "code",
   "execution_count": 68,
   "id": "75708325",
   "metadata": {},
   "outputs": [],
   "source": [
    "nlp = spacy.load(\"en_core_web_sm\")\n",
    "nlp.tokenizer = custom_tokenizer(nlp)"
   ]
  },
  {
   "cell_type": "code",
   "execution_count": 69,
   "id": "82c5b063",
   "metadata": {},
   "outputs": [
    {
     "name": "stdout",
     "output_type": "stream",
     "text": [
      "@Pete|:|choose|low-carb|#food|#eat-smart|.|_url_|;-)|😋|👍|"
     ]
    }
   ],
   "source": [
    "doc = nlp(text)\n",
    "for token in doc:\n",
    "    print(token, end=\"|\")"
   ]
  },
  {
   "cell_type": "markdown",
   "id": "3419f688",
   "metadata": {},
   "source": [
    "### 4.3 Blueprint: Working with stop words"
   ]
  },
  {
   "cell_type": "code",
   "execution_count": 70,
   "id": "00a328b7",
   "metadata": {},
   "outputs": [],
   "source": [
    "text = \"Dear Ryan, we need to sit down and talk. Regards, Pete\""
   ]
  },
  {
   "cell_type": "code",
   "execution_count": 71,
   "id": "92f55512",
   "metadata": {},
   "outputs": [],
   "source": [
    "doc = nlp(text)"
   ]
  },
  {
   "cell_type": "code",
   "execution_count": 72,
   "id": "e9335edd",
   "metadata": {},
   "outputs": [],
   "source": [
    "non_stop = [t for t in doc if not t.is_stop and not t.is_punct]"
   ]
  },
  {
   "cell_type": "code",
   "execution_count": 73,
   "id": "d1af3910",
   "metadata": {},
   "outputs": [
    {
     "data": {
      "text/plain": [
       "[Dear, Ryan, need, sit, talk, Regards, Pete]"
      ]
     },
     "execution_count": 73,
     "metadata": {},
     "output_type": "execute_result"
    }
   ],
   "source": [
    "non_stop"
   ]
  },
  {
   "cell_type": "code",
   "execution_count": 74,
   "id": "7f395105",
   "metadata": {},
   "outputs": [],
   "source": [
    "nlp = spacy.load(\"en_core_web_sm\")"
   ]
  },
  {
   "cell_type": "code",
   "execution_count": 75,
   "id": "58174312",
   "metadata": {},
   "outputs": [],
   "source": [
    "nlp.vocab[\"down\"].is_stop = False\n",
    "nlp.vocab[\"Dear\"].is_stop = True\n",
    "nlp.vocab[\"Regards\"].is_stop = True"
   ]
  },
  {
   "cell_type": "code",
   "execution_count": 76,
   "id": "c5b0d02e",
   "metadata": {},
   "outputs": [],
   "source": [
    "doc = nlp(text)"
   ]
  },
  {
   "cell_type": "code",
   "execution_count": 77,
   "id": "4d26a8d8",
   "metadata": {},
   "outputs": [
    {
     "data": {
      "text/plain": [
       "[Ryan, need, sit, down, talk, Pete]"
      ]
     },
     "execution_count": 77,
     "metadata": {},
     "output_type": "execute_result"
    }
   ],
   "source": [
    "[t for t in doc if not t.is_stop and not t.is_punct]"
   ]
  },
  {
   "cell_type": "markdown",
   "id": "74d27fe6",
   "metadata": {},
   "source": [
    "### 4.4 Blueprint: Extracting lemmas based on part-of-speech"
   ]
  },
  {
   "cell_type": "code",
   "execution_count": 78,
   "id": "88b3f7c2",
   "metadata": {},
   "outputs": [],
   "source": [
    "text = \"My best friend Ryan Peters likes fancy adventure games.\""
   ]
  },
  {
   "cell_type": "code",
   "execution_count": 79,
   "id": "78b7f31f",
   "metadata": {},
   "outputs": [
    {
     "data": {
      "text/plain": [
       "My best friend Ryan Peters likes fancy adventure games."
      ]
     },
     "execution_count": 79,
     "metadata": {},
     "output_type": "execute_result"
    }
   ],
   "source": [
    "doc = nlp(text)\n",
    "doc"
   ]
  },
  {
   "cell_type": "code",
   "execution_count": 80,
   "id": "e63fe429",
   "metadata": {},
   "outputs": [
    {
     "name": "stdout",
     "output_type": "stream",
     "text": [
      "my|good|friend|Ryan|Peters|like|fancy|adventure|game|.\n"
     ]
    }
   ],
   "source": [
    "print(*[t.lemma_ for t in doc], sep=\"|\")"
   ]
  },
  {
   "cell_type": "code",
   "execution_count": 81,
   "id": "ea950ba9",
   "metadata": {},
   "outputs": [
    {
     "name": "stdout",
     "output_type": "stream",
     "text": [
      "My PRON PRP$\n",
      "best ADJ JJS\n",
      "friend NOUN NN\n",
      "Ryan PROPN NNP\n",
      "Peters PROPN NNP\n",
      "likes VERB VBZ\n",
      "fancy ADJ JJ\n",
      "adventure NOUN NN\n",
      "games NOUN NNS\n",
      ". PUNCT .\n"
     ]
    }
   ],
   "source": [
    "for i in doc:\n",
    "    print(i, i.pos_, i.tag_)"
   ]
  },
  {
   "cell_type": "code",
   "execution_count": 82,
   "id": "6e076458",
   "metadata": {},
   "outputs": [
    {
     "data": {
      "text/plain": [
       "[friend, Ryan, Peters, adventure, games]"
      ]
     },
     "execution_count": 82,
     "metadata": {},
     "output_type": "execute_result"
    }
   ],
   "source": [
    "nouns = [t for t in doc if t.pos_ in [\"NOUN\", \"PROPN\"]]\n",
    "nouns"
   ]
  },
  {
   "cell_type": "code",
   "execution_count": 83,
   "id": "56340506",
   "metadata": {},
   "outputs": [],
   "source": [
    "import textacy"
   ]
  },
  {
   "cell_type": "code",
   "execution_count": 84,
   "id": "b1775a6a",
   "metadata": {},
   "outputs": [],
   "source": [
    "tokens = textacy.extract.words(\n",
    "    doc, \n",
    "    filter_stops=True, # stopwords\n",
    "    filter_punct=True, # punctuation\n",
    "    filter_nums=True, # numbers\n",
    "    include_pos=['Adj', 'NOUN'], # Include Part-of-Speech\n",
    "    exclude_pos=None, # Exclude Part-of-Speech\n",
    "    min_freq=1 # minimum frequency of words\n",
    ")"
   ]
  },
  {
   "cell_type": "code",
   "execution_count": 85,
   "id": "fabc1d64",
   "metadata": {},
   "outputs": [
    {
     "name": "stdout",
     "output_type": "stream",
     "text": [
      "best|friend|fancy|adventure|games\n"
     ]
    }
   ],
   "source": [
    "print(*[t for t in tokens], sep=\"|\")"
   ]
  },
  {
   "cell_type": "code",
   "execution_count": 86,
   "id": "74bb756c",
   "metadata": {},
   "outputs": [],
   "source": [
    "def extract_lemmas(doc, **kwargs):\n",
    "    return [t .lemma_ for t in textacy.extract.words(doc, **kwargs)]"
   ]
  },
  {
   "cell_type": "code",
   "execution_count": 87,
   "id": "d23e5641",
   "metadata": {},
   "outputs": [],
   "source": [
    "lemmas = extract_lemmas(doc, include_pos=[\"Adj\", \"NOUN\"])"
   ]
  },
  {
   "cell_type": "code",
   "execution_count": 88,
   "id": "802da6fd",
   "metadata": {},
   "outputs": [
    {
     "data": {
      "text/plain": [
       "['good', 'friend', 'fancy', 'adventure', 'game']"
      ]
     },
     "execution_count": 88,
     "metadata": {},
     "output_type": "execute_result"
    }
   ],
   "source": [
    "lemmas "
   ]
  },
  {
   "cell_type": "code",
   "execution_count": 89,
   "id": "379d1f1c",
   "metadata": {},
   "outputs": [
    {
     "name": "stdout",
     "output_type": "stream",
     "text": [
      "good|friend|fancy|adventure|game\n"
     ]
    }
   ],
   "source": [
    "print(*lemmas, sep=\"|\")"
   ]
  },
  {
   "cell_type": "markdown",
   "id": "7cadf378",
   "metadata": {},
   "source": [
    "### 4.5 Blueprint: Extracting Noun Phrases"
   ]
  },
  {
   "cell_type": "code",
   "execution_count": 90,
   "id": "e8598fbc",
   "metadata": {},
   "outputs": [
    {
     "data": {
      "text/plain": [
       "'My best friend Ryan Peters likes fancy adventure games.'"
      ]
     },
     "execution_count": 90,
     "metadata": {},
     "output_type": "execute_result"
    }
   ],
   "source": [
    "text"
   ]
  },
  {
   "cell_type": "code",
   "execution_count": 91,
   "id": "21d0c189",
   "metadata": {},
   "outputs": [],
   "source": [
    "doc = nlp(text)"
   ]
  },
  {
   "cell_type": "code",
   "execution_count": 92,
   "id": "a446b6ed",
   "metadata": {},
   "outputs": [
    {
     "data": {
      "text/plain": [
       "My best friend Ryan Peters likes fancy adventure games."
      ]
     },
     "execution_count": 92,
     "metadata": {},
     "output_type": "execute_result"
    }
   ],
   "source": [
    "doc"
   ]
  },
  {
   "cell_type": "code",
   "execution_count": 93,
   "id": "f0a3defb",
   "metadata": {},
   "outputs": [],
   "source": [
    "patterns = [\"POS:ADJ POS:NOUN:+\"]\n",
    "spans = textacy.extract.token_matches(doc, patterns=patterns)"
   ]
  },
  {
   "cell_type": "code",
   "execution_count": 94,
   "id": "6ed56f74",
   "metadata": {},
   "outputs": [
    {
     "data": {
      "text/plain": [
       "<generator object token_matches at 0x7f363caf0dd0>"
      ]
     },
     "execution_count": 94,
     "metadata": {},
     "output_type": "execute_result"
    }
   ],
   "source": [
    "textacy.extract.matches.token_matches(doc, patterns=patterns)"
   ]
  },
  {
   "cell_type": "code",
   "execution_count": 95,
   "id": "f67b18e0",
   "metadata": {},
   "outputs": [
    {
     "name": "stdout",
     "output_type": "stream",
     "text": [
      "good friend|fancy adventure|fancy adventure game\n"
     ]
    }
   ],
   "source": [
    "print(*[s.lemma_ for s in spans], sep=\"|\")"
   ]
  },
  {
   "cell_type": "code",
   "execution_count": 96,
   "id": "3104ba39",
   "metadata": {},
   "outputs": [],
   "source": [
    "def extract_noun_phrases(doc, preceeding_pos=[\"Noun\"], sep=\"_\"):\n",
    "    patterns=[]\n",
    "    for pos in preceeding_pos:\n",
    "        patterns.append(f\"POS:{pos} POS:NOUN:+\")\n",
    "    spans = textacy.extract.token_matches(doc, patterns=patterns)\n",
    "    return [sep.join([t.lemma_ for t in s]) for s in spans]"
   ]
  },
  {
   "cell_type": "code",
   "execution_count": 97,
   "id": "010fe3e9",
   "metadata": {},
   "outputs": [
    {
     "name": "stdout",
     "output_type": "stream",
     "text": [
      "good_friend|fancy_adventure|fancy_adventure_game|adventure_game\n"
     ]
    }
   ],
   "source": [
    "print(*extract_noun_phrases(doc, preceeding_pos=[\"NOUN\", \"ADJ\"]), sep=\"|\")"
   ]
  },
  {
   "cell_type": "markdown",
   "id": "95b68719",
   "metadata": {},
   "source": [
    "### 4.6 Blueprint: Extracting Named Entities"
   ]
  },
  {
   "cell_type": "code",
   "execution_count": 98,
   "id": "a1571f12",
   "metadata": {},
   "outputs": [],
   "source": [
    "text = \"James O'Neill, chairman of World Cargo Inc, lives in San Francisco.\"\n",
    "doc = nlp(text)"
   ]
  },
  {
   "cell_type": "code",
   "execution_count": 99,
   "id": "c0ff5782",
   "metadata": {},
   "outputs": [
    {
     "name": "stdout",
     "output_type": "stream",
     "text": [
      "(James O'Neill, PERSON)\n",
      "(World Cargo Inc, ORG)\n",
      "(San Francisco, GPE)\n"
     ]
    }
   ],
   "source": [
    "for ent in doc.ents:\n",
    "    print(f\"({ent.text}, {ent.label_})\")"
   ]
  },
  {
   "cell_type": "code",
   "execution_count": 100,
   "id": "5429d880",
   "metadata": {},
   "outputs": [],
   "source": [
    "from spacy import displacy"
   ]
  },
  {
   "cell_type": "code",
   "execution_count": 101,
   "id": "a2ac41dd",
   "metadata": {},
   "outputs": [
    {
     "data": {
      "text/html": [
       "<span class=\"tex2jax_ignore\"><div class=\"entities\" style=\"line-height: 2.5; direction: ltr\">\n",
       "<mark class=\"entity\" style=\"background: #aa9cfc; padding: 0.45em 0.6em; margin: 0 0.25em; line-height: 1; border-radius: 0.35em;\">\n",
       "    James O'Neill\n",
       "    <span style=\"font-size: 0.8em; font-weight: bold; line-height: 1; border-radius: 0.35em; vertical-align: middle; margin-left: 0.5rem\">PERSON</span>\n",
       "</mark>\n",
       ", chairman of \n",
       "<mark class=\"entity\" style=\"background: #7aecec; padding: 0.45em 0.6em; margin: 0 0.25em; line-height: 1; border-radius: 0.35em;\">\n",
       "    World Cargo Inc\n",
       "    <span style=\"font-size: 0.8em; font-weight: bold; line-height: 1; border-radius: 0.35em; vertical-align: middle; margin-left: 0.5rem\">ORG</span>\n",
       "</mark>\n",
       ", lives in \n",
       "<mark class=\"entity\" style=\"background: #feca74; padding: 0.45em 0.6em; margin: 0 0.25em; line-height: 1; border-radius: 0.35em;\">\n",
       "    San Francisco\n",
       "    <span style=\"font-size: 0.8em; font-weight: bold; line-height: 1; border-radius: 0.35em; vertical-align: middle; margin-left: 0.5rem\">GPE</span>\n",
       "</mark>\n",
       ".</div></span>"
      ],
      "text/plain": [
       "<IPython.core.display.HTML object>"
      ]
     },
     "metadata": {},
     "output_type": "display_data"
    }
   ],
   "source": [
    "displacy.render(doc, style=\"ent\")"
   ]
  },
  {
   "cell_type": "code",
   "execution_count": 102,
   "id": "68226498",
   "metadata": {},
   "outputs": [],
   "source": [
    "def extract_entities(doc, include_types=None, sep=\"_\"):\n",
    "    ents = textacy.extract.entities(\n",
    "        doc,\n",
    "        include_types=include_types,\n",
    "        exclude_types=None,\n",
    "        drop_determiners=True,\n",
    "        min_freq=1\n",
    "    )\n",
    "    return [sep.join([t.lemma_ for t in e])+\"/\"+e.label_ for e in ents]"
   ]
  },
  {
   "cell_type": "code",
   "execution_count": 103,
   "id": "21e34eca",
   "metadata": {},
   "outputs": [
    {
     "data": {
      "text/plain": [
       "[\"James_O'Neill/PERSON\", 'World_Cargo_Inc/ORG', 'San_Francisco/GPE']"
      ]
     },
     "execution_count": 103,
     "metadata": {},
     "output_type": "execute_result"
    }
   ],
   "source": [
    "extract_entities(doc)"
   ]
  },
  {
   "cell_type": "markdown",
   "id": "8b802054",
   "metadata": {},
   "source": [
    "## 5. Feature Extraction on a Large Dataset"
   ]
  },
  {
   "cell_type": "markdown",
   "id": "ccc052fb",
   "metadata": {},
   "source": [
    "### 5.1 Blueprint: Combine Extraction Function into One Function to Get it All"
   ]
  },
  {
   "cell_type": "code",
   "execution_count": 104,
   "id": "c83951f0",
   "metadata": {},
   "outputs": [],
   "source": [
    "def extract_nlp(doc):\n",
    "    return {\n",
    "        'lemmas': extract_lemmas(doc, exclude_pos=[\"PART\", \"PUNCT\", \"DET\", \"PRON\", \"SYM\", \"SPACE\"], filter_stops=False),\n",
    "        'adj_verbs': extract_lemmas(doc, include_pos=[\"ADJ\", \"VERB\"]),\n",
    "        'nouns': extract_lemmas(doc, include_pos=[\"NOUN\", \"PROPN\"]),\n",
    "        'noun_phrases': extract_noun_phrases(doc, preceeding_pos=[\"NOUN\"]),\n",
    "        'adj_noun_phrases': extract_noun_phrases(doc, preceeding_pos=[\"ADJ\"]),\n",
    "        'entities': extract_entities(doc, [\"PERSON\", \"ORG\", \"GPE\", \"LOC\"])\n",
    "    }\n",
    "    "
   ]
  },
  {
   "cell_type": "code",
   "execution_count": 105,
   "id": "eabe0011",
   "metadata": {},
   "outputs": [
    {
     "data": {
      "text/plain": [
       "{'lemmas': ['James',\n",
       "  \"O'Neill\",\n",
       "  'chairman',\n",
       "  'of',\n",
       "  'World',\n",
       "  'Cargo',\n",
       "  'Inc',\n",
       "  'live',\n",
       "  'in',\n",
       "  'San',\n",
       "  'Francisco'],\n",
       " 'adj_verbs': ['live'],\n",
       " 'nouns': ['James',\n",
       "  \"O'Neill\",\n",
       "  'chairman',\n",
       "  'World',\n",
       "  'Cargo',\n",
       "  'Inc',\n",
       "  'San',\n",
       "  'Francisco'],\n",
       " 'noun_phrases': [],\n",
       " 'adj_noun_phrases': [],\n",
       " 'entities': [\"James_O'Neill/PERSON\",\n",
       "  'World_Cargo_Inc/ORG',\n",
       "  'San_Francisco/GPE']}"
      ]
     },
     "execution_count": 105,
     "metadata": {},
     "output_type": "execute_result"
    }
   ],
   "source": [
    "extract_nlp(doc)"
   ]
  },
  {
   "cell_type": "code",
   "execution_count": 106,
   "id": "3394d086",
   "metadata": {},
   "outputs": [
    {
     "name": "stdout",
     "output_type": "stream",
     "text": [
      "lemmas: ['James', \"O'Neill\", 'chairman', 'of', 'World', 'Cargo', 'Inc', 'live', 'in', 'San', 'Francisco']\n",
      "adj_verbs: ['live']\n",
      "nouns: ['James', \"O'Neill\", 'chairman', 'World', 'Cargo', 'Inc', 'San', 'Francisco']\n",
      "noun_phrases: []\n",
      "adj_noun_phrases: []\n",
      "entities: [\"James_O'Neill/PERSON\", 'World_Cargo_Inc/ORG', 'San_Francisco/GPE']\n"
     ]
    }
   ],
   "source": [
    "for col, values in extract_nlp(doc).items():\n",
    "    print(f\"{col}: {values}\")"
   ]
  },
  {
   "cell_type": "code",
   "execution_count": 107,
   "id": "cdab86f1",
   "metadata": {},
   "outputs": [],
   "source": [
    "nlp_columns = list(extract_nlp(nlp.make_doc('')).keys())"
   ]
  },
  {
   "cell_type": "code",
   "execution_count": 108,
   "id": "5ae04c51",
   "metadata": {},
   "outputs": [
    {
     "data": {
      "text/plain": [
       "['lemmas',\n",
       " 'adj_verbs',\n",
       " 'nouns',\n",
       " 'noun_phrases',\n",
       " 'adj_noun_phrases',\n",
       " 'entities']"
      ]
     },
     "execution_count": 108,
     "metadata": {},
     "output_type": "execute_result"
    }
   ],
   "source": [
    "nlp_columns"
   ]
  },
  {
   "cell_type": "markdown",
   "id": "d407431b",
   "metadata": {},
   "source": [
    "### 5. 2 Blueprint: Usinf spaCy on a Large Dataset"
   ]
  },
  {
   "cell_type": "code",
   "execution_count": 109,
   "id": "af40ba74",
   "metadata": {},
   "outputs": [],
   "source": [
    "con.close()"
   ]
  },
  {
   "cell_type": "code",
   "execution_count": 110,
   "id": "09bd31ce",
   "metadata": {},
   "outputs": [],
   "source": [
    "db_name = \"reddit-selfposts.db\"\n",
    "con = sqlite3.connect(os.path.join(data_path, \"reddit-selfposts\", db_name))\n",
    "df = pd.read_sql(\"SELECT * FROM posts_cleaned\", con)\n",
    "con.close()"
   ]
  },
  {
   "cell_type": "code",
   "execution_count": 111,
   "id": "9b641969",
   "metadata": {},
   "outputs": [
    {
     "data": {
      "text/html": [
       "<div>\n",
       "<style scoped>\n",
       "    .dataframe tbody tr th:only-of-type {\n",
       "        vertical-align: middle;\n",
       "    }\n",
       "\n",
       "    .dataframe tbody tr th {\n",
       "        vertical-align: top;\n",
       "    }\n",
       "\n",
       "    .dataframe thead th {\n",
       "        text-align: right;\n",
       "    }\n",
       "</style>\n",
       "<table border=\"1\" class=\"dataframe\">\n",
       "  <thead>\n",
       "    <tr style=\"text-align: right;\">\n",
       "      <th></th>\n",
       "      <th>id</th>\n",
       "      <th>subreddit</th>\n",
       "      <th>title</th>\n",
       "      <th>raw_text</th>\n",
       "      <th>category</th>\n",
       "      <th>subcategory</th>\n",
       "      <th>text</th>\n",
       "    </tr>\n",
       "  </thead>\n",
       "  <tbody>\n",
       "    <tr>\n",
       "      <th>0</th>\n",
       "      <td>8f73s7</td>\n",
       "      <td>Harley</td>\n",
       "      <td>No Club Colors</td>\n",
       "      <td>Funny story. I went to college in Las Vegas. T...</td>\n",
       "      <td>autos</td>\n",
       "      <td>harley davidson</td>\n",
       "      <td>Funny story. I went to college in Las Vegas. T...</td>\n",
       "    </tr>\n",
       "    <tr>\n",
       "      <th>1</th>\n",
       "      <td>4z6vee</td>\n",
       "      <td>Harley</td>\n",
       "      <td>Mystery Rattle</td>\n",
       "      <td>I have a stock 2010 FXD that has a rate I can'...</td>\n",
       "      <td>autos</td>\n",
       "      <td>harley davidson</td>\n",
       "      <td>I have a stock 2010 FXD that has a rate I can'...</td>\n",
       "    </tr>\n",
       "    <tr>\n",
       "      <th>2</th>\n",
       "      <td>6x4tdk</td>\n",
       "      <td>Harley</td>\n",
       "      <td>Gum on tailpipe</td>\n",
       "      <td>So I'm on a bike trip with my father and we st...</td>\n",
       "      <td>autos</td>\n",
       "      <td>harley davidson</td>\n",
       "      <td>So I'm on a bike trip with my father and we st...</td>\n",
       "    </tr>\n",
       "    <tr>\n",
       "      <th>3</th>\n",
       "      <td>7l7rer</td>\n",
       "      <td>Harley</td>\n",
       "      <td>Changing up the bars!</td>\n",
       "      <td>So I’m gonna change out my T bars that came on...</td>\n",
       "      <td>autos</td>\n",
       "      <td>harley davidson</td>\n",
       "      <td>So I'm gonna change out my T bars that came on...</td>\n",
       "    </tr>\n",
       "    <tr>\n",
       "      <th>4</th>\n",
       "      <td>683pc7</td>\n",
       "      <td>Harley</td>\n",
       "      <td>Spent 2 days and made some Mini Floorboards fo...</td>\n",
       "      <td>A few weeks ago, somebody was looking for some...</td>\n",
       "      <td>autos</td>\n",
       "      <td>harley davidson</td>\n",
       "      <td>A few weeks ago, somebody was looking for some...</td>\n",
       "    </tr>\n",
       "  </tbody>\n",
       "</table>\n",
       "</div>"
      ],
      "text/plain": [
       "       id subreddit                                              title  \\\n",
       "0  8f73s7    Harley                                     No Club Colors   \n",
       "1  4z6vee    Harley                                     Mystery Rattle   \n",
       "2  6x4tdk    Harley                                    Gum on tailpipe   \n",
       "3  7l7rer    Harley                              Changing up the bars!   \n",
       "4  683pc7    Harley  Spent 2 days and made some Mini Floorboards fo...   \n",
       "\n",
       "                                            raw_text category  \\\n",
       "0  Funny story. I went to college in Las Vegas. T...    autos   \n",
       "1  I have a stock 2010 FXD that has a rate I can'...    autos   \n",
       "2  So I'm on a bike trip with my father and we st...    autos   \n",
       "3  So I’m gonna change out my T bars that came on...    autos   \n",
       "4  A few weeks ago, somebody was looking for some...    autos   \n",
       "\n",
       "       subcategory                                               text  \n",
       "0  harley davidson  Funny story. I went to college in Las Vegas. T...  \n",
       "1  harley davidson  I have a stock 2010 FXD that has a rate I can'...  \n",
       "2  harley davidson  So I'm on a bike trip with my father and we st...  \n",
       "3  harley davidson  So I'm gonna change out my T bars that came on...  \n",
       "4  harley davidson  A few weeks ago, somebody was looking for some...  "
      ]
     },
     "execution_count": 111,
     "metadata": {},
     "output_type": "execute_result"
    }
   ],
   "source": [
    "df.head()"
   ]
  },
  {
   "cell_type": "code",
   "execution_count": 112,
   "id": "c5fd3575",
   "metadata": {},
   "outputs": [
    {
     "data": {
      "text/html": [
       "<div>\n",
       "<style scoped>\n",
       "    .dataframe tbody tr th:only-of-type {\n",
       "        vertical-align: middle;\n",
       "    }\n",
       "\n",
       "    .dataframe tbody tr th {\n",
       "        vertical-align: top;\n",
       "    }\n",
       "\n",
       "    .dataframe thead th {\n",
       "        text-align: right;\n",
       "    }\n",
       "</style>\n",
       "<table border=\"1\" class=\"dataframe\">\n",
       "  <thead>\n",
       "    <tr style=\"text-align: right;\">\n",
       "      <th></th>\n",
       "      <th>id</th>\n",
       "      <th>subreddit</th>\n",
       "      <th>title</th>\n",
       "      <th>raw_text</th>\n",
       "      <th>category</th>\n",
       "      <th>subcategory</th>\n",
       "      <th>text</th>\n",
       "    </tr>\n",
       "  </thead>\n",
       "  <tbody>\n",
       "    <tr>\n",
       "      <th>0</th>\n",
       "      <td>8f73s7</td>\n",
       "      <td>Harley</td>\n",
       "      <td>No Club Colors</td>\n",
       "      <td>Funny story. I went to college in Las Vegas. T...</td>\n",
       "      <td>autos</td>\n",
       "      <td>harley davidson</td>\n",
       "      <td>No Club Colors: Funny story. I went to college...</td>\n",
       "    </tr>\n",
       "    <tr>\n",
       "      <th>1</th>\n",
       "      <td>4z6vee</td>\n",
       "      <td>Harley</td>\n",
       "      <td>Mystery Rattle</td>\n",
       "      <td>I have a stock 2010 FXD that has a rate I can'...</td>\n",
       "      <td>autos</td>\n",
       "      <td>harley davidson</td>\n",
       "      <td>Mystery Rattle: I have a stock 2010 FXD that h...</td>\n",
       "    </tr>\n",
       "    <tr>\n",
       "      <th>2</th>\n",
       "      <td>6x4tdk</td>\n",
       "      <td>Harley</td>\n",
       "      <td>Gum on tailpipe</td>\n",
       "      <td>So I'm on a bike trip with my father and we st...</td>\n",
       "      <td>autos</td>\n",
       "      <td>harley davidson</td>\n",
       "      <td>Gum on tailpipe: So I'm on a bike trip with my...</td>\n",
       "    </tr>\n",
       "    <tr>\n",
       "      <th>3</th>\n",
       "      <td>7l7rer</td>\n",
       "      <td>Harley</td>\n",
       "      <td>Changing up the bars!</td>\n",
       "      <td>So I’m gonna change out my T bars that came on...</td>\n",
       "      <td>autos</td>\n",
       "      <td>harley davidson</td>\n",
       "      <td>Changing up the bars!: So I'm gonna change out...</td>\n",
       "    </tr>\n",
       "    <tr>\n",
       "      <th>4</th>\n",
       "      <td>683pc7</td>\n",
       "      <td>Harley</td>\n",
       "      <td>Spent 2 days and made some Mini Floorboards fo...</td>\n",
       "      <td>A few weeks ago, somebody was looking for some...</td>\n",
       "      <td>autos</td>\n",
       "      <td>harley davidson</td>\n",
       "      <td>Spent 2 days and made some Mini Floorboards fo...</td>\n",
       "    </tr>\n",
       "  </tbody>\n",
       "</table>\n",
       "</div>"
      ],
      "text/plain": [
       "       id subreddit                                              title  \\\n",
       "0  8f73s7    Harley                                     No Club Colors   \n",
       "1  4z6vee    Harley                                     Mystery Rattle   \n",
       "2  6x4tdk    Harley                                    Gum on tailpipe   \n",
       "3  7l7rer    Harley                              Changing up the bars!   \n",
       "4  683pc7    Harley  Spent 2 days and made some Mini Floorboards fo...   \n",
       "\n",
       "                                            raw_text category  \\\n",
       "0  Funny story. I went to college in Las Vegas. T...    autos   \n",
       "1  I have a stock 2010 FXD that has a rate I can'...    autos   \n",
       "2  So I'm on a bike trip with my father and we st...    autos   \n",
       "3  So I’m gonna change out my T bars that came on...    autos   \n",
       "4  A few weeks ago, somebody was looking for some...    autos   \n",
       "\n",
       "       subcategory                                               text  \n",
       "0  harley davidson  No Club Colors: Funny story. I went to college...  \n",
       "1  harley davidson  Mystery Rattle: I have a stock 2010 FXD that h...  \n",
       "2  harley davidson  Gum on tailpipe: So I'm on a bike trip with my...  \n",
       "3  harley davidson  Changing up the bars!: So I'm gonna change out...  \n",
       "4  harley davidson  Spent 2 days and made some Mini Floorboards fo...  "
      ]
     },
     "execution_count": 112,
     "metadata": {},
     "output_type": "execute_result"
    }
   ],
   "source": [
    "df[\"text\"] = df[\"title\"] + ': ' + df[\"text\"]\n",
    "df.head()"
   ]
  },
  {
   "cell_type": "code",
   "execution_count": 113,
   "id": "2e388f93",
   "metadata": {},
   "outputs": [
    {
     "data": {
      "text/html": [
       "<div>\n",
       "<style scoped>\n",
       "    .dataframe tbody tr th:only-of-type {\n",
       "        vertical-align: middle;\n",
       "    }\n",
       "\n",
       "    .dataframe tbody tr th {\n",
       "        vertical-align: top;\n",
       "    }\n",
       "\n",
       "    .dataframe thead th {\n",
       "        text-align: right;\n",
       "    }\n",
       "</style>\n",
       "<table border=\"1\" class=\"dataframe\">\n",
       "  <thead>\n",
       "    <tr style=\"text-align: right;\">\n",
       "      <th></th>\n",
       "      <th>id</th>\n",
       "      <th>subreddit</th>\n",
       "      <th>title</th>\n",
       "      <th>raw_text</th>\n",
       "      <th>category</th>\n",
       "      <th>subcategory</th>\n",
       "      <th>text</th>\n",
       "      <th>lemmas</th>\n",
       "      <th>adj_verbs</th>\n",
       "      <th>nouns</th>\n",
       "      <th>noun_phrases</th>\n",
       "      <th>adj_noun_phrases</th>\n",
       "      <th>entities</th>\n",
       "    </tr>\n",
       "  </thead>\n",
       "  <tbody>\n",
       "    <tr>\n",
       "      <th>0</th>\n",
       "      <td>8f73s7</td>\n",
       "      <td>Harley</td>\n",
       "      <td>No Club Colors</td>\n",
       "      <td>Funny story. I went to college in Las Vegas. T...</td>\n",
       "      <td>autos</td>\n",
       "      <td>harley davidson</td>\n",
       "      <td>No Club Colors: Funny story. I went to college...</td>\n",
       "      <td>None</td>\n",
       "      <td>None</td>\n",
       "      <td>None</td>\n",
       "      <td>None</td>\n",
       "      <td>None</td>\n",
       "      <td>None</td>\n",
       "    </tr>\n",
       "    <tr>\n",
       "      <th>1</th>\n",
       "      <td>4z6vee</td>\n",
       "      <td>Harley</td>\n",
       "      <td>Mystery Rattle</td>\n",
       "      <td>I have a stock 2010 FXD that has a rate I can'...</td>\n",
       "      <td>autos</td>\n",
       "      <td>harley davidson</td>\n",
       "      <td>Mystery Rattle: I have a stock 2010 FXD that h...</td>\n",
       "      <td>None</td>\n",
       "      <td>None</td>\n",
       "      <td>None</td>\n",
       "      <td>None</td>\n",
       "      <td>None</td>\n",
       "      <td>None</td>\n",
       "    </tr>\n",
       "    <tr>\n",
       "      <th>2</th>\n",
       "      <td>6x4tdk</td>\n",
       "      <td>Harley</td>\n",
       "      <td>Gum on tailpipe</td>\n",
       "      <td>So I'm on a bike trip with my father and we st...</td>\n",
       "      <td>autos</td>\n",
       "      <td>harley davidson</td>\n",
       "      <td>Gum on tailpipe: So I'm on a bike trip with my...</td>\n",
       "      <td>None</td>\n",
       "      <td>None</td>\n",
       "      <td>None</td>\n",
       "      <td>None</td>\n",
       "      <td>None</td>\n",
       "      <td>None</td>\n",
       "    </tr>\n",
       "    <tr>\n",
       "      <th>3</th>\n",
       "      <td>7l7rer</td>\n",
       "      <td>Harley</td>\n",
       "      <td>Changing up the bars!</td>\n",
       "      <td>So I’m gonna change out my T bars that came on...</td>\n",
       "      <td>autos</td>\n",
       "      <td>harley davidson</td>\n",
       "      <td>Changing up the bars!: So I'm gonna change out...</td>\n",
       "      <td>None</td>\n",
       "      <td>None</td>\n",
       "      <td>None</td>\n",
       "      <td>None</td>\n",
       "      <td>None</td>\n",
       "      <td>None</td>\n",
       "    </tr>\n",
       "    <tr>\n",
       "      <th>4</th>\n",
       "      <td>683pc7</td>\n",
       "      <td>Harley</td>\n",
       "      <td>Spent 2 days and made some Mini Floorboards fo...</td>\n",
       "      <td>A few weeks ago, somebody was looking for some...</td>\n",
       "      <td>autos</td>\n",
       "      <td>harley davidson</td>\n",
       "      <td>Spent 2 days and made some Mini Floorboards fo...</td>\n",
       "      <td>None</td>\n",
       "      <td>None</td>\n",
       "      <td>None</td>\n",
       "      <td>None</td>\n",
       "      <td>None</td>\n",
       "      <td>None</td>\n",
       "    </tr>\n",
       "  </tbody>\n",
       "</table>\n",
       "</div>"
      ],
      "text/plain": [
       "       id subreddit                                              title  \\\n",
       "0  8f73s7    Harley                                     No Club Colors   \n",
       "1  4z6vee    Harley                                     Mystery Rattle   \n",
       "2  6x4tdk    Harley                                    Gum on tailpipe   \n",
       "3  7l7rer    Harley                              Changing up the bars!   \n",
       "4  683pc7    Harley  Spent 2 days and made some Mini Floorboards fo...   \n",
       "\n",
       "                                            raw_text category  \\\n",
       "0  Funny story. I went to college in Las Vegas. T...    autos   \n",
       "1  I have a stock 2010 FXD that has a rate I can'...    autos   \n",
       "2  So I'm on a bike trip with my father and we st...    autos   \n",
       "3  So I’m gonna change out my T bars that came on...    autos   \n",
       "4  A few weeks ago, somebody was looking for some...    autos   \n",
       "\n",
       "       subcategory                                               text lemmas  \\\n",
       "0  harley davidson  No Club Colors: Funny story. I went to college...   None   \n",
       "1  harley davidson  Mystery Rattle: I have a stock 2010 FXD that h...   None   \n",
       "2  harley davidson  Gum on tailpipe: So I'm on a bike trip with my...   None   \n",
       "3  harley davidson  Changing up the bars!: So I'm gonna change out...   None   \n",
       "4  harley davidson  Spent 2 days and made some Mini Floorboards fo...   None   \n",
       "\n",
       "  adj_verbs nouns noun_phrases adj_noun_phrases entities  \n",
       "0      None  None         None             None     None  \n",
       "1      None  None         None             None     None  \n",
       "2      None  None         None             None     None  \n",
       "3      None  None         None             None     None  \n",
       "4      None  None         None             None     None  "
      ]
     },
     "execution_count": 113,
     "metadata": {},
     "output_type": "execute_result"
    }
   ],
   "source": [
    "for col in nlp_columns:\n",
    "    df[col] = None\n",
    "df.head()"
   ]
  },
  {
   "cell_type": "code",
   "execution_count": 114,
   "id": "eb32dd24",
   "metadata": {},
   "outputs": [
    {
     "name": "stdout",
     "output_type": "stream",
     "text": [
      "Working on GPU.\n"
     ]
    }
   ],
   "source": [
    "if spacy.prefer_gpu():\n",
    "    print(\"Working on GPU.\")\n",
    "else:\n",
    "    print(\"No GPU found, working on CPU\")"
   ]
  },
  {
   "cell_type": "code",
   "execution_count": 115,
   "id": "9a5013eb",
   "metadata": {},
   "outputs": [
    {
     "data": {
      "text/plain": [
       "<spacy.lang.en.English at 0x7f376dce9400>"
      ]
     },
     "execution_count": 115,
     "metadata": {},
     "output_type": "execute_result"
    }
   ],
   "source": [
    "nlp = spacy.load(\"en_core_web_sm\", disable=[])\n",
    "nlp"
   ]
  },
  {
   "cell_type": "code",
   "execution_count": 116,
   "id": "6f389a6a",
   "metadata": {},
   "outputs": [
    {
     "data": {
      "text/plain": [
       "['tok2vec',\n",
       " 'tagger',\n",
       " 'parser',\n",
       " 'senter',\n",
       " 'attribute_ruler',\n",
       " 'lemmatizer',\n",
       " 'ner']"
      ]
     },
     "execution_count": 116,
     "metadata": {},
     "output_type": "execute_result"
    }
   ],
   "source": [
    "nlp.component_names"
   ]
  },
  {
   "cell_type": "code",
   "execution_count": 117,
   "id": "af6019ea",
   "metadata": {},
   "outputs": [],
   "source": [
    "nlp.tokenizer = custom_tokenizer(nlp)"
   ]
  },
  {
   "cell_type": "code",
   "execution_count": 118,
   "id": "b13cf9ac",
   "metadata": {},
   "outputs": [
    {
     "data": {
      "text/plain": [
       "20000"
      ]
     },
     "execution_count": 118,
     "metadata": {},
     "output_type": "execute_result"
    }
   ],
   "source": [
    "len(df)"
   ]
  },
  {
   "cell_type": "code",
   "execution_count": 122,
   "id": "5c4bdbe8",
   "metadata": {},
   "outputs": [
    {
     "name": "stdout",
     "output_type": "stream",
     "text": [
      "0: No Club Colors: Funny story. I went to college in Las Vegas. This was before I knew anything about motorcycling whatsoever. Me and some college buddies would always go out on the strip to the dance clubs. We always ended up at a bar called Hogs & Heifers. It's worth noting the females working there can outdrink ANYONE. Anyway, there was a sign on the front door that read 'No Club Colors'. So we lose our ties and blazers before heading there. Also we assumed bright colors like red, yellow, green etc were not allowed. So we would always bring an xtra t-shirt and pair of jeans. This went on for years! Looking back now on how naive we were, it's just hilarious. I was never able to walk out of that bar....had to crawl out! So much booze. Cheers. Ride safe, boys!\n",
      "1: Mystery Rattle: I have a stock 2010 FXD that has a rate I can't locate. I can only hear in first and second gear and at idle. I believe it may still be happening in other gears but it's hard to tell with the noise from the wind. I thought it was the starter drive gear (bendix) so I changed that out and it's still happening. I also took the outer primary cover off and close mechanic friend of mine looked at everything inside and said it looked perfect. After talking to a couple othe wrenches, I have been told it could be the compensator or it may also be gears rubbing in the transmission. Any insight would be much appreciated!\n",
      "2: Gum on tailpipe: So I'm on a bike trip with my father and we stop to get some food. We park our bikes in a metered spot and are gone about an hour. When we got back to our bikes, i noticed something on the exhaust under the right saddlebag. Some asshole put a wad of gum on the top of the tailpipe almost out of sight. Lucky i had a spare rag and, with water, able to get it cleaned off. This pissed me off for the rest of the day. Has anyone had this done to their bikes? If so what happens if you run the bike and pipe gets hot with the gum on there?\n",
      "3: Changing up the bars!: So I'm gonna change out my T bars that came on my 14'street bob and I'm thinking about the San Diego bars from lucky daves. I have like 11 almost 12s on there right now with the cross bar up top. I slouch a little when I ride so I wanna go taller I was thinking the 14s since they claim you dont have to swap cables with their 14s. Anybody runnin these and how do ya like em?\n",
      "4: Spent 2 days and made some Mini Floorboards for my Sportster: A few weeks ago, somebody was looking for some Mini Floorboards, and I was amazed at the prices, I know, HD stands for Hundred Dollars. The idea of floorboard for a Sportster never occurred to me, and though that maybe they would help relieve some ankle discomfort that occurs on long rides. The pair cost me $18, including the rubber bumpers that remove all vibration. I call this a win, and a fun project for a home CNC Shapeoko Router. _URL_\n",
      "5: Cured buffeting on my Road King: 'Twas a few years ago when /u/Silverfox762 turned me onto getting a windshield for my Fat Bob because I wanted to get away from riding around town and wanted to ride far. So when I bought my Road King I went ahead and ordered the (_URL_ because I'm 6'3\" and I wanted to extend my riding season here in Wisconsin, so I bought the biggest one they had. I had issues with buffeting straight away.. Going on the interstate at higher speeds the HD windshield would wobble near the top and the only cure for the continuous *thump tump thump thump* in my Bell RS1 helmet was to haunch down or lean way forward which was not only uncomfortable but usually led to back issues a day or two after a 300+ mile ride. Getting a 3/4 helmet didn't help much either, as the buffeting would fuck with my eyes and make it hard to read exit signs on the highway. So I did a little research which consisted of multiple variations of the words *windshield*, *buffeting*, *tall rider* and *Road King*. I started reading more and more about (_URL_ I practiced my google fu for a few more months and finally ordered a Clearview. I put my OEM windshield over the Clearview so you can get a bit of perspective . (_URL_ The Clearview is about twice as thick as the HD windshield, as well. I took it out on the interstate and it did greatdoing 70 on this windshield felt like I was going 45 on the HD windshieldno buffeting. I turned off onto a county road and going 90 wasn't any different. They also have an option where you can order yours with a recurve at the top which gives me additional clearance from the wind. I got a 24\" with recurve, +3 wide, and also got the vent (_URL_ Nothing but positive experiences with the people at Clearview, they are a family owned place and have their friends working for them. They don't keep too many on stock so this did take about 3 weeks to get. Price of OEM windshield= $349.95. Price of Clearview= $232.50. TLDL: I'm tall, I bought a Clearview windshield, it's fucking awesome compared to my shitty OEM HD windshield. No more buffeting from the windshield. **Edit/Update**: I did a 240 mile loop today with in 44-50 degree weather with gale force wind warnings, sometimes riding right into the wind for many miles, everything was zen. This windshield is fucking awesome.\n",
      "6: Death wobble, what's your take on it?: I've been doing some reading on it. I bought a new 1200 custom and after watching that wipe out on YouTube where the guy became a meat crayon face first and reading plenty of stories and lawsuits against Harley for a known defect. What models does this effect? I know tire quality, steering head adjustment and a lot of factors play into it including rear and front tire alignment, but how common is this issue? Has it happened to any of you? Just know I'm not bashing on Harley at all, they make some great bikes but I just wanna be safe and be assured about some information m:\n",
      "7: Need an ID on some motorcycle parts!: Hello all, Been recently selling off some motorcycle parts for a family member, however I am not the most educated on Harley parts. They were all individually bubble wrapped in a box, so I assume they are part of a collection or such. If any of you can provide some form of ID, a link to the parts, names, anything that would be amazing. If you know the approximate price that would also be extremely helpful. Thanks a ton! Pics: _URL_ if this is the wrong subreddit I apologize, I am unsure where else to ask.\n",
      "8: Stage 1 upgrades - suggestions: Alright, so I recently picked up a 2013 Road King with stock exhaust on it and as everyone knows it is super quiet...too quiet. I've also got a 2001 Night Train with open pipes on it, but I'd like this one to be somewhere in between the two. After reading countless forums and reviews I thought I had settled on 4\" Rinehart slip-ons, Arlen Ness Stage 1 Big Sucker intake, and V&H FP3 tuner. This is where I started second guessing my choices. I got some info that the quality on the Rineharts is a bit poor and have problems with discoloration, and that I should be looking at a set of 4.5\" slip-ones from V&H or RC. Then I start reading that the 4.5\" with 2.5\" baffles is too big for the 103 CI engine and I'll loose low end torque. Guys help me out here. I know a lot of this is subjective, but I also don't want to waste my money on shitty upgrades. What's everyone's thoughts on it? Edit: spelling\n",
      "9: Explain Power Commander to me like I'm an Idiot: I got a bike that has been tuned by a shop previously. From what I can see, I do not have the module, and this is where I'm lost. I thought almost every dynojet was bike specific? If I am looking at swapping pipes, and want to tune it myself, am I looking for a bike specific tuner, or is there one out there that does multiple bikes? Should I be checking connections on mine to see how it's been set up? Edit: I should clarify, I understand how it works and what it does, but I'm unsure of the setting up.\n",
      "10: This new Harley OEM Parts Fiche is awesome. .!: Disclaimer: I have no affiliation with the app, devs or techs. I am merely an Aussie rider, frustrated that there was no fast way to access any harley info from my phone. Below is a copy/pasta from the ad on Facebook. Well worth a look, guys. The only Mobile App for Harley-Davidson's OEM Parts Microfiche with free service manual download. Google Play: _URL_ itunes Store: _URL_ Find them on facebook by searching Harley-Davidson OEM Parts Fiche\n",
      "11: Throw over saddlebags for FXDLS: Hey all. I'm looking for some throw over saddle bags for my fxdls. I don't need storage all the time but for long trips or trips with the wife id like to be able to have some sort of storage I can add or remove quickly. Id also like something where I dont have to relocate tail lights. Anyone have any suggestions? Pros/cons of throw over? Thanks.\n",
      "12: Shaking under braking: Hello everyone. I have a 1995 Softail Custom and when you apply the front brake, it feels like the bike is rocking back and forth. It almost feels like my front wheel is oval instead of round. From my research, I've come to the conclusion that it's the steering head adjustment is out. I wanted to get some second opinions as I'm not the most experienced.\n",
      "13: Harley-Davidson Original Equipment Spark Plug or....?: 2005 xl1200c Sportster - 22k miles (ish)... Planning to change the spark plugs in May. I see there is a Harley-Davidson Original Equipment Spark Plug... is this the recommended flavor by the /harley folks. I've been an NGK plug user for 30+ years on cars. I'd like your feed back. Thank you in advance.\n",
      "14: Dyna fairings: I'm considering getting either the Memphis shades road warrior fairing or the rifle roadster fairing. Was wondering if anyone has experience with them and how they compare. I know the rifle is slightly cheaper, and it looks like it has a small vent to help buffeting, but I'm not sure.\n",
      "15: Help with suspension: Just bought my dream bike. 16 street glide. Having problems with the rear suspension. Ride is rough as hell and the bike doesn't squat when I sit on it. It has the manual adjustable suspension but it doesn't seam to be working. I pulled both shocks off this morning. The right one compresses just fine but the adjustable one will not move even with all the tension let out of it. My question is any tricks to get it unstuck or am I just screwed an need to buy a new set.\n",
      "16: (Stupid) Oil Question: So I got back from a ride last night and checked the oil in my 2018 XL1200X. It was well below the fill line. So I was like \"Oh no I need to get some oil.. Man I've only had this bike since February, how can it be out of oil\" So I buy some oil, and resolve to check for leaks tonight. Just got finished checking it over and no leaks, and on an ice cold check I have lots of Oil. So I run the bike for 30 seconds and recheck the oil. Still lots. So I run the bike for 3-5 minutes, and then check the oil again. Still lots, above the midpoint even. So what's going on here? Are you not supposed to check your oil after a long ride?\n",
      "17: ECU Relocation question (Heat concerns): Hello all, i'm about to relocate my ECU/ECM (2011 FXS Softail). With a smaller lithium battery i can actually fit everything in to the space now available. I am a bit concerned about heat generated by the ECU since it will be in direct contact with the battery. How hot does the ECM get? Do you guys think it might pose a problem?\n",
      "18: How was Laughlin this year? It seemed barren compared to last time I was there, 5-6 years ago.: Anyone else go to Laughlin this year? Talked to a couple of people about the drop in attendance and the speculation is that the room costs went up while the vendor's costs doubled or tripled from last year. So attendance was down and the vendor section (especially in front of Edgewater) was down. Didn't seem the same to me but curious to hear everyone else's opinion.\n",
      "19: DIY 10k Mile Service (Dyna): Thinking of doing this next weekend (...been putting it off...). I will have a service manual, but does anyone have any other web sites, YouTube videos, other helpful resources etc. that would help walk me through it? Assume I'm really, really goddamn dumb (although have done engine, primary and tranny fluid at least twice each at this point, so at least I've got that). Also, does it make sense to do brakes at the same time? It's a 2006 Super Glide, relatively new to me (maybe 6k miles or so). Wondering about both pads and fluid (and anything else I should be thinking of...). Also wondering if any specific part of any of that is more difficult, and might be worth paying for to avoid PITA. Considered just paying someone to get the thing over with since I've been busy, but won't have the cash for at least a month probably, and my priority with the $ would be new tires first anyway. EDIT: thanks for comments so far, I wrote that I had done brakes b/c I was thinking about brakes...I have not. I meant I had done primary fluid...which is why the other two thing in that sentence were engine and tranny oil\n",
      "20: Blacked Out Bikes - Any Bad Experiences at Night?: I'm considering moving up to a '16 Fat Boy Lo and find i like the 110 motor better than the 103. I whenever possible all year around, in Missouri, which includes sun down to sun up a lot. This that have ridden/do ride blacked out bikes, has your riding experience been any worse? I appreciate everyone's input.\n",
      "21: Dunlop 2018 Spring tire $50 rebate: That time of year again where the tire rebates start showing up for spring. Silverfox gave the OK to spread the word last year, so just doing the same this year. MARCH 1ST - APRIL 30TH, 2018 $50 NATIONAL SPRING REBATE WITH THE PURCHASE OF A SET OF TWO ELIGIBLE TIRES. * AMERICANELITE * ELITE4 * SPORTMAX Q3+ * ROADSMART III * TRAILSMART * D401 * D401T * D402 _URL_\n",
      "22: 2015 Street Glide special - possibly buying: Just like the title suggests, I'm thinking of possibly trading in my BMW F800GT for a Street Glide special. Doing a test ride Tuesday to see if I like it. I'm about to go on about a 1400 mile trip, and my bike is simply not going to be comfortable for that long. Any recommendations on what I should do/look for on my test ride? I've never had a Harley, and the BMW was my first bike, so I'm not sure what to look for. Any way for me to know how comfortable the seat would be for a long trip? edit: bought an Electra Glide Ultra Limited(FLHTK). Got me a great deal, cheaper than the street glide that I couldn't pass up. Looking forward to my trip in a few weeks! This bike was incredible on the freeway.\n",
      "23: Twin Cam Reliability Upgrades: I just picked up a brand new street bob a few weeks ago. What an amazing bike! I want to ride this bike for the next 20 years. That being said, what upgrades can I make to the motor for reliability? I'm aware of the gear drive cam upgrade. Are there any other reliability upgrades I should make while doing normal upgrades on my bike? I'll be doing the normal order of upgrades, intake/tuner/exhaust, then cams, etc. Anything else I should be considering?\n",
      "24: '06 Street Bob Gear Drive Cams: With winter time coming up in a couple of months, I'm planning on doing some engine work on my bike. Going to send my stock cylinders to Axtell Sales to get them bored, and going to send the heads to Big Boyz to get them ported. I also want to install gear driven cams. Does anyone kow of a set of cams that will work with an '06 dyna and produce good low to mid range results? Sorry if this seems trivial. This is my first bike and first time going into the motor.\n",
      "25: Rebuild question: Ok. So I got this shovelhead last week, and I've been going over the extra parts that came with it. I have a few milk crates holding the original engine. Looking through all this stuff I can see a good bit of rust. I'm not worried about the jugs and other miscellaneous stuff. My main concern is the bottom end. It's not split but I can see surface rust on the flywheels inside. I'd like to rebuild and reinstall it. Maybe sell the s&s in the bike. What should I expect to pay to have the bottom end rebuilt? Where should I take something like this? Thanks!\n",
      "26: Brake Handle Tool/part required: _URL_ Trying to chase down my inadvertent brake light activation, which I do have narrowed to my handle, based on if I put forward pressure on the rear of the lever while riding the light will turn off. But will turn on during riding or even with a slight pressure. I watched a few youtube videos showing disassembly of the lever, but they all had a 10mm bolt on the back. This appears to be a snap ring of some sort. * 1. Is there a specific tool, or will a normal snap ring plier work? * 2. Is this OEM? * 3. Should I look at replacing this with another bolt? (part number/size/etc..). * 4. My 'assumption' is this has something to do with the internal spring in the handle... thoughts?\n",
      "27: Riding boot alternatives: Well folks, just bought my first bike and I lucked into a '12 fxdc. This is probably a really dumb question, so be as nice as possible, but is there any decent alternatives to boots that you guys prefer? Obviously for strict functionality they are the way to go but I'd like something more versatile from a style standpoint. I figured my Nike trainers probably weren't the best bet and I've never been a huge fan of Vans or Chuck Taylors either. Definitely not feeling the white nike look either. Are DCs decent? Any info is appreciated\n",
      "28: Handlebars tightening?: Hey guys; I was just riding, and I kinda gave my handlebars a little bump to make sure they're in place. (I do that every now and then cause ever since I got ape hangers, and this bike, they shake a lot. lol) When I gave em a little nudge, they moved forward. I pulled over and did it a few times forward and back, to double check. Any who, I assume it's the same on any other bike, but how would I tighten them in place? Side note: In case it helps, it's a 2012 883 Iron.\n",
      "29: Keyless ignition 2018 Forty Eight.: Hey everyone, I owned a 2015 FortyEight and loved it. I bought it from the dealership, the bike came with a keyless ignition and it was amazing. That fateful day came one October and I got into an accident and totaled the bike, but not me, thank god (ALWAYS WEAR A HELMET). I was out of commission for about 8 weeks for a fractured wrist. By the time I was ready to ride it was winter. So I held off on getting a bike until last week. I went to the dealership found a 2018 FortyEight I liked and bought it. Unfortunately, every single 2018 FortyEight had an ignition key start. Knowing what I knew about the 2015 model I figured I'll purchase the factory security system thinking that there would be some way to make it keyless. When I got the bike back the guy showed me how to start it, I was disappointed that I still had to use my key. I expressed my concerned to the service guy who told me that all 2018 models with security systems came that way, that I had to use the key no matter what. After inspecting the other parts I requested to be added, I found out that they put on a damaged rusted sissy bar, and forgot to install one of the passenger pegs. I told them to fix it and left the dealership pretty pissed. Once I came back to grab my bike I got the service manager involved and had the \"This part is obviously damaged why did you install it, you're wasting my time. \" conversation. After expressing my frustration to the service manager, we got into a more friendlier conversation about Harley Davidson. I told him this was my second FortyEight and I use to have a keyless ignition on my 2015, was it possible to do it on a 2018 model? he said \"Oh yeah I remember that, let me check\" He called Harley and asked about the keyless ignition and they told him to program the ECU not to look for the key. He hooked his computer up, programmed the bike to not look for the key to start, and BOOM keyless ignition. My key Ignition is still on the bike but I don't need to use it anymore. So I have a factory keyless ignition from the dealership for a 2018 FortyEight. Anyways I just want to say its possible to do it but you might have to talk to the right person to get it done. TL;DR: From the dealership, you can get a keyless ignition by installing the factory Harley security system and talking to the right technician about programming the ECU not to look for a key in the ignition. Part number: 41000087b\n",
      "30: This probably gets asked a lot.... so I'm thinking of getting a Harley: I'm 6 ft 160 pounds (very skinny, but decent shape, generic illness messes with my lungs and weight). I rode a gixxer 600 with a extended swig arm when I was young and dumb, upgraded to a cbr1000 for 2 years so rode for a total of 4 years, haven't ridden in about 4 years. Looking at getting a sportster type of bike. I dont really know where to start, the original inspiration was me considering buying a 2012 Harley night rod like 6 years ago. Went into a Harley dealership today sat on about 10 different bikes with a brand new saleswoman who self admittedly knew nothing, couldn't tell me the model or price of any bike. Spoke with the GM and he 2 bikes I sat on and started up that I liked were an 2018 883 and a 2018 fat bob. If I had ridden recently I'd have probably driven off the dealership on the fat bob. They said they wanted 18200 for the fatbob, the 883 was a lot cheaper don't remember the exact number on it though. All that being said I don't even know if used or new is right for me etc, gonna go back tomorrow and eat ride the fat bob and see how it feels. More just looking for some general advice. I'm not looking to finance and would just buy outright. Hell I don't even know if I want a Harley or an Indian or a triumph and why. Edit: Rode the Fat bob and loved it, but decided not to bit on a new bike. Ended up with a 2014 Night Rod from a guy that cares a lot about his bikes, he also had a fat boy, a custom drag bike and another bike I didn't ask about, all really clean and well kept. Only 1700 mi, ended up at $11,000 on it and it has after market shock on it to sit it a little lower and the tension is adjustable, he gave me the stock shocks as well, it has a vance and hines competition pipe on it and he had it dyno'd at a shop here as well. Felt like I got a pretty awesome deal for the first cruiser that ever caught my eye a few years back\n",
      "31: Engine Build List: I was hoping someone with some engine building experience could give me a little insight on a list of parts that I plan on using to upgrade the 88 TC on my 06 Street Bob. Parts list: 1) Send cylinders to Axtell Sales to be bored to 98 and fitted with pistons. 2) Mild street port and compression release on Heads by Big Boyz. 3) Cosmetic gasket kit 3) SE Premium tapered Adjustable Pushrods 4) Woods Performance lifters 5) Possibly Woods 777 cams (still undecided) 6) Probably Fueling Oil Pump Can anybody offer any feedback on that build list? Trying to figure out if all those parts mesh well together. I'm looking for lots of torque in the low to mid range with this build. Looking for somewhere around 10:5:1 Mechanical compression ratio. Any suggestions for additional upgrades are welcome, along with any substitutions for what I have already listed.\n",
      "32: Another one of those questions about prices and where to find bikes. Could really use some info and help.: This is my first post, as I am new to all of this. Never even been on a bike. That being said, its all I can think about; has been for a long while now. I am going to be taking the MSF course within the next couple weeks. I have always wanted a Harley, and I have my heart set on owning one. The thing is, I know nothing about them. So, I don't really know where to start. I am not a big guy, only 5'5-5'6, but stocky with short arms and legs. I do plan on sitting on several bikes, just to get the feel as to what I am looking for, but I figured I should get ahead start on knowing what and how to get a reliable, but affordable bike. I have been reading for a few months now, trying to figure out what it is I need. I am feeling a Sportster is right up my alley considering my height and build. Also, I love the all the crazy pictures of the custom sportys I see all over the web. New is not really an option for me, as my price will only be right around $3000 or so. I see people on the web say good conditioned sportys can be had for this price, but every ad I see are asking for $3500 and up. I know, that is just the asking price, but being new I wouldn't even know where to being in haggling with someone. I get that I need to sit on them, and to at least ride and to take the MSF course first, but let us put that aside. What are my options here? What is my game plan? What sites should I be using besides craigslist? The sporty is not a must have, but it just seems the best concerning my build. Dynas look amazing as well, but I feel I may be too short for such a bike; also, they seem to be out of my price range. These are my wants: Reliability, affordability, a bike I can ride comfortably, and I do want the 1200 over the 883 for sure. Reliability above all else. Colors and accessorizes are of little concern to me, as I want nothing more than the bike. Anything else I want I will add when the time comes. Any and all info would be greatly appreciated.\n",
      "33: ProBEAM Custom Dynamics tail light, anyone running one?: So i'm at odds with tail lights. When I got the bike the tail light was melted so i got a drag specialties and put it on and immediately took it off because i couldn't see it in my driveway. Then i put on a custom dynamics and was a little happier but seeing other guys running them they don't seem that bright during the day and that makes me nervous. Maybe the probeam is brighter, but i haven't seen one in the wild. I wish the people that made those stupid bright ambulance tail lights would make one for my bike. link - _URL_\n",
      "34: I will soon own a Street 750. Is it considered a real Harley?: Hey there! First of all, I really love this sub and the community that lurks around here. Several weeks ago I ordered my first bike, and since I'm only 21 my driver license doesn't allow me to have a bigger bike than a Street 750. (And on top of that, I have to nerf the power from 42 kW to 35 kW because of my age) I've talked a lot with Harley owners, and they pretty much say that the Street is \"garbage\", that it \"has the sound of a vacuum cleaner\" and that it \"doesn't fit in the Harley world\". I'd like to know if owning a Street is really considered a shame among Harley drivers, because in that case I won't apply for a HOG Motorcycle Club and just wait 3/4 years for my next real Harley.\n",
      "35: Shoei RF-1200 vs Bell Qualifier DLX w/MIPS?: Hey all! I am in the market for a new helmet and I can't decide between these two. I would love to hear your thoughts on them, if there are any. Thanks! UPDATE: Ended up getting the Bell. The MIPS was the deciding factor. I guess I'll just have to invest in some earplugs! :) Thanks everyone!\n",
      "36: Improving brakes on FXDB: '14 FXDB, 6k miles. Looking to improve braking, on a budget, as I'm trying to do a lot of other stuff on bike as well. Was thinking about getting lyndall extreme pads and braided ss line for the front. Thoughts? Recommendations on best bang for buck brake upgrade?\n",
      "37: Mini apes to drag bars: Alright I have a question for you all. How much would it cost to go from mini apes to drag bars? I would need new cables, and i'm not sure how much that would cost. I tried searching up some answers but I couldn't get a definitive answer. I appreciate your time, thank you!\n",
      "38: Changing brake pads on a '14 FLHCTU: Hey guys. I haven't had my Harley long and my brakes are finally due for a change. I'm keen to do my own work on the beast by nervous about the difference between normal pad changing and one with auto linked ABS brakes. I've tried to look online with limited success. Can anyone confirm I won't get half way through this and then realise I'm fucked?\n",
      "39: How to fix wiring to front turn signal 99 FXD: I was screwing in a front turn signal on my bike, and in the process accidentally tore the wiring a bit further out of the housing for the lamp. The light no longer illuminates. I'm new to this, but it seems like the wires were just yanked out from where they attach to the bulb. Can I just open up the housing and reattach them? Planning to give it a try tomorrow, but hoping for some more info.\n",
      "40: Streetglide won't start and horn problems: I've got a 2006 Streetglide (well I've been borrowing it, it's actually my father-in-law's bike.) I took it on a 1500 mile trip around Wisconsin and it was fine all week. I got back home, in Michigan, tonight and parked it in the driveway while I greeted my wife and kids. I came back out 10 minutes later to pull it into the garage and all of a sudden it wont start. It kinda sounds like a dead/low battery but I hooked it up to my car's battery and the voltage is reading 12-14 volts. The oddest part is that twice when hitting the starter sparks shot out of the left handle bar. I think they came out of the horn switch but I can't be certain. However, now when I press the horn switch, every 3rd or 4th press sounds like a fog horn - then it returns to normal. I'm thinking maybe a short in there somewhere though I don't know why this would prevent the bike from starting. Also, I rode 150 miles today to get home and it rained for nearly all of it. Any help is appreciated. Thanks\n",
      "41: Post-Prius update: Oof... just got the damage report and estimate from the dealer. I think my bike is gonna be totalled. 2,586,210 yen (about USD $22,500 ) in total. Crankcase got scratched up, so they gotta quote to replace it... which means a full engine rebuild. Between that and quoting the frame, I think the bike's likely getting totalled. Not happy about that. It's all structurally sound, just scratched up from the sheared off mid mount bounding around between the case and the pipes... it doesn't actually need replacing, but it has to get quoted. The good news is that all the parts I slapped on the bike will also factor in, so at a minimum I'll come away with a new FXDL. Might even work out to be enough to swap over to an FXDLS. Now, if the bike isn't totalled by the insurance company and the frame *is* OK, the damage to the cases is purely cosmetic, so the dealer says I'll be able to trade it in, in which case I'll be getting an S-Series and probably the 117\" kit to go with it. Fingers crossed!\n",
      "42: Clicking noise from Rear wheel?: The last like week or so I've been noticing like this creaking/clicking noise ONLY when rolling my bike forward rolling backward is noise free. It's definitely coming from the tire or belt pulley. I just had my Rear wheel bearings replaced probably about 7,000 miles ago. EDIT: My instinct is telling me it's the ids bearing maybe. I've looked my bike over and don't see any debris or anything.\n",
      "43: Spark plug issues???: I have an '01 883 sportster, that seems to go thru one plug if not both every month or couple of months, this is my first Harley so I'm just wondering if this is normal for them? I used to have an old Honda shadow and I never had to replace a plug. If it is a problem I would like to know, I'm just worried because it goes thru plugs like a fat kid thru M&M's.\n",
      "44: Gripe with Harley’s hydraulic clutch.: I recently moved up from a 2016 RoadKing to a 2018. Having my cable clutch replaced by a hydraulic one is driving me up the wall. I do a lot of slow speed riding and tight maneuvers and not having a friction zone in my clutch has proved to be a headache, especially on tight u-turns. I'm sure I'll work out the nuisances with this new clutch but for now I'll vent my frustration!\n",
      "45: Riding gear: Was just kind of thinking about this year's riding gear (since it's snowing out and I can't currently ride) and I started looking in to these jeans with Kevlar in them. Anybody have any experience with these? Are they worth the $150 everybody wants for them? Thanks in advance for any advice.\n",
      "46: I need a favour.....: So currently my partner and I are in the Atlanta, GA area. We have flown over from Australia to attend her fathers funeral, we have been able to hire an Ultra but they didn't have any jackets or riding gear, I was hoping that there might be some one on here that could help us out in the next day or two, we have the bike till Sept 3. I can't offer much, but I will buy you a beer\n",
      "47: Street/Electra seat question?! help: All my annoying posts I know but you all are helping! I found a guy parting a 2011 street glide... I own a 2010 Electra glide FLHTP police with the air ride. I know I'd have to remove my solo and air compressor and have the right mounting equipment to install a one piece chair.... But will the street glide chair fit on my Electra?\n",
      "48: 1982 Shovelhead: Hey guys. I'm in the market for a new old bike and stumbled upon a 1982 shovelhead fxrs-s. Any tips or suggestions regarding these bikes? It's got relatively low miles, all original with collector plates. Clean bike. Motor has been rebuilt once. 6k is the tag. Opinions? Thanks!\n",
      "49: Dual discs and racetech internals on '14 Street Bob: I'm putting dual discs on my street Bob, and now I've got some questions that I'm hoping one you can answer. Thus far I've got the 11/16th master cylinder and brembo callipers off of a touring bike. I'm going to be buying the right fork lower from a low Rider, ss lines, and new pads. I've got 10k miles on my left rotor, would it be ok for me to just buy a new right one or would the wear difference cause issues? I also found a pair from an 06 flhx w/ 10k miles i can get for $75, would they bolt up ok? If not, any cheaper aftermarket rotors you guys recommend? Also, while I've got the front end apart, I'm putting in racetech springs and cartridge emulators. I assume I'll need new fork seals? Anything else I'll need? I plan on doing some more research on that just wondering if anyone else has any input.\n"
     ]
    },
    {
     "name": "stdout",
     "output_type": "stream",
     "text": [
      "0: Found this while riding, may be my new bike. heart warming story of to veteran bikers . (x-post from /r/motorcycles): Short intro; medically discharged, had my sportster repossessed, struggled with the ability to ride again after injury, once regained purchased a cheap but nice Honda Shadow. Recently my wife and I have come into a situation where it would be viable to start touring, a dream I've always had. So for the past few months we've been searching for a good 2010-2014 road glide ultra, everyone we found was expensive as hell. **Story;** I was riding around town , actually turning onto the crossroad by my house when I spotted this beauty sitting at a local coffee spot. I quickly darted in, it took my breath away. Not trying to be rude, I snapped these 3 pics as quick as I could and hopped back on my bike, smiling, when the owner strolls out. I get to talking with the owner, turns out he was in the coastguard in Viet-fucking-nam (I was in the navy). So we shoot the breeze about that for a little bit. And I finally ask if I can hear it, so he fires it up. I start practically drooling, walking around it, checking everything I can. I take a step back, and tell him I appreciate him, his service, and taking the time to let me see his bike, but I needed to run home and show the wife his bike, o knew she'd love it. Then he hits me with it, \"well, it's for sale\".... So we start talking a little more. It's a 2012 Road Glide Ultra (touring pack at home) with **14,000** miles. He showed me pictures of two panheads and a sportster he had at home. Turns out the guy spends 3 days a week at the VA on dialysis, one of which is the same day I'm there (weird!?). He said he bought it, road to sturgis and Idaho and then started to get sick. He and his wife couldn't tour anymore, so he takes it out once a week to see his daughter at the coffee shop . My wife and I are talking with the Harley dealership and our bank to take his loan payments off of him as well as the bike. The way I see it now, he's right side up a few grand, and I'm going to throw him the difference in cash. **TL;DR** I happened upon a great guy, a wonderful story, the bike of my dreams, and potentially a friend to kill hours at the VA with.** Thanks for reading guys. I'd been having a Rough streak latelay, so to happen on this whole situation where I get something I want and can help out a fellow service vet is absolutely thrilling to me. Cheers guys, happy riding!\n",
      "1: How can I tell if my 88 twin has been converted to 96?: Is there a way for me to tell if my 05 softail deluxe had an engine upgrade prior to me owning it, from 88ci to 96ci without tearing the thing apart or taking it to a mechanic and spending unnecessary money? I bought the bike 2 weeks ago from a mom and pop dealer and while conversing with the dealer he mentioned it was a 96 and not an 88. I was (and still am) a bit ignorant to the multutude of ways a V twin can be upgraded but I am learning more every day. I bought the bike because I love the ride, not because of the engine size but now I am curious if he was telling the truth or filling me full of BS. Is there a visual cue or some fairly simple way for me to know the truth? Any info is greatly appreciated.\n",
      "2: Super glide questions: The motorcycle bug has bitten me again and now I've been looking at super glides. I've never owned or ridden a big twin bike so all of my sportster knowledge is useless. What year was the last year for carbs on super glides and what should I look for when buying one? Most of the ones in my price range are early 00s or late 90s with around 40-50k on the clock\n",
      "3: Took two Harley Street Glides for a test ride today: Hey all, Just wanted to talk about my experience today. I have just recently moved from Canada to Australia and I had to sell my bike just before I left - being bikeless sucks! Thankfully my now wife is super supportive and has been actively pushing me to get us a new ride. We rented a 2017 Street Glide a few weeks back and took a day trip into the mountains to the north of the city - it was such a comfortable ride, that it spoiled us for anything smaller. After looking at a few different options, we circled back to a Harley. Today I hit the local shop and took out two different years, a 2016 and a new 2018. I started out on the 2016 which only had 5,500 km on it... very lightly used! It rode very well and certainly pulled well - what I was not expecting was the difference the new 2017/2018 engine and transmissions offer. When I hopped on the 2018..... holy hell. I knew there was going to be some level of gain with the new design, but I wasn't expecting that much! The engine was so smooth and felt more responsive... and that gear change... I was instantly hooked. I am sure I had the biggest grin on my face while popping up and down the gears while tossing the bike around the roundabouts. The shop is pulling together some values for me on a used 2017 with 988km on it (owner bought it and returned it for a breakout) and the last 2017 Special they have in the shop. Hopefully I won't be bikeless within the next few days! Thanks for listening!\n",
      "4: I was hit on my motorcycle on the freeway, not sure how to settle with insurance: As the title says, and I am not sure if i should be posting in /r/legaladvice or elsewhere, but I thought if anyone else was hit on their motorcycle, it be nice to get advice. I (31M) was in an accident about 2 months ago. Someone changed lanes into me on the freeway. Luckily we were in traffic and I was only going around 10 mph when we slammed together, but I broke my leg, severely bruised my ribs, my hand was banged up and my foot completely crushed. It was deemed their fault and the insurance company will take care of all the bills, but i need to deal with a settlement for the time i missed for work as well as pain and suffering and any medical bills i will incur as i get older is more issues come up with my ribs/leg/foot/hand. Should i hire a lawyer or just handle myself? I don't want to pay a lawyer but i know they can get more money so it evens out. Anyone been through this before? Also, how much info should i give the other insurance company? Do they need my SSN? Thanks! Ride safe out there and always wear the right equipment, i know i wish i was wearing my riding boots over just leather boots. I'd be running by now.\n",
      "5: Bike dies at idle, no trouble codes. Any ideas where to start: Last night when I started up the engine would start fine but then die almost immediately. I had to keep pressure on the throttle to keep the RPM up in order to ride. After an hour or so it would be fine, I could idle at stops with no issues. This morning I started and let the bike warm up for a few minutes with no issues, no pressure on the throttle to keep the RPMs up. I took off to go to work, and every time I slowed down and downshifted neutral to stop the RPM would drop way low and the bike would die. Hit the start button and it would fire back up, I'd have to keep pressure on the throttle, and made it to work. 2015 FXDB, 8k miles, aftermarket exhaust, air cleaner, FP3 tuner. Tried pulling trouble codes last nigh and there were none. Any clue where to start to fix this?\n",
      "6: Help with some aesthetic parts: Just traded my bike for a 2012 street glide. It came with a touring seat that has an adjustable backrest. My girl rides her own bike so I've been looking into solo seats. Ideally I'd like something tan/brown that's got some nice stitching, is comfortable, and has a backrest option like the seat I have. If anyone can point me in the right direction I'd really appreciate the help. Also I'm looking for a good handlebar mount for a cellphone.\n",
      "7: I broke my body: So two and a half months ago, I ripped full speed \\(35mph is what the police report said\\) directly into the side of a Toyota Camry, because the little guy driving was too busy trying to find his undropped BALLS to LOOK LEFT before pulling into the fucking street. I broke my left hip, ankle, femur was compound fractured out the front of my fucking leg, and shattered my left knee. Right upper arm was broken too, so that made getting around fun. /s Anyway my point is, the biggest source of stress I have explaining all this shit to people is, \\*it was not at all my fault.\\* My brain, in fact, blacked the whole thing out. I may as well have fallen off reverse cowboying a really fat dude or something. But here we are. My lawyer's good, so I hope Junior and his fucking Toyota enjoyed having money. But I hate having to explain, I've been riding these road cruisers as hard as the footpegs'll let me for 26 YEARS. I DID NOT AT ALL CONTRIBUTE TO THIS ACCIDENT. And, since so many midlife crisis motherfuckers are out there in the ditch on their fuckin' off\\-the\\-rack hogs, it largely gets assumed that I contributed in some degree to the injuries I've sustained. Y'know how in the average accident, there's always sone decision or decisions that you fucked up, no matter what side of it you're on. Not this. Just, Ta\\-Daaaaa! And I'm in the hospital suddenly, deepthroating a plastic tube, wearing the most godawful shit the hospital could find. Good luck and godspeed, gentlemen. I'll be back out there teasin' cock as hard as ever, once I build my next Softail.\n",
      "8: R-Title for first bike?: I've grew up riding dirtbikes and racing ATVs. I recently got a wild hair up my ass and took then passed my MSF class. Local guy (friend of a friend type deal) has an 08 Road King Classic with 30000 miles and an R-Title for $7500. The price seems okay, as most other RK's are around $9k for this year. Bike seems to be in great condition. What's the deal with R-TItles?\n",
      "9: Long shot: anyone in SLC that can save my life right now: If anyone happens to have a 5/16 chaser tap, I could use a hand. Exhaust head bolt backed out and the one that stayed wobbled a little and the threads are slightly gross, I think they can be saved if I can chase them. If I can make it to St. George tonight I can get a pickup and a ride home. I got replacement bolts, but I would have to force one to get it to go and I don't want to make it worse and fuck the head / need an insert. Obviously a long shot but I'd be grateful.\n",
      "10: Dealership update: Hey everyone this is a follow up on: Previous Post After everyone's advice I went out on Saturday to get a second opinion on the bike. I went to these guys who had done my seat and work for others I know in the past. It took around 10 minutes of looking over the bike before Colin told me that my local dealership were talking out their arse and my bike was fine. I suspected my it would be based on the age and mileage. Everyone here thought so too. Thanks for the advice and support everyone!\n",
      "11: Quick front wheel bearing question: PICS HERE: _URL_ So I'm undergoing a partial frontend swap on my '98 sporty. Switching wheel and front fork sliders to upgrade from pre 00 brakes to the better calipers of post '00. So got a nice deal on a wheel/rotor (w/bad tire, gonna replace anyway) but the sealed bearing...doesn't seem too sealed? How much resistance should be expected from these bearings? thanks y'all\n",
      "12: Does anyone have any experience with JW Speaker LED headlamps?: So one of the shops near me just got in some JW LED headlight and spotlight bulbs in and I'm interested in getting them. I have heard that JW actually makes the Daymaker for Harley, is this true? All the reviews I have seen speak pretty highly of these lights, but a few more opinions never hurt. I'd appreciate any input, thanks!\n",
      "13: Ironhead Sportster for first bike?: I'm finally looking at getting my first bike, after wanting one for years. I'm on a tight buget, so my options for the style I like are pretty much Ironhead Sportsters or 90s-mid2000s Vstars or Shadows. I'm wondering if I'm getting in over my head on a bike that old though - one is a 76 XLCH & one is a 77 XLH. Should I consider one of these bikes, or just go with one of the Japanese ones until I've ridden more and can afford a newer Harley? My longer-term goal is a Dyna, but it'll be probably 2-3 ears before I can afford one, even used.\n",
      "14: '84 FXR headlight problem after swapping out tach &amp; speedo cluster: Last season my speedo crapped out and I had to replace it. Luckily I found an unused '84 FXR speedo/tach unit. Just finished swapping out the unit and after putting everything back together I've found that headlight high beam works, but low beam doesn't. In my defense, I did turn the power on to make sure the headlight worked but I neglected to check high/low beam. I consider it lesson learned... I had pulled the headlight out to try and figure out how to get at the wiring block. I never did anything with the wiring inside the headlight bucket since while it was out I found that the wiring block is actually on top of the bucket beneath the hood with the oil/neutral lights. Right now the controls are hanging loose because I'm also changing out my bars. Question is: I really don't want to disassemble everything if I don't have to - if the high beam works but the low beam doesn't, does that most likely indicate it's the headlight? Or is it possibly a wiring problem? And if wiring, what's a likely culprit (controls or wiring block)?\n",
      "15: Exhaust question for 2017 Iron 883: I have been looking for an exhaust for my new 2017 Harley Iron 883. However everything seems to be Vance and Hines. So my question is everything in seeing from other companies for an 883 is marked \"2009-2014\" are these the same fit. Or am I stuck with Vance and Hines ?? I'm looking for something very short like some boot burners\n",
      "16: Importance of Preventative Maintenance: As someone who often does his own work on his bike, I am ashamed to say the Factory service manual does not always come out, especially for the more mundane stuff like oil changes or swapping accessories (mirrors, pegs, etc). Well, I have noticed /u/silverfox762 and several others on here posting about 5,000-10,000 mile checkups on certain parts of the bike, doing torque checks and whatnot. I learned a trick from an aircraft mechanic. He said that if you consistently clean everything, it is a great time to check for wear and tear. Things like dry rotted rubber, bad gaskets, leaks, etc. This has usually been good advice until about yesterday. My buddy and I were cruising along on his 2004 Electra Glide Ultra Classic when his back end started to shake a little bit. We were on a back road doing about 45, he slowed down, wobble started putting Shakira to shame and he ended up putting her into a ditch at about 10mph and luckily high-siding in a controlled roll. We picked the bike back up, got it home and found his rear wheel bearing had failed spectacularly. One side had started to lose ball bearings, which caused the instability in his rear tire. We got the part from Harley and fixed it that day. I guess this is long winded but an important lesson. My wife and I were on that bike not 40 miles ago doing 80 on the highway. He rides that bike an hour plus every other day through the middle of nowhere. We were lucky it wasn't worse. Do your preventative maintenance! I am not saying you need to replace stuff that's not broken, but if we had checked on his bearing beforehand it could have prevented him needing new knee fairings and crash bars. It is worth the money to get the $30 bearings and such beforehand than replacing fairings at $200+ and new crash bars. PS Crash bars saved his fairing and bags, probably worth their weight in gold.\n",
      "17: Exhaust Recommendation for a '16 Softail Slim: Anyone have a good recommendation for a set of pipes that are louder than the factor shotgun pipes, but not so loud as to piss off every person in my apartment complex? Has the 103 in it. I've been keeping my ears open for pipes on a bike like mine, but I'm not really seeing any. The only other slim I've seen around me had pipes that were basically cut just past the footboards and they were insanely loud. Good for that lady, not so much my style though. Edit: Spelling\n",
      "18: Broken exhaust stud - not seized: Hey folks, I'm replacing the allen head bolts that are being used as exhaust studs on my bike with... actual exhaust studs. They all came out fine except one - it was turning just fine, but then the bolt broke off. It's got about 1/4\" sticking out (plenty to put a nut on) and maybe about that much still inside. The obvious answer is \"have a nut welded on it and turn it out the rest of the way\" but the nearest chopper shop straight up refused to do it (\"won't work, it'll get too brittle and break again, never seen one work\"), welding places are quoting me insane prices ($100 just to weld a nut on), other more distant mechanics are saying it'll be a while before they get around to it. Is it possible that if I screwed a nut on with red loctite it would hold enough to turn it out, or am I crazy. It was taking some oomph to turn, but not THAT much oomph, before it snapped. I can't quite get two nuts on it or I'd do that. Any other options before I bite the bullet and have one of these insane welders do it? Thanks!\n",
      "19: Rebuilding rear master cylinder (98 sporty): So looks like I've lost almost all my rear brake over the last few months/years with daily riding. No obvious signs of leaks from hoses/plumbing. Bled them and did all other simple things to spec, so I'm thinking it's just time to rebuild the m.s., but from looking around I hear that once you take the rear caliper off braking power loss can happen? But the brakes were already feeling mushy before I put new tires on... Just wondering if there's more to this problem than I currently see. Worst case scenario, could it be a bit of crap in the lines even after it's been flushed twice? Anybody got ideas, or a good recommendation on parts for a rebuild? I mean the bike is almost 20, it's time for that anyway. Just trying to feel out what else in the braking system I should address.\n",
      "20: Looking for a banjo type bolt: I just set up a new intake and I'm setting up a crankcase breather kit. I'm looking for a specific type of breather fitting. It's like these: _URL_ Except there's 2 male nipples across from each other on one fitting. Anyone know where I could find something like that? Edit: It looks like I need one of these: _URL_ Anyone know the correct size for a sportster? Or any other good sources people have used for this fitting?\n",
      "21: Bike wouldn't start this morning. Thoughts?: I live in Austin Tx, where the past week has been more or less nothing but cold and rainy, so I can say up front that my riding time has been pretty minimal. My Softail Slim S 110 normally cranks a tad slower than my 88ci Fatboy, but since the weather's changed, I've noticed the Slim doesn't want to get out of bed as much in the morning. The first night of a front about two weeks ago, it took two tries to turn it over, but it fired up. I tested the battery that night, and it gave me 100% and greenlight the alternator as well, but I decided to hook it up to a tender anyways. After that, it fired up like normal until the past weeks weather conditions, where I just wasn't able to do a ton of riding. It didn't crank on three tries today, after being ridden for a good couple of hours yesterday, but the temperature dropped pretty sharply overnight. I've got it on a tender again, but am not really sure where my next point of interest might be. The bike is more or less brand new, as I bought it in August and just did the 5K service on it. Since the battery gave me an all clear reading, and all the connections are clean and tight, what may be the issue? I'm guessing even if it were something more major that the dealer or factory would cover it this close to the sale date. Thanks for the help, guys. I'll try to answer any other questions you have as best I can.\n",
      "22: The Ride for Life: It always makes me happy to see people still wrenching on, maintaining, and riding their bikes from youth (70s/80s). Today trade ins are a common thing, but what's one bike you can't imagine parting with? The one to ride til the end? Personally, even though I'll be moving on to a bigger bike, I plan on keeping my '04 Sporster just for how surprisingly fun it's been around town and the reliability factor for taking the abuse while I was learning to ride.\n",
      "23: Cam recommendations?: I've got to change the tensioners in my 01 FXDXT. I intend to upgrade the cam chest and swap over to geared cams to do away with the chain drive. I'm looking at S&S 509 since my bike is stock aside from Vance and Hines Big Shots and an Arlen Ness Big Sucker air intake. But if I can get away with something more aggressive that will last I'm open to suggestions. Harley suggested their SE 204 Cam Kit. Would like to hear your guys' input. Thanks\n",
      "24: Extended front ends: Looking to extend the front end of my evo sporty from stock to 6 or 8 inches. I am curious to how it will effect the handling. Not into the look that raking the frame gives I like the uphill slope of the stock rake. Any pics or advice on how these lengths will feel?\n",
      "25: Salvage Title Bikes - Are They Worth It?: I have the bug for a Harley since I was a kid and now it has been digging in even more since I went to a Demo Days last year. Unfortunately, home finances are rough and I was thinking about getting one as my daily ride. I guess this is out of desperation to get a Harley, but I have even considered looking at ones that have a salvage title that I could get for super cheap and possibly strip of some necessary parts or do small repairs to. Are these bikes worth it? I am in Missouri, can they even be titled and insured? I appreciate any help.\n",
      "26: Swapped Battery via Factory Warranty, now my gas mileage is awful.: Not sure which one is the chicken and which one is the egg, but I posted last week about an issue that ended up being the battery, and I was able to get it in and changed for one that would load properly. Now, however, my gas mileage has absolutely gone to shit. Last night, the range indicator had me at 181 to empty, and after running literally up and down the street for a couple of miles, it sat at 151 today. I just took it out to run it a bit in the cold weather and put some air in the tires, went maybe 6-7 miles total, and the indicator was at 109 when I parked it. It's not leaking, as there's no puddle in either of my parking spots, but you can actually sit and watch the gauge count down, sometimes in increments of two. The bike has a bit of a decel pop, but it had that prior to the battery swap, and the mileage held up fine. Does a new battery wipe the preset on the fuel tuner? Could I possibly just be \"unconfigured\" and getting the bad gas mileage from that? I'm open to any suggestions, but am a tad suspicious that this happened right after swapping the battery at the dealership. Thanks for your help, guys.\n",
      "27: Buying a new bike this summer: I have been paying child support for 12 years, 1200 a month. I have never missed a payment and have many times paid way more than that. It all ends in June!!!! My twins will be 18 and headed off to college. They have all encouraged me to buy that Harley i have always wanted but wouldn't until i was done with my obligations. I have never purchased a street bike before. I am a life long dirtbike racer, two wheels are in my blood. I have some questions to any one that can help. I bought a new car a few years ago and have since learned my negotiating skills are not what I thought ( i way overpaid for my car). I dont want to make that mistake with my Harley. At this point I am looking at a Fat Boy or a Heritage Classic. I cant go wrong either way. What would be some tips you would give some one walking in off the street to but a bike? In the past when I would purchase a new dirtbike, i would call around to the dealers and tell them what I was looking for and what price. It seemed to work in getting them down a bit, but I live in a area with only one Harley dealer to the south of me 60 miles and one to the north 140 miles. Any tips or suggestions in dealing with the sales guys would be appreciated. Thanks.\n",
      "28: First Bike Recommendations: I live and work in Seattle, looking to get my license and buy my first bike in the upcoming 6months. I've been told waiting for winter is a must for the best deal on a bike understandably. I'm 5'10\" (185lbs) and I'm looking for something to ride year round. I would like to commute as often as possible as well as ride with my girlfriend (115lbs) on weekends. Hopefully ballpark $3-6k for the bike. I'm looking for something like a 883 but open to thoughts/recommendations from the pros. I'm a Noob, looking for some advice. Thanks\n",
      "29: Windshield secure on 09 road king?: I bought a used road king with one of those easy on/off windshields with the 4 rubber connecting points. I haven't used it at all though because I feel like theres nothing actually \"locking\" it in place. Those springy metal wire things actually ended up scratched some paint near the rubber attach points. Is it safe to just put on the windshield and cut off those annoying springy metal wires?\n",
      "30: Bike not starting - 2008 FXSTC Softail Custom: New rider here, live in NYC and we've been having a brutally cold winter. I wanted to ride through the winter but we had a snow storm and streets were bad for about 10 days to 2 weeks, I didn't start the bike for a week, then I started it up on one of the warmer days (45 degrees) and ran it for a while. Then we had another cold snap and I couldn't start the bike after a few days of not trying. I was worried the cold drained the battery so I bought a battery tester and (if I'm doing it correctly) the battery seems to test as it is charged. I have a trickle charger coming today and I was gonna hook that up for a bit and try again when the weather gets a bit warmer. Has anyone else had this issue/ have any thoughts? TL/DR - Bike won't start in the cold, battery tests fine.\n",
      "31: (Help) Cable Speedometer: my 88 1200 Sportster's speedo hasnt worked since i bought it. the one that came with it the needle would just spin around and around but the odometer would go up. so i swapped a ironhead speedo i had into the gauge cluster and now the needle doesnt move and doesnt count milage. before i go and replace all the parts is there a way that i can figure out if its just a specific part and then just replace that? Pic for those interested _URL_ Cyclechex revealed that its got around 85k miles on it. still runs strong, i believe its been rebuilt about 15k ago.\n",
      "32: December 2016 Photo Contest: Here is the photo contest winner for November! Congrats to /u/GSXR450x for winning the month of November! Post your favorite pictures (HD related of course) to this thread and let the community upvote them. The picture with the highest upvote will become our new banner image for the month. The ONLY 'rule' for this picture is that it must be related to the HD motorcycles we love so much. After that, we don't care what image you post (meaning NSFW stuff is allowed). Please try and edit your picture so that it is in portrait mode or a square; It will make it easier on the fella who is going to add the pic to the top bar. The winner from the previous month will choose the following months theme. We have to give credit where it is due, this was /u/Bsours1002 suggestion. There is no theme for this month. I just want to see your sleds! -editSo once again this month is being sponsored by /u/GetLowered! They are offering up a $50 gift certificate to _URL_. Get out there and get to being creative!\n",
      "33: Coughing/Popping out carb?: I have an 06 883R that's stock other than a Big Sucker and I've swapped the slow jet to be a 45, main jet is the stock 175, and put in a Keihin needle that I got from a HD dealer. It starts and idles fine, runs great at higher RPMs, but when I'm taking a slow corner and then rolling out, it'll cough out of the carb and lose it's power for a second before it get's running smooth again. I've checked for leaks with the manifold, tried adjusting the tuning screw, and can't figure out what it could be. Again it's only when the bike is at low RPMs and I roll on the throttle, every other time it runs great. If anyone has any idea what it could be that would be a huge help! Thanks\n",
      "34: OEM Parts finder?: I think either _URL_ or _URL_, maybe both?, had an OEM parts finder that I'd use looking for parts for my old ironhead. Now the finder on there only goes back to '79. Any other dealer sites have the old one up and running?\n",
      "35: Looking for 03 fat boy efi Service Manual: Hey everyone a few months ago I bought a 03 fat boy efi and now I'm looking to obtain a factory service manual. I'd prefer a Pdf download of it. If no one can provide a link I will buy one and scan it and host it. Also on a side note if someone has a pretty complete collection of Pdf service manuals I'm willing to host them and share via torrent forever. Thanks for the read and help.\n",
      "36: Did Screaming Beagle air cleaners ever come with dry filters?: Picked up an 07 FXDB a few days ago. First HD. Previous owner said it has a \"dealer stage 1\" on it. It has Rush slip ons and presumably a tune, but I'm trying to figure out what air cleaner I have. It has the stock football cover on it, but a 5.5\" round filter element with HD branding and a round backplate to match. It's not a k&n wet type though as I see on HD's website for the SE cleaners, it's a regular dry element filter. Did HD ever sell SE air cleaners with dry element filters? I want to replace the filter and ditch the football cover, but don't want to just start ordering parts if I may have to send them back.\n",
      "37: Seeking opinions upon my compensator aspect: My bike is a 2012 TC96i FLD (here in my country the FLDs are TC96, not 103). I ride this bike hard, everyday, for commuting. Last friday I tried to start my bike after a stop at the gas station. The engine was hot and when I pressed the start button, it made a horrible grinding noise it never done before (very different from the bendix clicking). And when riding, a really soft rattling noise remained when at idle. After some reading and watchin videos with similar situations and noises, I came to think that It could be related to the compensator. So today I took the bike to the shop and asked them to open the primary and check for the compensator. And provide a diagnosis. I discovered that my bike already has the SE compensator kit and from outside it seemed like new. Then this afternoon the shop sent me that pic: _URL_ They said my compensator was thrashed, and I need to purchase a new one. Question: How true is their statement? Friends say that this is pretty normal for an already broke in bike. The shop is insisting that this is certainly the cause of the bad starts and grinding noises. Also, I know that the battery is bad. 11.98V when you turn the ign. Has been showing V inner after every start. Maybe this is the cause of the hard starts? instead of anything at the primary? Thanks for reading and for inputs!\n",
      "38: HD XL883 Iron - Ebay Fairing troubles: hey guys, So last year I went ahead and got something like this from ebay, it came with no instructions but looked pretty good when it got here. - _URL_ It took me a while to get around to trying to fit it tbh due to moving house etc, I tried once before and emailed the seller to say that it doesn't fit, and something must be missing, they sent me a replacement rubber bung. So I tried tonight and it didn't work, there is simply not enough fittings to go around. Either way time has passed now and its too late to return :( After looking more on ebay I found other fairings with their fittings and they appear to have 3 more screws - _URL_ My question to you guys, have you had anything like this happen? how did you deal with it? also if anyone knows what size these extra 3 screws are and where i can get them before i try buy another of these things, i really want one xD thanks guys, Any help would be great.\n",
      "39: Dyna vs Softtail Streetbob: I'm buying a new bike next month (been without one for a year). I recently rode the new '18 streetbob and really enjoyed it. Smooth power, looks great as well. My only dilemma is should I look at getting a Dyna or pull the trigger on the new one? I have yet to ride a Dyna so I can't compare the two. For anyone who has ridden both, what are your opinions?\n",
      "40: Where to get custom cover for V&amp;H V02 naked air intake: I had stage 1 done when I bought my bike (2015 SGS) but it was done on the default intake and they slapped the screaming eagle badge on it. I am looking for something with more air, and I have committed on the V02, but I would like to see about getting a custom cover done on it. Has anyone had something milled/CNC'ed or made. Are there any places that makes custom covers for them? While cost is not of concern (I don't want to spend a fortune, but you all know like I do how this hobby is).\n",
      "41: Epic Softail Slim Rant (x-post from HD Forums): I had a '96 1200 Sportster for like 10 years. Did a lot to it and definitely felt like it was mine. Sucked on the highway though. Served me very well. Upgraded from that to a '12 Softail Slim. It had everything I wanted (I thought). Already had an intake and exhaust, everything that didn't come black had been powder coated, and it had the look I tend to like (chunky front tire, spoked wheels, flat bars, blacked out, all that). I got this thing in March. Maybe it was the cold air talking but I decided to buy a Memphis Shades Bullett fairing for commuting to work (55 minutes, mostly 65-75mph highway). Maybe it's because I am 6'2\" but all the fairing did was blast me in the face with air. So I buy the laminar lip looking booster wing they sell for the fairing. Same deal, lots of air to the head. More than without a fairing. Then I go down the path of modifying a front fork air baffle to fit my fork. All said riding that thing at 75mph was like being in a blender of buffeting. It was horrible. Maybe if I was smaller I'd fit in the \"bubble\" that all this stuff was making. Fast forward to now and I've taken all that stuff off. Figured I'd get a full face helmet and some bluetooth to make the commute more enjoyable. Stay away from the Bell Bullitt. It's loud at speed, speakers don't fit as advertised, and not built nearly as well as an Arai or Shoei. But it's field of view is incredible. It's like you are wearing a half helmet. And ditch the stock seat. Couldn't be happier with the Mustang Wide Tripper and backrest. ANYWAY, everytime I get to work after riding I feel like this isn't the bike for me. I'm trying real hard not to judge it based on this horrendous stretch of highway I ride in the morning (back roads on the way home). Sometimes the wind is just right and my knees get blow apart and away from the tank. I don't want to say I'm squeezing the tank with my legs but that's kind of what it feels like. Sometimes I'll relax and if I let it happen my entire leg and foot will blow off the floorboard. It's like there is no weight on my feet. Like my legs are just kind of lying in front of me and I have to use all my leg muscles to keep them from flopping like a windsock. Makes me feel like I was using a thighmaster the whole trip there. Besides that I love everything about it. A touring bike would be great but I'm not doing cross country riding everyday. I guess I just equate a touring bike to one guy driving around an empty 18 passenger van or someone with a truck that's never had anything in the bed. I test drove a Road King but can't remember if my legs were catching a lot of wind. Never drove any batwing models. This should have been like 8 posts over the last few months but you guys are getting it all at once. Thanks for listening. UPDATE: Stock seat is back on and legs are better. Wide Tripper seat had me too far forward. Comfy as hell and the backrest was nice but I'm just too tall. UPDATE 2: Installed Cycle Visions 2\" extension kit for the floorboards and controls. Made a big difference .\n",
      "42: Patch: So this morning I woke up to go to work and my bike is my only transportation, I don't ride a harley. However this morning as I walk out to my bike I find a patch sitting on my tank it is a HOG patch. Not sure if there is any significance to this but it was pretty cool.\n",
      "43: Plenty of magazines and websites saying good rides but from your own experience what is a lesser known route where you are from?: I'll start, living in Ohio we have a small chunk of motorcycle heaven in our southeast corner and a few years ago I discovered a 15 mile section that is divine. Then last year I decided to ride most of it from near Ashland Ohio all the way to Marietta. None other than route 60 , this is a beautiful ride going alongside rivers and through the hillside and the roads were all very well maintained (as of just last season) and it's beautiful. After headed south of McConnellsville I took a detour to the Stockport mill located right on the muskingam river and damn if that isn't an awesome place overlooking the river. I recommend Marietta brewing company right downtown for a spot to eat, awesome local beer and the food is killer.\n",
      "44: 2018 announcements...: Dynas are discontinued. Softails get a monoshock under the seat... Softail lowrider... Fake oil tank sidecovers, oil is under the transmission now where the shock use to be. New heritage.. No conchos, no backrest, Blackwell tires, black wheels. Edit... Far stiffer frame than Dyna or Softail. Hand adjustable preload for rear shock, less weight. Rigid mounted twin counterbalanced 107\" m8. Edit 2... No more vrods.\n",
      "45: All this for a $6.20 Seal: Inner crank seal left hand side gone. Allowing engine oil to pass into the primary. All this just to get the rotor and stator out.. The seal cost AU$6.20, changed the spacer and inner gasket etc as well. All up AU$71.00. And about 6-8hrs of labour. Hate to think what the shop would have cost.. _URL_\n",
      "46: Mechanically challenged rider needing advice about changing handle bars: I've gotten advice about air cleaner kits and pipes here before and now I'm looking at raising my handle bars. I was looking at the Biltwell Window 1\" handle bars but I know I need to change the cables as well. I've never done anything mechanical with my bike but only ride as much as I can. What tips do you guys have on changing handlebars? What tutorials would you recommend? I have a 2016 Iron 883 and I don't feel like paying $115/ hour for labor (i think that's too much).\n",
      "47: Need some buying help and couldn't find the answer in the FAQ: Pretty simple question. The buying guide in the sidebar is great for used but doesn't have much for new. I'm looking at a 2017 Street Glide. I started a little unsure of what I wanted and am 90% on the Street Glide Special, as long as some crazy awesome deal on an Ultra doesn't come along. Enough rambling, this will be my 4th bike, 2nd Harley, but 1st new Harley purchase. What kind of percentage should I strive to get off sticker. I am financing about half so the more I can negotiate off sticker the less out of pocket I have to come up with. I know some dealers will deal more than others, but need to know where to start. Thanks for any help you can offer!\n",
      "48: What is this squeaking noise from my engine?: Video here: _URL_ Background: While changing my oil before a 600 mile trip I accidentally put about 6oz of Formula+ in the oil tank. I flushed it out with 20w50, then filled to normal capacity. Near the end of the trip I started to hear this sound. I don't think it got worse, but it's not going away. The oil level is currently on the low end of normal. I will be changing the engine oil again, but I wanted to get some opinions on what the sound might be, and what I should check for in terms of possible damage. Your help is greatly appreciated.\n",
      "49: Fort Worth to Longview and back on Saturday, then Fort Worth to Terrell and back on Sunday: Wife and I put about 500 miles on my bike this weekend. On Saturday we road back roads from Fort Worth to Longview and then to Tyler. Got two need dealership t-shirts and had a great ride in some wonderful weather. On Sunday, we road out to Terrell and back. Wife road her little Sportster for that ride. Again the weather was wonderful.\n"
     ]
    },
    {
     "name": "stdout",
     "output_type": "stream",
     "text": [
      "0: Would you buy a new Harley?: Hi, I want to buy a Harley, the last bike I rode was 30 years ago, a honda CB350 I believe it was. Anyway the point I am making is that I have heard buying new Harley's is a mistake because they are junk or whatever but I buy American period. I buy American tools, cars, everything I can. If money was no object and you were buying a new Harley which would you buy? Should I buy used? Should I buy vintage? Thank you so much, I just have no idea where to even begin. Take care! Edit: Want to thank you all so much for the incredible amount of information you have provided. This is going to be great!\n",
      "1: Unsure if bike was remapped after v&amp;h exhaust: What's up guys. I bought a used bike recently, it already had v&h exhaust put on. How can I tell if the computer was remapped for optimal air/fuel ratio. Bike runs great but I don't see anything that would tell me whether it was or was not completed. I'm assuming since the bike is running properly it was but not 100%. Thanks guys, Cheers!\n",
      "2: Help diagnosing tappet issues: Recently on a trip back home my softail started to miss a little bit. I made it home safely and did some diagnosing. My vacuum petcock has been acting up so I replaced it and capped the vac line. Thought I was golden on a test ride until the bike died right at the bottom of my driveway. Get it in the garage and notice I'm running on one hole. Put my hand over the exhaust and feel no air moving from the front jug. Pull the exhaust, sure enough exhaust valve isn't opening. I pulled the pushrod covers and the front jug pushrods are not moving at all but I can still rotate them in my fingers by spinning them. The only thing that I am concerned about is the intake valve pushrod isn't moving up or down at all for that same hole. Should the intake lifter still move if the exhaust has failed? Had some lifter noise before this issue came up and I am hoping it's just a bad lifter and not something more serious. Thanks for the help!\n",
      "3: Is there anywhere I can go to try out a new seat?: I want to get a solo seat for my 1200 custom, but buying one online seems kind of silly since what I'm really concerned with is the comfort and I won't know that until I sit on it. Anybody know of somewhere you can go to try out seats before you buy them? I'm hoping I'm not stuck just buying one online and hoping I don't need to return it.\n",
      "4: [Technical] 2014 Iron 883 won't start: I hope I'm posting this in the right place. So i had brought my bike in on Thursday because of some rattling noise. It turned out to be a baffle screw. I drove it fine that day, didn't get to ride on Friday, but on Saturday I was trying to ride home from work and the security light came on solid. I pulled over, looked my bike over, all seemed fine. Took several attempts but got it running. The problem: I put in my key, turn it and the lights come on. When I flip the run switch, there is no noise from the fuel pump. I tried starting anyways and, no love. What I've done thus far: I replaced the battery as I thought it was not sending enough (it wasn't in the best shape) and I've replaced both the 10A and 15A fuses just in case. My next step is to replace my fuel pump unless someone has a better solution?\n",
      "5: Favorite or Lucky T shirt to wear when you ride? Show 'em!: Was just doing laundry and noticed the shirt I was folding up was the one I wore last weekend when I went out for a really long ride, great weather, good buddies. So that got me thinking. What's YOUR favorite T shirt (besides the one you wear to work or whatever) that when you see it makes you think back to a good time on the bike or is your lucky shirt or what ever?\n",
      "6: Must haves for warm-weather riding?: So here's the rub. I'm a relatively new rider that's been around the bike world ever since I was born. We're talking motorcycle shops, riding on my dad's little sportster as a kid. Now I finally got the money and bought myself a bike. (883 for those curious) I live in Hawaii and so most days it's a hot ride, and on the days it's not a hot ride it's going to be rain. What would you say is your all-time must-haves for riding in tropical climates? (I'm from the cold Rockies so it's a very different world.)\n",
      "7: What mods have been done to this 883?: Hey guys I have been wanting an 883 for a long time and I have just been looking at pictures and pictures and pictures. I finally have enough money to actually get ready and pull the trigger on this thing now so I am trying to make moves. Wondering what mods have been done to this 883 on this forum post? It is the murdered out black one all on the page that I am linking. Thanks in advance guys! _URL_\n",
      "8: Second Bike: I currently have a 2017 Honda Rebel. I'm going in to the dealership tomorrow to get a Harley. I'm looking at trading the Rebel in on a 2018 Street Bob. Is that a reasonable trade-up after 7 months of pretty much drama-less riding on the Rebel, or should I be aiming more to the Sportster line like the Iron 883 or the Roadster? Oh, and how is the 2018 Street Bob on the highway?\n",
      "9: How can/do I wheelie?: First off, I have never done a wheelie on anything in my life. I have an 06 xl1200r, and I have been itching to try it. I understand the concept of dumping the clutch, but what gear/speed/Rpms do I need to be shooting for? My main concern is the stability when that front wheel comes up and when it slams back down. Any advice would be appreciated! Note, I just want to do it one time not make it a regular thing. Edit: I guess I will just buy a dirt bike 😅\n",
      "10: Street Rod 750... yey or ney?: Hello people of planet Earth, I'm currently stationed on Camp Pendleton and will be moving back to Arizona in the near future. Not exactly a secret that summers suck in Arizona (I'm from Tucson to be exact). I currently have a 2015 FXDB and have been looking at a liquid cooled bike because I know Arizona summer and air cooled engine aren't exactly the best combo. I test rode the Street Rod and it was a fun bike (even if some of the ergonomics are a bit wonky) and it would definitely be fun to hit the twisties in Sedona. But part of me says I could probably get a much better Japanese bike for the same price. Should I stick to my convictions of owning domestics or swallow my pride and get a Japanese bike?\n",
      "11: Harley smart security system not working: So, after finding out what my keyfobs are for, I realized that my security system is not working. I got my used 07 Sportster 883R about one year ago. Until now I never really cared what the keyfobs are for. I was just happy I could ride. Whenever I start or turn off the bike there are NO flashing lights or anything. &nbsp; This weekend I did some troubleshooting to find the problem, but I wasn't successful. I have both keyfobs connected to the keys, not one glued to the antenna. The partnumber of the kit is 68200-07A. * First I tried to start the bike with the fob 30feet away from the bike, no problem, bike worked fine. * After that I replaced the battery in one fob. No change * Then I removed the seat and the battery to check if the module is installed. It is. Picture of the module and a Picture of the antenna * I also tried to get to the menu with the speedometer, but nothing worked. Now that I know the hardware is already installed, I wouldn't mind using the system. Is it possible to deactivate the system somehow or what could be the problem with it? Thanks for any hints or suggestions\n",
      "12: 750 Street Seat Pad Advice Needed: I recently got a 750 Street, which I love! I live in the mid-cities of a metroplex and it works so perfectly. MY only complaint is the seat. I ride for about 30-45 minutes at a time, twice a day and after just that short amount of time, the seat becomes uncomfortable. and the dreaded butt-ache sets in. I'm considering different seat-pad options and one that seems good and in a good price range is an Airhawk. Does anyone have and experience/advice about these or any other pads i should look in to? Any advice is appreciated!\n",
      "13: Fork lock problem?: My urgent issue: my fork lock on my 2006 super glide is stuck locked, even though I managed to turn it *past* the point where it should've unlocked--so I can turn it from \"off\" to \"on\" but can't turn it back to the key position that should lock the forks. My fork has been giving me problems for a bit, requiring WD-40 to turn the other day, even before that needing significant jiggling of the handlebars and key to turn. It has been better though, so I put off fixing it. Well tonight I went to ride home after riding out no problems and after having the same problem, and attempting the WD-40/handlebars/jiggle the key solution, the problem I described above happened. What the fuck do I do? I'm stuck at a friends house 10miles from home in Brooklyn. Any advice much appreciated.\n",
      "14: Has anyone ran the \"Oil Bud\" on their bike?: I dropped my bike off at the shop for some winter upgrades and one of the things I want to improve is my oil temp. I live in a major city so I have to deal with a lot of stop and go. I came across the \"Oil Bud\" (_URL_ in which the creator brags that his temp stayed at 195 degrees after a run through town and up a mountain pass. I told my mechanic and he said that might not be good technically because water boils off at 212 and if it is staying at 195 it could cause sludge. My question is: Has anyone ran this par? What is the ACTUAL running temp? Do you have suggestions on a cooler that is not bulky?\n",
      "15: O2 Sensor delete: So I'm fixing to put shortshots on my bike. I've watched several installation videos. I've seen a few where the dude just disconnects the o2 sensors and that's it. Is he leaving something out? Or just unplug and good to go? Running an FP3. If that is the case what are the pros and cons of running O2 sensors vs sans O2 sensors?\n",
      "16: can anyone recommend some bluetoothe speakers?: i'm working on my 1996 sporster that my father didnt care for. i am looking to find some Bluetooth speakers so i can have some tunes on the road. the handlebars are tracker bars and not really sure what kind to get. i look on amazon and they seem like the wont fit cause the bike is a sporster custom with one dial right in the spot where the box for some speakers go.\n",
      "17: Mechanical Question: Not sure if this is the appropriate area to ask, please redirect me if not. I had a mechanical question I'm hoping one of you may have experienced. I have a 99 Sporty 883 with factory forward controls. Purchased new. I've been out of commission for a while so the bike was parked in my garage, not moving for six months. I regularly started it, but never rode it. I'm finally better and can ride again, and went to ride it this week. I noticed that I had to \"reach\" a bit further to grab neutral, but thought it was my work boots. Nope. When I rode it, I could only get to second gear before it wouldn't allow me to go further. It feels like I'm in fifth, meaning, it hits a hard stop when trying to get to the next gear. I opened up my service manual, but not sure what to look for. It literally did not move for six months, and having something break seems strange. What could have happened??\n",
      "18: Why/how do you like your Sportster?: I had a HD RK before but recked it. Need to get back on a bike. Been taking the bus for over a year and I'm done with the bus! Looking at an 01 Sportster (CL) for $2800 (good price?) My plan is ride it for a year then trade up/sell and get something bigger (fixing credit). Thanks in advance!\n",
      "19: 2003 Sportster dies under acceleration: Got stuck in some rain without my air intake sock. Sportster 1200. Idles fine. Runs fine on choke. Doesn't die when just rev'ing the engine at idle. But as soon as I take off in first gear with out the choke, it stumbles and will die. It will accelerate while choked but I'm not sure if doing that for an extended period of time will help unclog the main jet. And if that's even a good idea. Will it need to have the carbes cleaned out or can I just blast it out with the choke at half mask for a little while? Is this even a good idea?\n",
      "20: I need to vent.: Sorry everybody but I need to vent. You might be the only ones that feel my pain. I had my eye on a used XL1200N for about 3 weeks. It was everything I was looking for, low mileage, all black and a great price! I called the dealership 3 weeks ago and they told me the were renovating and that I couldn't see the bike since it was in the back in the warehouse and to call back the next week. I did exactly that and was told the same thing. I told them I knew what bike I wanted it and they assured me it wouldnt be sold until I was able to come see it. Yesterday, I decided to show up at the dealer and buy it, even though I could only see it in the warehouse. The guy there told me that they had ALREADY SOLD IT TO SOMEONE ELSE!!!! I was devastated and now I cant find another.... Hopefully another turns up soon. Thanks for listening.\n",
      "21: Does anyone recognize this batwing fairing?: I was recently gifted this batwing fairing a brother of mine purchased for his Road King before he passed. We couldn't locate the order receipts among his papers, and I was hoping to purchase a set of brackets to mount it to my FLHP. Does anyone happen to recognize the builder? _URL_\n",
      "22: What to do with stereo / gadgets: Just got my first bike used, an 02 sportster 1200 (16k miles) with a front fairing that has a cd player and 2 speakers. the speakers are blown. I doubt i would ever listen to music anyhow, i love the sound of the loud pipes. Is there anything i can replace it with? im pretty sure they are 6 by 9 speakers, anyone know of maybe gps screens that would fit? I dont think a pop out screen cd player/gps would work very well. i dont really want useless shit there, but i dont want to get rid of the fairing. any recommendations? Im new to this. I was into import cars, just got into harleys and dont know shit yet. I have alot of reading and experience to go through but would like some guidance. _URL_ _URL_\n",
      "23: Slip ons: Vance &amp; Hines or Screamin' Eagle?: I realize it's a matter of preference, but I was just looking for some opinion/feedback. I have a 2007 XL 1200R and I'd like to get some slip-ons. I've also been reading around that it isn't necessary to have the bike re-mapped since it's fuel injected and I'm just doing the slip-ons for now. Trying to decide between Vance and Hines Straightshots or the Screaming' Eagle Sportster Shorty Duals. Watching my spending because I'm about to buy a new house, but I wanted to start with the slip-ons in the meantime. Appreciate the feedback!\n",
      "24: Security System Chirp: So I've had my LowriderS for almost 2 years now and I finally thought about changing my PIN to my bike. I got that done no problem, but now I'd like to activate the system so I chirps when the alarm is activated and disabled. I read the manual just like I did to change the PIN, but for getting the chirp to work I just can't get it to go.... Any one have any luck going back and forth? Thanks!\n",
      "25: Question about Throttle Free Play (Throttle by Wire): Hey all, I have a 2016 FXDLS. My throttle can roll forward past the point where the spring returns it to when I hold it wide open and let go. Rolls forward approx. 10-15 degrees/ 1/4\" past spring return point. When throttle is at the spring return point the bike idles so I am unsure if it is out of adjustment. For instance when squeezing front brake I can also feel throttle in palm rolling forward past idle/spring return point. Is this normal for Harley with throttle by wire? Thanks,\n",
      "26: So a question for anyone who works at Harley?: I want real life answers on how much do Harley mechanics make? I see stupid low numbers on google like 21 dollars an hour. Yet the shop is charging like 100 dollars an hour by me. I know that the shop gets some of the money but realistically for anyone who knows a Harley mechanic or any motorcycle mechanic, can you get me a real hourly rate? I make good money now but I think I want to follow my passions and work as a mechanic on bikes (Harley would be nice) then eventually open up my own 4-6 bay shop. I just want some discussion about real life expectations because I feel like google is super on the low side. This isn't some joke I'm genuinely curious And if I do decide to do this, I will attend a school or approved Harley program. I just want to know if it's worth it. Also, I dream of the day I can leave New York, so what's everyone's opinion on good states for a bike shop? Probably somewhere with year round riding weather I'd assume. My passion is old and vintage bikes so I want to get out of plumbing.\n",
      "27: Engine Light on with codes after new exhaust: Alright guys, I got a new exhaust and installed it with the FP3, took it for a spin, autotuned the bike and I ended up with a check engine light. I'm pretty terrified about it. I saw the codes with the FP3, and they are PO152 and PO132, with a little bit of researching I found out that the two codes are about the engine running rich. However with PO152 it involves the O2 sensor running rich. At least that is from what my understanding is. Does anyone know what I can do about this? I'm pretty lost. Thank you for your time and I appreciate it.\n",
      "28: Seat modifications: I contacted mean city cycles and they won't do my seat cause my bike is a 98 they don't do anything older than 02. They say the foam in the seat is so old they wouldn't work on it. Does anyone know any other places like mean city cycles? If not any good suggestions for a lower/narrower seat for a 98 electra glide I'm trying to get down enough to flat foot. I'm 5.6 I do wear big healed boots when riding to. Also looking for something that doesn't move me back in the saddle. Any suggestions are welcome as I'm getting mixed reviews online lol.\n",
      "29: Street Bob owners, how would you rate your overall freeway/highway experience?: Thinking of eventually getting a dyna street bob. However, I live in cali and the freeway commute is a huge part of my daily/weekly schedule. Saw a couple of reviews mentioning that the stock suspension of this bike is somewhat lacking on a bumpier part of the freeways. Also, does the lack of windshield make wind resistance past 80-90 miles per hour an issue? For example, could you cruise at 100 mph down the freeway on this bike comfortably? thanks\n",
      "30: Need some sportster parts. Anyone have a scrap pile?: Wrecked my '03 Sportster 1200c. I'm near Dallas, TX. Looking for the following parts: * Clutch cover * Left rear turn signal * Left front turn signal * Master cyl rebuild kit * Caliper rebuild kit * Battery cover * Forward controls * Clutch lever * Clutch perch * Left mirror * Front engine mount bolt I could also be talked into some kind of seat solution that isn't the split seat with sissy that I currently have, but that's a low priority.\n",
      "31: CAN/BUS 6 pin wire extender: I have a FP3 installed on my Iron and was wondering if anyone knew a place that I could get an extension cable for it. Want to have more options of a place to put it vice just trying to stuff it into the battery compartment. Was thinking of trying to put it under the seat but right now the cables are to short. Thanks for any and all help.\n",
      "32: T-Bars on Iron 883?: I'm considering buying an iron 883 and customising it club style, 9 inch T-bars, gauntlet fairing etc. My question is since the stock drag bars on the iron are so low and the speedometer is on top of them, would I have to relocate the speedo to the side of the tank to avoid having to add longer wires? I've also seen images of the iron with after market handle bars and the speedo in front of the bars making it near impossible to see, is this on purpose or would this happen using aftermarket bars without relocating? (sorry for any noobness I've shown, not exactly an expert yet)\n",
      "33: '84 FXRP shifter linkage problem/question: Just bought an '84 FXRP that had forward controls on it and I need to move them back to mid. The previous owner had the original shift lever but not the linkage. I bought one from Drag Speciailties that they claim fits the bike but I think it's too long. In the the pictures in the link below you can see where the screw that attaches to the shift lever assembly is scratching the base of the cylinder. I can't shorten the linkage any more than it already is and if I tighten down on the screw at the cylinder side the screw will bottom out on the cylinder. What's the consensus, is this the wrong linkage? _URL_\n",
      "34: Switching Exhaust. New tune needed?: I'm planning on switching Exhaust on my 06 Street Bob from the Vance and Hines Big Radius 2 into 2 to the Bassani Road Rage 2 into 1. I have the Screamin Eagle Heavy Breather cone intake. Will I need to retune my bike? Planning on making this a DIYS project.\n",
      "35: Father's Day Themed Weekend Photo Contest: We've noticed quite a few of you post photos or stories about the influence of your dad and thought it would be fun to put together a Father's Day Photo Contest. **The Rules - Post a Dad-Related Harley Photo (your dad, your son, your dad's bike, etc.) then give a short caption on the story behind it or what it represents.** Top 3 most upvoted by Monday at 9 AM EST win either a pair of Biltwell Bantam Gloves, a Battery Tender Plus Charger or a $25 credit to _URL_. 1st place gets first choice, 2nd place next, 3rd what's leftover. Good luck! _______________________ Edit: Please submit contest entries to this thread and not a new one.\n",
      "36: Just venting... rough day and many more ahead.: So a little back story here... I bought an Electra Glide from a dealer last year and during the test drive, it back fired and just overall didnt run right. It had the look, it had the goods, i was sold before i even test rode it. I test rode a couple others, they ran well but I really liked this specific one. When it hits you, it hits you. So in order to make the bike run right, they put in a SE Pro Super Tuner. Cool. No cost to me when i bought it and in about 3 weeks they had finally gotten it dialed in. Dealer said that there was a Power Programmer in it to begin with but was corroded to the point that it was malfunctioning. I drove the bike home, i was giddy and it was a happy day. I also found out my 88 Twin Cam was actually a 97 S&S with cams, gears, heads... anyways... 10,000 miles later i have learned the bike in and out. I know there is a slight stumble at 2250-2500, slow to fire on hot starts and it smells like its running rich at idle, but its burning my leg off going 20. So what do i do? Bought the cables for the SEPST decided to do a shit load of research. After reading the instructions, many many many many forum postings and reading it all over again. I decided to connect. It took a little bit of playing around and going through everything but i managed to find it all and get a good grasp of the system. I fired up the 'auto tune' feature and went off for a drive. 30 minutes later, i arrived back in my garage. Time to download. Downloaded the new information and it just kind of didnt show up... hmmm.... no biggie, i can run the tests many times, always an excuse for a ride right? Two things i wanted to change... deceleration enleanment and idle. I had a little pop in the exhaust on deceleration, but nothing crazy, simple adjustment. Idle adjustment... simple. I decided that these would be my first two major changes to change the bike to 'my bike' sort of an accomplishment if you will.... I press the flash button and viola... it begins. The first of many small changes to be a better bike. Then a message from the system. \"Flash Aborted, please check your cables and battery charge.\" It took me some time to realize that this was a very bad message. Not only because of the small changes i wanted to make not coming into effect... but because there was something else behind the curtain. My ECM no longer displayed the VIN, year, or model. Odd. Surely there must be a mistake.... I pondered and googled for about two hours before i picked up the phone and dialed the Harley dealer. Finally the receptionist gave way to the mechanic.... After speaking with the mechanic and going over symptoms, it is apparent that there is an issue with using a Power Commander, then switching to a SEPST. He stated its happened before and its generally only with the Power Commander and the SEPST. Then he says that i will need a new ECM, and because of that, a new SEPST as well. I was taken aback and as i told my wife what happened.... damn was i glad that my neighbor was there for a buffer. I did some more searching on the Internet but overall i will have to take it in and have them look at it. It does have an extended factory warranty that I bought with this bike, but the mechanic said that because it was altered (SEPST) that it was voided on that part. Go figure. And of course the SEPST is not covered at all... Any advice or thoughts/prayers would be great... Im gonna enjoy this here beer and contemplate life. TL;DR: Tried to tune my harley and ended up with a fried ECM. UPDATE: Spoke to a different harley dealer and he stated that he has the equipment to flash the ecm to stock, then add the stock tune. Apparently its not that big of a deal after all. 104 out the door to repair... woot woot\n",
      "37: Harley for a tall guy: Hey there fellow bikers! I've been lurking in this subreddit for a while now, and I'm just stunned about everyone posting their amazing bikes and that on the other hand makes me feel so sad for not owning a Harley of my own(yet, that is). And that's also why I'm asking this: I'm a pretty tall guy, 195cm (6'5 for my american friends), and for my whole life I have been riding with european and japanese bikes but always had a lust for Harley. Now I'm thinking of getting my very first. My problem is, I have never driven one, and I'm quite confused that what model would fit best for my height. Is there someone who is close to my height and could recommend some models that work well with tall drivers straight from the stock? I'm also interested if you have done some mods to your bike according to achieve better fit what comes to driving pleasure. Basically I'm looking bike for everyday use. Bike I can use when I'm heading downtown to meet my friends and a bike to travel around the world. Thanks for your opinions. I do know that I could just head to a dealer and testdrive the bikes I seem to like, but theres something that is still keeping me away from it. Maybe I just don't want to address myself as a total starter. Heh. **EDIT:** Thank you for your help and personal experiences! I truly feel relieved that there can be also a Harley for me. Trust me, I've been looking hundreds of Youtube videos and pictures people showing off their bikes and thinking \"Yeah, looks nice, but if I would sit on that bike it would look like a moped under me\". **EDIT2:** *fixed typos*\n",
      "38: Eliminating controls: On my '98 1200 sportster I have been eliminating my controls.. on the right side it went well I bypassed the kill switch and put on a small push start button. But once I snipped the left side my headlight will no longer come on. I'm sure its just a matter of soldering one of the control wires into another but anybody know which ones? Thanks\n",
      "39: So.. Blast?: Don't beat me up, but how terrible is a Buell Blast? I'm considering one for my first bike. After a year of Sportster searching, I haven't found a solid bike under $2500. How are they two-up? My girlfriend and I would be about 400lbs. I'm aware the bike is 400lbs. Not looking for much two up riding but I would like to cruise in town with her. Is there any reason they should be avoided? My main selling point is it isn't Japanese. I'm very anti-foreign car so I feel like I'd be a traitor on a Suzuki.\n",
      "40: Is their a Harley wave?: Recently bought my first motorcycle, a 2004 sporty, and my friend who rides crotch-rockets told me there's a certain wave for Harley to Harley. I'm not sure if he's blowing smoke up my a** or not, is there any truth to it? I've been just head nodding or a peace sign but what other bikers do is all over the place. Had one guy take both hands off and make a fake mohawk with his fingers while sticking his tongue out...?\n",
      "41: 98 Sportster 1200s electrical problems: Just picked up a 98 XLH1200S. Rode it to work and back home, then minutes later decided to go out for a ride again. Turn the key, switch it to run, but it doesn't seem normal - only the speedo lights up, none of the other lights come on, the starter button does nothing. When I turn the ignition on, the speedo lights up, the needle buzzes and tries to move a bit then goes back down below 0. The tach does not light up. The run switch doesn't turn on the little red light in the gauge (the one that is supposed to be on for a few seconds before starting). No headlight, no neutral light, no engine light. Turn signals work but stay solid. Brake light works. Fuses are all good. But here's the kicker, found gas leaking from the petcock into the main wiring loom and coming out all the way down by the fuse box. Not sure what to do next.\n",
      "42: Heavy breather + Rain: Hey guys. I have a quick and simple question for all you people riding bikes with heavy breathers. I know I would have to put a rain-sock on the breather when riding in the rain. So far so good. But what I don't know is if I would have to put the sock on when I let it stand outside and it is possible that it starts raining later. How bad actually is it for a breather to be rained on? Would this put some major damage on the breather or even the motor? Is it safe to let it stand in the rain without sock and then start it after it stopped raining? Should a bike like my Lowrider S be always safely put into a Garage? I am going to bring these questions to my dealer when I pick it up anyway. I just thought this could be an interesting read for other breather-users in /r Harley. Thanks all and ride safe!\n",
      "43: Need suggestions on windshield: Hi all, newbie to riding and have got my first Harley. A 2009 Harley XL1200C custom. I need a windshield for myself as I'm finding it hard to manage above speeds of 60 mph with confidence. I have heard of it taking lot of adjusting and re adjustments for windshield. Also price point. I don't want to spend a lot of money and all dealerships are quoting around 400$ Any and all suggestions are welcome. Im 5\"10 so would that make any difference in the height of the sheild?\n",
      "44: How much can I pack in an Electra Glide?: Renting an Electra Glide for a week for a trip in Florida, Jacksonville to the Keys in May. Wondering, how much can I pack for me and my girlfriend? Are the compartments fairly large enough to fit 7 days worth of clothing in? Could she wear a backpack sitting on the back?\n",
      "45: A mechanic friend did my 10k checkup but did not tighten clutch cable should I be worried?: So I have a mechanic friend, who I trust with my life. He has done all the work on my bike since my 5k check up at the H-D dealership. When they did the 5k checkup they tightened the clutch cable. My buddy said he looked over everything and changed all fluids. Should I be concerned that he did not tighten the clutch cable?\n",
      "46: Harley alarm siren?: My bike has flashing lights alarm only, and I was wondering what /r/Harley users had to say about getting the siren as well? I've looked online and people used to get something from Radio Shack that was $6 which would sound an audible alarm but with Radio Shack deadwhat have you guys bought for sirens? Or did you just pay the $$$ for the HD version?\n",
      "47: Need advice for selling my bike.: Hey guys, I've been a lurker on this sub for years. I have a barely ridden 2014 Sportster 48 with ~1100 miles on her. I've been trying to sell her on Denver Craig's List for months. Only one bite for 7K. Far under my asking price of 8500. I need some pointers to get her a new home. Any advice would be great. Thanks.\n",
      "48: Mechanical issues after replacing gaskets. Help, please!: My husband has an '07 Sportster 1200N. He was having a pretty bad oil leak out of the rocker boxes and a smaller one out of the primary. I bought him some James Gaskets and we set to work last Saturday. We successfully replaced all the gaskets, making sure to clean all the old ones and yucky stuff off. We changed the oil and oil filter, while we were at it. I sat with a toothbrush and Dawn soap, making sure to clean as much oil off the bike as possible so that when we went for a ride, we could see if there were any more leaks. There weren't! And other than some minor smoking from components burning off what little oil I missed, no issues. Yay! However, since then, he's experienced some sputtering, a lot more afterfire and popping on decel, and at least once, the bike died...while in 4th gear...on the highway. Luckily, he clutched in real quick and the bike started right back up. We thought it was bad gas (it had been sitting for a while as he didn't want to run the oil dry). Sea foam, then a new tank of gas... nothing. We thought it might be bad spark plugs (they were rusty and dirty) so we replaced them... still nothing. We thought it might be a loose connection somewhere, so we went back through and torqued everything down to spec... no dice. I'm at a loss. He's really frustrated and I don't know what to do to help. Even with my knowledge and history, I can't figure out what's going on. Has anybody experienced anything like this? Are there any suggestions? TL;DR - changed gaskets and spark plugs on '07 Nightster, now experiencing sputtering/dying. Plz halp! **EDITso it turned out to be an intake leak. We'll be working on it this weekend. Thank you all for the input!\n",
      "49: BEWARE of Progressive suspension products: so... after a lot of recommendations from friends all over... i decided in April that it was time to replace my stock suspension. i went with progressive monotubes on the front forks, and progressive 412 rear shocks. my experience with this company has been absolutely terrible. immediately after putting on the new setup, i regretted it. i set the sag per their instructions on the rear, but the heavy duty shocks they told me to purchase (based on my weight and what i carry) literally beat the crap out of me. i felt every bump... every small hole... it was excruciating. i called asking if there was something i could do... and was very simply told \"no\". so ive lived with it... fast forward to 3 weeks ago, i started feeling a little spongy on the front end. after i got back from that ride, i checked things out, and noticed that my front tire was severely chopped up with abnormal wear patterns. the very next ride, the front forks just pretty much gave out. when i hit the brakes, the bike dives, and will get stuck in that position til i power up and get moving again. progressive suspension will do absolutely nothing for me. they obviously have a lifetime warranty, but are telling me that i have to pull the suspension and send it to them for them to verify what happened, then they will return them. BEST CASE SCENARIO is that i am down for 3 weeks, but was told to expect anything up to 5-6 weeks. i offered to buy a new set then get reimbursed later... they said no. i offered to overnight them... they said it wouldnt help as they would still need several weeks with them. they apparently do not keep ANY products in stock. ive put a grand total of 9500 miles on the bike since changing out the suspension.... worst decision of my life.\n"
     ]
    },
    {
     "name": "stdout",
     "output_type": "stream",
     "text": [
      "0: Selling my 2012 Fat Bob. Is my asking price reasonable?: I owe ~$7300 on the thing. I rode it for the tail end of one season and got a Grom. The Fat Bob has just under 20,000 miles and some cosmetic damage to the tank, front brake lever, and the heat shield on the slip-on exhaust from a low speed drop on either side. It sat for 18 months and the fork seal on the RH side began to leak earlier this year. I ride my Grom everywhere, and have dumped some serious cash into making it faster. After doing roughly 20,000 miles in 2 years on Groms(One was stolen and was recovered earlier this year), I'm looking at maybe a FZ07 next. Anyway, I've got the HD listed for $6300 and potential buyers haven't really been popping up. The Yamaha dealer offered me $5000 for my trade in a few months ago and I've just about accepted the loss I'm going to have to take to get rid of it. I got another offer today for $5k and I felt insulted. That's what I paid for my 2005 Sportster just 3 summers ago. Sure, I don't have the title in hand, but I wholly intend to pay the difference and have it within 10 business days. What would yall do? I'm honestly tired of looking at the thing and my payments are pretty steep at $373/mo.. I kinda rushed into getting it because that seat on the Sport was killing my ass and group rides with the HOG club were all I looked forward to. Thanks for reading. EDIT 9/21/2017: Sold it! Ended up getting ~$5250. I've got enough of my bonus left for a decent downpayment on a '17 FZ 09!\n",
      "1: Looking at higher mileage Road Kings as a first Harley?: Is there an amount of mileage that is too much? Some of the bikes im seeing in my price range are at 60-70k miles. At that amount of use am I going to have to look into rebuild cost? Im mostly interested in like the old police bikes. Is Ebay the best place to find them?\n",
      "2: Sportster build: Hello, I am in the process of replacing a blown engine on my 2001 1200 custom sportster. I have heard that the buel engine can be used with little to no modifications. I am looking for some one that has done this. I cannot seem to find much info on this swap. I know the buel engine makes a significant making more hp/tq so the swap would be great if it doesn't break the bank! Tia!\n",
      "3: Does it void the warranty if you do your own maintenance?: I took my 2016 Road Glide Ultra for 5k checkup today and paid over $360 and $220 of that was for labor. I was a little shocked because the first checkup at 1k miles didn't cost me a dime so I assumed this one wouldn't either. My previous ride didn't have a warranty so I didn't know what to expect. Can I do my own maintenance and keep a logbook with receipts or would that void the warranty?\n",
      "4: New Harley owner, got a couple questions...: I just got a 99 Dyna Superglide Sport, 21k on it. Was out riding today and noticed a few times I had trouble finding neutral. And a couple other times the neutral light just didn't come on, even though it was actually in neutral. Shifting also felt a little loose or clunky at times. So is this normal for a bike this age? Should I be concerned? Edit: Thanks guys, for the replies\n",
      "5: Anybody running the Dynojet Power Vision?: So pretty much looking for some real life reviews of the tuner. I've had the FP3 from V&H and it was great. But I really like the screen on the Powervision and think it would be nice to have it mounted on the bars for a few more \"informative\" guages. I also really like the fact that the Power Vision has a lot more customization when it comes to building up the motor. I've got a 2016 Road Glide and I'm in the process of doing the stage 1 upgrade.\n",
      "6: Street 500 exhaust alternatives: So I'm currently looking into exhausts to put onto my street as the stock one just seems to lack any sort of noise, so I was just wondering if anyone had any recommendations? I'm currently leaning towards the vance and hines option but any other ideas would be considered.\n",
      "7: Is there any kind of universal quick attach/release mounting brackets for a Sportster?: I'm not sure if these exist, but it seems like a good idea if executed properly. I'm looking for a quick release bracket system to mount to the rear fender area that would allow for a sissy bar and luggage accessories to be used interchangeably. Something like this for the backrests on the glides _URL_ but also with the luggage capability for my 2011 Nightster. Like I said, not sure if it's out there, but any help is appreciated. Thanks!\n",
      "8: LED headlight for Fat Bob: Other brands are finally starting to show up. Thank goodness, Daymakers are $800. Anyone have any experience with brands other than Daymakers? Hogworkz had them for $219. Looks like they need some mod in order to fit. I'm ok with that as long as the end product works well.\n",
      "9: Which exhaust for my 17 FXDL?: The stock 2 into 1 exhaust honestly sounds awful compared to some I've heard. Some that I know I like are the V&H short shots, and the V&H Big radius, or V&H Big Radius 2 into 1. If I went with the Big Radius, what is the difference between the standard and the 2 into 1? How much do dealers usually charge to install them? Thanks!\n",
      "10: Any yearly difference in sportster 48?: Hi all Been a lurker here for awhile but I couldn't find anything similar to this so forgive me if this has been asked a million times before! I've wanted a Harley since forever, and the riding itch has been getting stronger ever since I crashed my bike (Yamaha thundercat - RIP little beast) three years ago! Perfect time to get a Harley! Before looking at used bikes, just for the hell of it I looked at the 2018 lineup & honestly, to me the sportster 48 is gorgeous. But a new one is expensive, so I've been looking at older models. Are there are differences in the models during the years? I've read that there was an upgrade to the front forks for the '17 model, but is it a noticeable difference? Is it worth the extra money from, say, a '15 model? Anyway, thanks for reading, any help is appreciated as I try and convince myself not to be an idiot and buy new!!\n",
      "11: Questions about new T-bar setup: Hey all, I am looking at getting some west coast MX T-bars for my Lowrider S, When they state 12\" bars, I assume that means 12\" rise? Is this height measured with the bars off the bike, held vertical? Or is this 12\" rise a vertical 12\" when the bars are mounted (at fork angle)? Same for pullback, what position are the bars in when this is determined? Also, does anyone have any cost effective method of lengthening the cables required? (Vs. Buying new longer cables from Harley) I want to try and get my bars at shoulder height; I am just not sure the best method for measurement. Thanks all! Happy riding!\n",
      "12: Lucky Daves vs BMC Corbin vs Mustang vs ?: I've had my RoadGlide just over a year now, and I'm looking to make some changes. Almost 10k on the stock seat and it's got to go. I'm looking for suggestions from anyone who's tried anything. I've always gone w Mustang seats, they're priced competitively, they've been comfortable and I've never had an issue with wear and tear, customer service etc. I've been looking into Lucky Dave's and BMC, and while they look great they are definitely more expensive. Any one have one and have good things to say about it? Bad things? Other options I haven't even heard of yet?? Help me r/Harley you're my only hope...\n",
      "13: Thundermax qustion: 2009 Softail Custom (FXSTC). Bought it with thundermax installed. Getting a P0131/P0151 code on the speedo diagnostic. Should I change anything? Change to Open or Closed loop? It has a base map download to match my big sucker air-cleaner and freedom performance exhaust but other than that nothing fancy like engine upgrades.\n",
      "14: 02 FXDWG seats: I've read a few sites that give some conflicting reports. I'm trying to look for a new wide glide seat (either a sundowner 2up or a mustang wide). From what I can see ONLY the wide glide seats from 96-03 will fit my bike. But I've also seen that there's a bracket I can use? Can someone elaborate. There's a 02 fxdl seat that I'm not sure I can use or not.\n",
      "15: Older riders and technicians of r/harley what was the selling point that made you join Reddit and this subreddit specifically .: I work at a motorcycle shop in IL with some extremely knowledgeable people in the world of harley. I've told them about this site before but I honestly don't think my delivery was up to par because they brushed it off. What were some of the main reason you came to join all of us here and decided to stay after that? I'd love for the guys I work with to climb on board and maybe chime in every now and then to help out the community, thanks in advance! (Also disregard my shit grammar)\n",
      "16: A submission to the list of Murphy's Laws for Motorcycles: I bet there is a full list of laws somewhere, however, here is my submission from today's ride in 100 degree heat. On HOT summer days, while riding in stop and go traffic, the car in front of you will always stop in a shady spot while you are left to bake in the full force of the summer sun.\n",
      "17: New 2018 Street Glide CVO for a new rider. Too bold?: So yeah, without going into details, i suddenly have large amounts of money. A life long dream has been to own a Harley. I will be starting my riding course over new years and hopefully have my license in march/april. I rode tuned up crossbikes when i was 13-18 so i fell semi-confident about my riding skills before starting my lessons. I know people say you shouldnt get a new bike as a first bike because i will drop it. Well i have the money to fix whatever gets broken, and im a pretty carefull guy. So am i stupid to even consider this? Try to talk me out of it. i am 30 years old, 185 cm, 85kg btw (sorry about bad english and grammar)\n",
      "18: 2015 Harley-Davidson Freewheeler Trike: I purchased the before mentioned trike in April 2015 with the goal to clock over 2000 miles by the end of the year. However, I only clocked 500 miles prior to being sidelined by major left foot surgery in September 2015. As a result, I've been on none-weight bearing bed rest, two none-walking casts, four hard-walking casts, two walking boots and now physical therapy since January 2016. This surgery wasn't something I expected and recovery has been a mental challenge. However, I can't wait to get back on my trike, but there is a lot of fear due to the insertion of five screws in my left foot. I'm sure, I'll need to re-adapt to riding. A few riding associates suggest I learn to use a heal shift, but I have two screws in my heel which are felt through the skin. Others suggest a hand shift, but I have caper-tunnel syndrome in both hands. I've always been a toe shifter, but I now have three screws in the top of my foot. Do any Harley riders have these issues? What did you do and how easy was it to adapt? By the way, my other bike was a 1999 Suzuki Intruder 1400 which I sold in April 2016.\n",
      "19: Why you always check over those old bikes you just bought.: Buddy acquired this bike a while back. Last fall we discussed getting it on my lift to do wheel bearings, chain and rear sprocket to regear it for some added highway needed in our area & just give it a solid look over. Over winter it developed a primary leak while sitting so we added that to the list. It rode up from about 30 miles away last Friday. Got put on to the lift and waited until Saturday morning. * Front wheel bearings .022\" end play, set new bearings to .004\" removing stacks of .002\" & .004\" shims. * Rear wheel bearings spot on & with fresh grease. Repacked, new seals & Bob's your uncle. Then things went took a turn the wrong way every time we touched something. What started as wheel bearings is now sitting like this on my lift waiting for parts & hardware with the pile of in front of it](_URL_ * Compensator sprocket torqued on with about 30ft-lbs. * Clutch hub nut, was loose when putting the socket on it by hand. It's a tapered shaft, the hub needed a puller to take it off. So it was tight at some point in time. * The front 2 inner primary bolts(in housing) were loose. Top one about 3 turns out, bottom about one. The kicker about it, the lock tabs were bent over on the flats. * Then pulling the primary housing off. The frickin transmission is loose in the frame. I don't mean a little loose. The 5th stud to the frame = missing. The 4 nuts going to the transmission mounting plate, loose. The mounting plate itself is loose and missing a bolt in the rear & its hole has something in it. Broken bolt perhaps? The front 2 were grade 3 carriage bolts. Get the mounting plate out, no broken bolt but a stone in the hole that needed to be busted up to get it out. * Front drive sprocket loose, again with the lock tab bent over a flat. Guy is pretty lucky in that none of the big parts were damaged and all the threaded holes are not butchered. Just because that bike is a \"runner\" doesn't mean it's safe.\n",
      "20: Anyone here going to the TX Motovlogger Meetup on Sept 24th?: I was wondering if anyone was going to the 2016 Motovlogger Meetup in Austin on the 24th. Not even sure how many of you watch motovloggers. I'll be riding with the San Antonio group. If you're there, I'm on my '15 Road Glide and I have a Harley Reddit sticker on my half helmet so say hi. _URL_\n",
      "21: Need help with a Sportster custom: Hi guys, I got back to riding after approx 3 years by purchasing a 2013 Sportster 1200C. Been riding around the freeway to and fro work in traffic and have noticed the following problems. I can hardly see anything with the stock mirrors. I am 6ft, and maxed tilt towards outside still gets me my shoulders and 10% view of the side lanes. Would the Kuryakyn mirror extenders help? I've never ridden bikes with forward controls before, hence used to moving my legs closer to the tank when riding around 110km/h. But I can't do that with the sportster. My bike has mini foot boards. Riding above 100km/h starts giving me pain in upper front right thigh. I can't enjoy those speeds at all, just feel uncomfortable. I have stock duo seat and stock handlebar. Riding between 80 and 100km/h has no problem. Would a seat fix this? I was looking at the Mustang wide touring double seat. Can I install 12.5 inch rear shocks from the 11.5 standard without having to change front fork springs? And my eternal search for a comfortable handlebar is ongoing. :) Thanks in advance!\n",
      "22: Watch out for stinging assholes, tis the season...: So, today I was doing a beautiful 400-mile ride with my wife. About hour 4 I was smoking a nice tasting Maduro Ashton Churchill as I usually do every couple of hours on a ride when all of a sudden... BOOM my chest is on fire. WHY HAVE YOU FORSAKEN ME CHURCHILL?! I'm screaming in my head as I swerve all over the road trying to pat the ember out on my chest... then my stomach.... then my side. Wait a minute I try to calmly reason in my head, my cigar hasn't ashed yet wtf is hurting me?? One hand up in the air as to not lose my smoking pleasure center, and the other ripping off my vest, I pull my shirt up to my nipples and start fanning it, watching with disdain as a yellow and black asshole flies out from under my shirt. This whole time my wife was trying not to laugh asking me what the hell I was doing. So, as the title says, watch out for those assholes!\n",
      "23: Question about forward controls on 2017 883: Hey guys, so I'm getting the forward control kit from Harley Davidson and I was wondering, for anyone that is aware of, do the Vance and Hines shortshots obstruct anything with the forward controls? Idc if I have to take something off temporarily, I'm just wondering if there is any permanent obstruction that could cause issues. Thanks\n",
      "24: Air filter turning black?: Hey guys quick question, I bought an aftermarket air filter online that has an exposed filter. The filter started out red, but has slowly been turning black, I'm also finding a bit of oil residue around the throttle body. I've heard this is normal and just clean it up, but I wanted to ask here to make sure. Thank you!\n",
      "25: What components/details should be kept in consideration while customizing 2005 Road King Classic?: I recently purchased a very very stock 2005 Black Cherry Pearl RK Classic. Unsurprisingly, I'm trying to figure out what approach to take as I decide how I want to customize it. What things other than the obvious handlebars, saddlebags, exhaust etc, should I be sure to keep in mind? I mean the less obvious things. For example light lenses, switch housings, or even smaller details that when brought together, make a noticeable difference in the final outcome or look? My RK\n",
      "26: Harley Sportster Front Brake Question: Hello all, It appears I bought a poorly maintained Sportster 883. I am now in the process of fixing up everything that needs fixing. One of the first things on my list was the brakes (due to their importance). Heres the problem: The brakes were pretty squishy and didn't feel right so I dug in. After inspecting the master cylinder it was clear they're fucked. The master cylinder had DOT 5.1 fluid and a ton of gunk. I cleaned it all out. I then bled the brakes. I used a whole liter of DOT 5 through the system in order to make sure I got all the 5.1 out. I used the method with a hose and opening and closing of the bleeder valve. By the time I was done - there wasn't any air left. The problem is, the brakes are still squishy. Maybe even more so now. I bought a master cylinder rebuild kit and a caliper rebuild kit. Do ya'll think this will fix it or am I missing something? Pads are not worn passed spec. Help is appreciated, Thanks r/HD!\n",
      "27: '91 FLHS saddlebag hardware. Anyone know where to find it?: I have a 91 flhs and on the left side hard bag the lid is currently being held shut by a bungee cord because I can't seem to find the latches for sale anywhere. Anyone know who sells them or what exactly I should be searching for on eBay? I haven't been able to find them.\n",
      "28: Looking for a street bob but I have questions: I want a used street bob, but not sure what years I should target. I want a fuel injected bike WITH the 103. And the 6 speed. What year did they start with that combo? Also what would a good price be for a used one with those sort of features? Going to be my first harley so I have questions lol\n",
      "29: Buying an old Sportster as a first bike..: How terrible of a choice is an Ironhead for a first bike? I am very mechanically inclined and I love old things. Evos are nice but I think a pre 1979 sporty is substantially nicer. The hardest thing is finding one that isnt chopped out. Are they more unsafe than say.. a 2001 883? Any words of wisdom? My budget is 3k tops. Not looking to buy right now. I live in NE PA and go for my MSF class in July.\n",
      "30: Suspension Question: I have a 2006 XL1200 roadster and I mainly ride solo with no issues. My sister likes to go for rides sometimes and she is by no means much more than 100lbs... but it is not uncommon to bottom out the rear end on a decent bump. As far as I know the suspension I have is stock. What is a good upgrade that isn't going to completely break the bank that would eliminate bottoming out with two-up? Like I said, i'm not picky and I don't mind the way the stock suspension rides... I just don't like that squishy feeling i get when i have a passenger and i certainly HATE feeling it bottom out. *edit I should mention that I have already taken it to HD to have them \"adjust\" the suspension for a heavier load... Still have the issue. Thanks!\n",
      "31: Harley shocks VS aftermarket (Progressive): I came across quite a few posts about how swapping the stock Harley (Sportster) shocks with aftermarket ones made riding more enjoyable and comfy, however a few review sites happen to specifically mention how Harley has upgraded them in newer models (2016 and later if not mistaken) making them better than its predecessors. Being a 2017Iron owner and having an HDI model that comes with 13-something inch shocks, how do the factory ones compare with aftermarket, like progressive 412's? Im considering their 11.5\" Standard Duty shocks and while i am aware that loosing clearance will make the bike less agile through turns, if they also handle comparatively similar to the factory installed ones, i may as well forget about them and go for something else. Im ultimately after lowering the bike a bit for aesthetic and convenience reasons (i want to place feet confidently on ground while static) but also wouldnt mind a more enjoyable and comfortable ride. Thanks folks!\n",
      "32: Sanity Check on First Bike Purchase Please: First time purchasing a bike, took the rider course and all that. Would appreciate a last minute sanity check to calm the nerves: _URL_ Dealer dropped from 11.5k to 11k even and I said ok and that I'd be in to inspect and pick it up tomorrow. The bike was in transit from another dealership when I negotiated a price: I was originally in the dealership to get a different bike. Year is 2015, black/orange, seems stock. I can't tell whether that year has ABS or not (not really a concern for me) as assorted reviews said it did, but it's not outright specified on the dealer's page and the dealer didn't know. Looking around this state and the nearest few states I've seen prices pretty tight around the 11.5k mark for stock VRSCDX for years 2010-2015, so it's my judgement that this price is ok for a 2015 model with 5k miles, but I could be stupid, who knows. Would appreciate any advice, cheers.\n",
      "33: [Update] Help with FXS that won't start: I posted about a week ago about my 2013 FXS that wouldn't start. I left it uncovered and it got wet. I tried starter fluid, and it fires up, but it immediately shuts off once that is burned off. I drained the gas tank and it looks like some water came out as well. I added new gas, but that hasn't fixed the problem. It still continues to turn over without firing. I've used WD40 on the connections with the spark plugs, to no effect. This happened once a few months ago, but it ended up drying out and eventually working. Any help or advice is appreciated. I just want to put on a few more miles before I deploy and leave my book in working condition. Thanks.\n",
      "34: Comfortable Seat Recommendations for Iron 883 (2017): Hello Everyone, Can anyone recommend a comfortable seat for an 883? I've tried searching on other forums and the Mustang Fastback seems to be the highest rated seat, but I figured I'd ask here and see what you all have to say. Went on a 2-hour trip yesterday and my butt went numb an hour in. I plan on riding from San Diego to San Francisco in a couple of months and wanted to ensure I had something that wouldn't be nearly as exhausting. I may have a passenger, so something to keep in mind. As a bonus, here's a pic of my bike at the beach from yesterday's trip! Thanks in advance! EDIT: What about purchasing some sort of gel pad? Do those generally last quite some time or should I just get a new seat?\n",
      "35: Moving up to a bigger bike: Moving up from an 08 Nightster to a 11 street glide. Any tips, tricks for moving up to a bigger bike? It feels so heavy sitting on it compared to my nighty. The floorboards also feel a little clunky with my feet. Also, the heel to toe shifter has been a little nerve racking. I'm probably just overthinking all of this..but any input would be great.\n",
      "36: Stage 1 with K&amp;N filter?: So I got me some Screaming Eagle Street Cannons and I am itching to install them. I was wondering if a K&N filter ( this one) , the street cannons and a download from the dealer would be considered a stage 1 upgrade or if I needed to do the screaming eagle air cleaner? Any input is much appreciated.\n",
      "37: Wide Glide Question: I'm building a pre-99' Fatboy. I got the trees from a local swap meet because they were wide glide style (like a 1/16inch under 10inch centre to centre). I don't know what year they came off of, but I'm just curious if after 2000, Harley changed the width of wide glide trees.\n",
      "38: Hows the handling of a 17.5RKS compared to 18 RGS?: A friend is leaving the country and wants to sell me his Road King Special that he just bought last summer. I had thought about buying a new Road Glide Special this year. My gf is willing to do some riding with me, but wouldn't do long trips, so mostly it is just me.\n",
      "39: Help with custom sissy bars; 2016 Softtail Slim S FLSS?: (Cross-posted from r/motorcycles) Firstly, I'll preface this by saying I don't know that much about bikes, but my best friend does and for his new bike he wanted custom sissy bars, so I drew up a basic design for it and he fell in love with it. Now I wanna surprise him by actually getting it made, problem is that I need the measurements for the mounts. Does anyone know what size they need to be? And is there any other pertinent information I need? I've got a couple buddies who do metal fab and welding that have offered to make them so I'm not going through like a local shop or anything that might know. Thanks in advance!\n",
      "40: /r/Harley and RES: I know this isnt HD or Bike related, nor is this a fucking help desk so apologies in advance, but I'm just curious if any other RES users are having problems with the color format here on r/Harley? I have to turn night mode on or the OP posts and anything I click on is whiteed-out. Only happens on r/Harley. I can see the text if I highlight it. Turning Nightmode ON fixes it, so not a huge deal, but it made me wonder if this is just me, this Subs css or if its a RES issue edit - RES = Reddit Enhancement Suite v5.10.3\n",
      "41: Sometimes the insurance works out....: I posted up about ten weeks back about my real world experimentation with the durability of the Toyota Prius versus the impact resistance of a Harley rider. Summation: Prius build quality is almost as shit as the driving skills of the owners, but it still has enough mass to fuck up your day and then some. End result - one messed up Dyna. Thanks to the insurance-raping skills of my dealer and the persistence of my insurance agent, I picked this fine looking beast up Friday evening. Immediately proceeded to ride the tits off it. Went down to get my traditional first ride shot in front of Mt. Fuji as soon as daylight hit the next morning. (I do this for my first ride with with every bike I get my hands on, the viewpoint is at the top of a great twisty road overlooking a \\n active volcano.) Final settlement on the bike side is almost finalised, but at worst case, if they total and keep the crash bike the financing on the old bike is paid out with a few grand left over, leaving me with the new and improved bike and no change in payments and enough left over for the pipes, tuner, and a few more goodies for the new baby. Best case, I keep the old bike, already have a buyer, and I'll end up with enough to pick up a sporty as a barhopper and enough left over to have a little fun modifying it.\n",
      "42: Any recommendations on oil pump for Shovelhead?: Looking to see if anyone has a recommendation for oil pump on Shovelheads. I am in the process of building a 76 Shovelhead engine and trying to figure out what to buy for an oil pump. I do have original pump from the engine currently. I know S&S oil pumps are often used. It was suggested to me to use an Ultima oil pump. Any improvement that can be done to existing one? If it helps for bottom end. standard bore, Weisco pistons, Truett Osborne 72T 4 1/4 flywheels\n",
      "43: Extended warranty question, am I getting screwed?: I purchased an extended warranty when I bought my bike from Rommels in Delaware, I'm coming up on the end of that warranty on feb 20th and lately it's been hard to start and the idle is off so I figured I'd get it fixed before the warranty is up. Sometimes I start it and the idle is really high, other times it idles low enough that without giving it gas I'd stall at a stop light.Its a 2009 night train with 43000 miles. Anyway, I dropped it off at Barbs in nj because it's the closest dealer to me for the warranty work and ask them to take a look at it. Earlier in the day I received a phone call asking if I wanted to trade it in, I told them no way because I love the bike, about 2 hours later I receive a call that the dealership says the warranty company won't honor the extended warranty because it has a power commander and most likely the power commander is bad. The bike was throwing a code but I don't remember what it was.I bought the bike with the power commander on it. I had warranty work done before and it wasn't a problem. Have any of you dealt with this before and do you think either the warranty company or the dealership is trying to screw me? I know this post is long as hell but I'd appreciate any help you guys could give me.\n",
      "44: First Motorcycle Help: Hi, first time posting here but this seems like the place to go. I recently just got my motorcycle license and am looking for a harley sportster. I've been looking into the 883 and the 1200. I'm a lighter guy so the weight of the bike concerns me if I go for the larger 1200. What would you guys recommend?\n",
      "45: Rinehart classic duals: My buddy and I are working on installing these on his 2016 street glide. He got them second hand and we are trying to verify they are correct. The rinehart office is closed currently. Does anyone know about these? We are trying to make sure the second header routes to the left side and does it go... over the passenger peg when it's down? It looks like if so you couldn't close the passenger peg and also risk burning the passenger shoe. Thanks for any help anyone can offer.\n",
      "46: 2012 Blackline Value?: I am looking at a 2012 Blackline w/ 5k miles (just had the servicing done at Harley). It has aftermarket air intake / exhaust and is Big Blue Pearl / Vivid Black. My question is, what is a good price to pay for a bike like this? I do not want to overpay (who does) but also do not want to lowball the offer. Through my own research, I came to a value of $9,350. What do you guys think?\n",
      "47: 2016 Iron turn signal relocation questions: I'm planning on putting some Biltwell Chumps on my 2016 Iron 883, and I was thinking that instead of messing with the wiring, it'd be smarter, easier, and look better if I relocated my turn signals instead of trying to keep them on the handlebars. While some bikes can look great with the relocation kit that Harley offers, I feel like that kit makes the lights stick out a bit far for the look I want for my bike. That being said I was thinking of getting the J&P Fork Clamps or possibly the Arlen Ness Turn Signal Mounts. On to my questions: Has anyone here tried out those items or something similar? If so, how difficult was the installation and how happy were you with the look of the kit afterwards? Thank you! Edit: I'm also considering the Custom Dynamics Fork Wrap Arounds as well, but I'm not sure how difficult the installation would be.\n",
      "48: Clutch Cable: Working on my 92 Sportster 1200 and the POS clutch cable isn't adjusting at all. I managed to peel the lever from its housing, cracking the housing in the process, lubed the cable, and realized no matter what I do I can't get enough slack to put the thing back in. Any advice? The Jags out of commission and she's my only ride to school tomorrow\n",
      "49: How to add an LED Light Bar to your Sportster for $34: I've been asked by a lot of people on the road and while I'm out about how much it cost me to get such a bright light bar wired up to my bike. Every time I tell them less than $40 they're shocked and intrigued by my little project. This wasn't originally my idea or anything and I've seen a few of you here with these light bars too. I just thought I'd do a quick little writeup of what I used for my build in case anyone else wanted a little more light output on their bikes. **Album**: _URL_ **Build Items**: * $8 - Kawell 18W LED Light Bar * $13 - Kawell 1 lead Wiring Harness with Relay and Fuse * $13 - Shitty eBay light bar bracket **Bracket Alternative**: * $70 -TrackerDie Light Bar Mount\n"
     ]
    }
   ],
   "source": [
    "batch_size = 50\n",
    "\n",
    "for i in range(0, 200, batch_size):\n",
    "    docs = nlp.pipe(df.text[i:i+batch_size])\n",
    "    for j, doc in enumerate(docs):\n",
    "        print(f\"{j}: {doc}\")"
   ]
  },
  {
   "cell_type": "code",
   "execution_count": 124,
   "id": "0cfd8606",
   "metadata": {},
   "outputs": [],
   "source": [
    "batch_size = 50\n",
    "\n",
    "for i in range(0, len(df), batch_size):\n",
    "    docs = nlp.pipe(df.text[i:i+batch_size])\n",
    "    for j, doc in enumerate(docs):\n",
    "        for col, values in extract_nlp(doc).items():\n",
    "            df[col].iloc[i+j] = values"
   ]
  },
  {
   "cell_type": "code",
   "execution_count": 125,
   "id": "1c2f9a4b",
   "metadata": {},
   "outputs": [
    {
     "data": {
      "text/html": [
       "<div>\n",
       "<style scoped>\n",
       "    .dataframe tbody tr th:only-of-type {\n",
       "        vertical-align: middle;\n",
       "    }\n",
       "\n",
       "    .dataframe tbody tr th {\n",
       "        vertical-align: top;\n",
       "    }\n",
       "\n",
       "    .dataframe thead th {\n",
       "        text-align: right;\n",
       "    }\n",
       "</style>\n",
       "<table border=\"1\" class=\"dataframe\">\n",
       "  <thead>\n",
       "    <tr style=\"text-align: right;\">\n",
       "      <th></th>\n",
       "      <th>id</th>\n",
       "      <th>subreddit</th>\n",
       "      <th>title</th>\n",
       "      <th>raw_text</th>\n",
       "      <th>category</th>\n",
       "      <th>subcategory</th>\n",
       "      <th>text</th>\n",
       "      <th>lemmas</th>\n",
       "      <th>adj_verbs</th>\n",
       "      <th>nouns</th>\n",
       "      <th>noun_phrases</th>\n",
       "      <th>adj_noun_phrases</th>\n",
       "      <th>entities</th>\n",
       "    </tr>\n",
       "  </thead>\n",
       "  <tbody>\n",
       "    <tr>\n",
       "      <th>0</th>\n",
       "      <td>8f73s7</td>\n",
       "      <td>Harley</td>\n",
       "      <td>No Club Colors</td>\n",
       "      <td>Funny story. I went to college in Las Vegas. T...</td>\n",
       "      <td>autos</td>\n",
       "      <td>harley davidson</td>\n",
       "      <td>No Club Colors: Funny story. I went to college...</td>\n",
       "      <td>[Club, Colors, funny, story, go, to, college, ...</td>\n",
       "      <td>[funny, go, know, motorcycle, end, call, worth...</td>\n",
       "      <td>[Club, Colors, story, college, Las, Vegas, col...</td>\n",
       "      <td>[college_buddy, dance_club]</td>\n",
       "      <td>[funny_story, front_door, bright_color, much_b...</td>\n",
       "      <td>[Las_Vegas/GPE, Hogs_&amp;_Heifers/ORG, ANYONE/ORG]</td>\n",
       "    </tr>\n",
       "    <tr>\n",
       "      <th>1</th>\n",
       "      <td>4z6vee</td>\n",
       "      <td>Harley</td>\n",
       "      <td>Mystery Rattle</td>\n",
       "      <td>I have a stock 2010 FXD that has a rate I can'...</td>\n",
       "      <td>autos</td>\n",
       "      <td>harley davidson</td>\n",
       "      <td>Mystery Rattle: I have a stock 2010 FXD that h...</td>\n",
       "      <td>[mystery, Rattle, have, stock, 2010, FXD, have...</td>\n",
       "      <td>[locate, hear, second, believe, happen, hard, ...</td>\n",
       "      <td>[mystery, Rattle, stock, FXD, rate, gear, idle...</td>\n",
       "      <td>[drive_gear]</td>\n",
       "      <td>[second_gear, other_gear, starter_drive, start...</td>\n",
       "      <td>[FXD/ORG]</td>\n",
       "    </tr>\n",
       "    <tr>\n",
       "      <th>2</th>\n",
       "      <td>6x4tdk</td>\n",
       "      <td>Harley</td>\n",
       "      <td>Gum on tailpipe</td>\n",
       "      <td>So I'm on a bike trip with my father and we st...</td>\n",
       "      <td>autos</td>\n",
       "      <td>harley davidson</td>\n",
       "      <td>Gum on tailpipe: So I'm on a bike trip with my...</td>\n",
       "      <td>[gum, on, tailpipe, so, be, on, bike, trip, wi...</td>\n",
       "      <td>[gum, stop, park, metered, go, get, notice, ri...</td>\n",
       "      <td>[tailpipe, bike, trip, father, food, bike, spo...</td>\n",
       "      <td>[bike_trip]</td>\n",
       "      <td>[metered_spot, spare_rag]</td>\n",
       "      <td>[]</td>\n",
       "    </tr>\n",
       "    <tr>\n",
       "      <th>3</th>\n",
       "      <td>7l7rer</td>\n",
       "      <td>Harley</td>\n",
       "      <td>Changing up the bars!</td>\n",
       "      <td>So I’m gonna change out my T bars that came on...</td>\n",
       "      <td>autos</td>\n",
       "      <td>harley davidson</td>\n",
       "      <td>Changing up the bars!: So I'm gonna change out...</td>\n",
       "      <td>[change, up, bar, so, be, go, change, out, t, ...</td>\n",
       "      <td>[change, go, change, come, 14'street, think, l...</td>\n",
       "      <td>[bar, t, bar, bob, San, Diego, bar, dave, 12, ...</td>\n",
       "      <td>[t_bar, cross_bar]</td>\n",
       "      <td>[lucky_dave]</td>\n",
       "      <td>[San_Diego/GPE]</td>\n",
       "    </tr>\n",
       "    <tr>\n",
       "      <th>4</th>\n",
       "      <td>683pc7</td>\n",
       "      <td>Harley</td>\n",
       "      <td>Spent 2 days and made some Mini Floorboards fo...</td>\n",
       "      <td>A few weeks ago, somebody was looking for some...</td>\n",
       "      <td>autos</td>\n",
       "      <td>harley davidson</td>\n",
       "      <td>Spent 2 days and made some Mini Floorboards fo...</td>\n",
       "      <td>[spend, 2, day, and, make, Mini, Floorboards, ...</td>\n",
       "      <td>[spend, look, amazed, know, stand, occur, help...</td>\n",
       "      <td>[day, Mini, Floorboards, sportster, week, Mini...</td>\n",
       "      <td>[ankle_discomfort, rubber_bumper, fun_project]</td>\n",
       "      <td>[few_week, long_ride]</td>\n",
       "      <td>[Sportster/PERSON, CNC_Shapeoko_Router/ORG]</td>\n",
       "    </tr>\n",
       "  </tbody>\n",
       "</table>\n",
       "</div>"
      ],
      "text/plain": [
       "       id subreddit                                              title  \\\n",
       "0  8f73s7    Harley                                     No Club Colors   \n",
       "1  4z6vee    Harley                                     Mystery Rattle   \n",
       "2  6x4tdk    Harley                                    Gum on tailpipe   \n",
       "3  7l7rer    Harley                              Changing up the bars!   \n",
       "4  683pc7    Harley  Spent 2 days and made some Mini Floorboards fo...   \n",
       "\n",
       "                                            raw_text category  \\\n",
       "0  Funny story. I went to college in Las Vegas. T...    autos   \n",
       "1  I have a stock 2010 FXD that has a rate I can'...    autos   \n",
       "2  So I'm on a bike trip with my father and we st...    autos   \n",
       "3  So I’m gonna change out my T bars that came on...    autos   \n",
       "4  A few weeks ago, somebody was looking for some...    autos   \n",
       "\n",
       "       subcategory                                               text  \\\n",
       "0  harley davidson  No Club Colors: Funny story. I went to college...   \n",
       "1  harley davidson  Mystery Rattle: I have a stock 2010 FXD that h...   \n",
       "2  harley davidson  Gum on tailpipe: So I'm on a bike trip with my...   \n",
       "3  harley davidson  Changing up the bars!: So I'm gonna change out...   \n",
       "4  harley davidson  Spent 2 days and made some Mini Floorboards fo...   \n",
       "\n",
       "                                              lemmas  \\\n",
       "0  [Club, Colors, funny, story, go, to, college, ...   \n",
       "1  [mystery, Rattle, have, stock, 2010, FXD, have...   \n",
       "2  [gum, on, tailpipe, so, be, on, bike, trip, wi...   \n",
       "3  [change, up, bar, so, be, go, change, out, t, ...   \n",
       "4  [spend, 2, day, and, make, Mini, Floorboards, ...   \n",
       "\n",
       "                                           adj_verbs  \\\n",
       "0  [funny, go, know, motorcycle, end, call, worth...   \n",
       "1  [locate, hear, second, believe, happen, hard, ...   \n",
       "2  [gum, stop, park, metered, go, get, notice, ri...   \n",
       "3  [change, go, change, come, 14'street, think, l...   \n",
       "4  [spend, look, amazed, know, stand, occur, help...   \n",
       "\n",
       "                                               nouns  \\\n",
       "0  [Club, Colors, story, college, Las, Vegas, col...   \n",
       "1  [mystery, Rattle, stock, FXD, rate, gear, idle...   \n",
       "2  [tailpipe, bike, trip, father, food, bike, spo...   \n",
       "3  [bar, t, bar, bob, San, Diego, bar, dave, 12, ...   \n",
       "4  [day, Mini, Floorboards, sportster, week, Mini...   \n",
       "\n",
       "                                     noun_phrases  \\\n",
       "0                     [college_buddy, dance_club]   \n",
       "1                                    [drive_gear]   \n",
       "2                                     [bike_trip]   \n",
       "3                              [t_bar, cross_bar]   \n",
       "4  [ankle_discomfort, rubber_bumper, fun_project]   \n",
       "\n",
       "                                    adj_noun_phrases  \\\n",
       "0  [funny_story, front_door, bright_color, much_b...   \n",
       "1  [second_gear, other_gear, starter_drive, start...   \n",
       "2                          [metered_spot, spare_rag]   \n",
       "3                                       [lucky_dave]   \n",
       "4                              [few_week, long_ride]   \n",
       "\n",
       "                                          entities  \n",
       "0  [Las_Vegas/GPE, Hogs_&_Heifers/ORG, ANYONE/ORG]  \n",
       "1                                        [FXD/ORG]  \n",
       "2                                               []  \n",
       "3                                  [San_Diego/GPE]  \n",
       "4      [Sportster/PERSON, CNC_Shapeoko_Router/ORG]  "
      ]
     },
     "execution_count": 125,
     "metadata": {},
     "output_type": "execute_result"
    }
   ],
   "source": [
    "df.head()"
   ]
  },
  {
   "cell_type": "code",
   "execution_count": 133,
   "id": "1fa3bc6a",
   "metadata": {},
   "outputs": [
    {
     "data": {
      "image/png": "[encoded data removed]",
      "text/plain": [
       "<Figure size 432x288 with 1 Axes>"
      ]
     },
     "metadata": {
      "needs_background": "light"
     },
     "output_type": "display_data"
    }
   ],
   "source": [
    "count_words(df, \"noun_phrases\").head(10).plot(kind=\"barh\").invert_yaxis()"
   ]
  },
  {
   "cell_type": "code",
   "execution_count": 134,
   "id": "83138038",
   "metadata": {},
   "outputs": [
    {
     "data": {
      "text/plain": [
       "['lemmas',\n",
       " 'adj_verbs',\n",
       " 'nouns',\n",
       " 'noun_phrases',\n",
       " 'adj_noun_phrases',\n",
       " 'entities']"
      ]
     },
     "execution_count": 134,
     "metadata": {},
     "output_type": "execute_result"
    }
   ],
   "source": [
    "nlp_columns"
   ]
  },
  {
   "cell_type": "code",
   "execution_count": 137,
   "id": "e4de6d60",
   "metadata": {},
   "outputs": [
    {
     "data": {
      "text/html": [
       "<div>\n",
       "<style scoped>\n",
       "    .dataframe tbody tr th:only-of-type {\n",
       "        vertical-align: middle;\n",
       "    }\n",
       "\n",
       "    .dataframe tbody tr th {\n",
       "        vertical-align: top;\n",
       "    }\n",
       "\n",
       "    .dataframe thead th {\n",
       "        text-align: right;\n",
       "    }\n",
       "</style>\n",
       "<table border=\"1\" class=\"dataframe\">\n",
       "  <thead>\n",
       "    <tr style=\"text-align: right;\">\n",
       "      <th></th>\n",
       "      <th>lemmas</th>\n",
       "      <th>adj_verbs</th>\n",
       "      <th>nouns</th>\n",
       "      <th>noun_phrases</th>\n",
       "      <th>adj_noun_phrases</th>\n",
       "      <th>entities</th>\n",
       "    </tr>\n",
       "  </thead>\n",
       "  <tbody>\n",
       "    <tr>\n",
       "      <th>0</th>\n",
       "      <td>Club Colors funny story go to college in Las V...</td>\n",
       "      <td>funny go know motorcycle end call worth note w...</td>\n",
       "      <td>Club Colors story college Las Vegas college bu...</td>\n",
       "      <td>college_buddy dance_club</td>\n",
       "      <td>funny_story front_door bright_color much_booze</td>\n",
       "      <td>Las_Vegas/GPE Hogs_&amp;_Heifers/ORG ANYONE/ORG</td>\n",
       "    </tr>\n",
       "    <tr>\n",
       "      <th>1</th>\n",
       "      <td>mystery Rattle have stock 2010 FXD have rate c...</td>\n",
       "      <td>locate hear second believe happen hard tell th...</td>\n",
       "      <td>mystery Rattle stock FXD rate gear idle gear n...</td>\n",
       "      <td>drive_gear</td>\n",
       "      <td>second_gear other_gear starter_drive starter_d...</td>\n",
       "      <td>FXD/ORG</td>\n",
       "    </tr>\n",
       "    <tr>\n",
       "      <th>2</th>\n",
       "      <td>gum on tailpipe so be on bike trip with father...</td>\n",
       "      <td>gum stop park metered go get notice right spar...</td>\n",
       "      <td>tailpipe bike trip father food bike spot hour ...</td>\n",
       "      <td>bike_trip</td>\n",
       "      <td>metered_spot spare_rag</td>\n",
       "      <td></td>\n",
       "    </tr>\n",
       "    <tr>\n",
       "      <th>3</th>\n",
       "      <td>change up bar so be go change out t bar come o...</td>\n",
       "      <td>change go change come 14'street think lucky sl...</td>\n",
       "      <td>bar t bar bob San Diego bar dave 12 cross bar ...</td>\n",
       "      <td>t_bar cross_bar</td>\n",
       "      <td>lucky_dave</td>\n",
       "      <td>San_Diego/GPE</td>\n",
       "    </tr>\n",
       "    <tr>\n",
       "      <th>4</th>\n",
       "      <td>spend 2 day and make Mini Floorboards for spor...</td>\n",
       "      <td>spend look amazed know stand occur help reliev...</td>\n",
       "      <td>day Mini Floorboards sportster week Mini Floor...</td>\n",
       "      <td>ankle_discomfort rubber_bumper fun_project</td>\n",
       "      <td>few_week long_ride</td>\n",
       "      <td>Sportster/PERSON CNC_Shapeoko_Router/ORG</td>\n",
       "    </tr>\n",
       "    <tr>\n",
       "      <th>...</th>\n",
       "      <td>...</td>\n",
       "      <td>...</td>\n",
       "      <td>...</td>\n",
       "      <td>...</td>\n",
       "      <td>...</td>\n",
       "      <td>...</td>\n",
       "    </tr>\n",
       "    <tr>\n",
       "      <th>19995</th>\n",
       "      <td>03 JBL Sound System issue just pick up first 4...</td>\n",
       "      <td>pick love unimpressed come loud try blast hear...</td>\n",
       "      <td>JBL Sound System issue 4runner week JBL Synthe...</td>\n",
       "      <td>sound_system head_unit head_unit head_unit_vol...</td>\n",
       "      <td>first_4runner whole_neighborhood sound_quality...</td>\n",
       "      <td>JBL_Sound_System_issue/ORG JBL/ORG Kenwood_KDC...</td>\n",
       "    </tr>\n",
       "    <tr>\n",
       "      <th>19996</th>\n",
       "      <td>2nd gen come back from Dead with Tools hello f...</td>\n",
       "      <td>come fellow want share recent help welcome beg...</td>\n",
       "      <td>2nd gen Dead Tools runners- experience future ...</td>\n",
       "      <td>hour_shift dash_light battery_terminal battery...</td>\n",
       "      <td>fellow_runners- recent_experience more_time fe...</td>\n",
       "      <td></td>\n",
       "    </tr>\n",
       "    <tr>\n",
       "      <th>19997</th>\n",
       "      <td>Tranny cooler in cold temperature so pick up 2...</td>\n",
       "      <td>cold pick think put cool prevent infamous live...</td>\n",
       "      <td>Tranny temperature 4runner thing immaculate co...</td>\n",
       "      <td>immaculate_condition service_record strawberry...</td>\n",
       "      <td>cold_temperature</td>\n",
       "      <td>strawberry/PERSON Canada/GPE</td>\n",
       "    </tr>\n",
       "    <tr>\n",
       "      <th>19998</th>\n",
       "      <td>tear between Wrangler and 4 Runner ok so 've p...</td>\n",
       "      <td>tear post figure equal decide know lean look a...</td>\n",
       "      <td>Wrangler Runner r jeep guy shot day car 4runne...</td>\n",
       "      <td>95k_mile service_record market_price comfort_z...</td>\n",
       "      <td>equal_shot next_car 4runner_route big_draw par...</td>\n",
       "      <td>Wrangler/PERSON Runner/PERSON jeep/ORG Jeep/OR...</td>\n",
       "    </tr>\n",
       "    <tr>\n",
       "      <th>19999</th>\n",
       "      <td>Bilstein Shocks read lot forum and people reco...</td>\n",
       "      <td>read recommend get 3rd recommend buy landcruis...</td>\n",
       "      <td>Bilstein Shocks lot forum people TUNDRA Bilste...</td>\n",
       "      <td>lot_forum</td>\n",
       "      <td>landcruiser_spring</td>\n",
       "      <td>Bilstein_Shocks/PERSON forum/PERSON Bilstein_S...</td>\n",
       "    </tr>\n",
       "  </tbody>\n",
       "</table>\n",
       "<p>20000 rows × 6 columns</p>\n",
       "</div>"
      ],
      "text/plain": [
       "                                                  lemmas  \\\n",
       "0      Club Colors funny story go to college in Las V...   \n",
       "1      mystery Rattle have stock 2010 FXD have rate c...   \n",
       "2      gum on tailpipe so be on bike trip with father...   \n",
       "3      change up bar so be go change out t bar come o...   \n",
       "4      spend 2 day and make Mini Floorboards for spor...   \n",
       "...                                                  ...   \n",
       "19995  03 JBL Sound System issue just pick up first 4...   \n",
       "19996  2nd gen come back from Dead with Tools hello f...   \n",
       "19997  Tranny cooler in cold temperature so pick up 2...   \n",
       "19998  tear between Wrangler and 4 Runner ok so 've p...   \n",
       "19999  Bilstein Shocks read lot forum and people reco...   \n",
       "\n",
       "                                               adj_verbs  \\\n",
       "0      funny go know motorcycle end call worth note w...   \n",
       "1      locate hear second believe happen hard tell th...   \n",
       "2      gum stop park metered go get notice right spar...   \n",
       "3      change go change come 14'street think lucky sl...   \n",
       "4      spend look amazed know stand occur help reliev...   \n",
       "...                                                  ...   \n",
       "19995  pick love unimpressed come loud try blast hear...   \n",
       "19996  come fellow want share recent help welcome beg...   \n",
       "19997  cold pick think put cool prevent infamous live...   \n",
       "19998  tear post figure equal decide know lean look a...   \n",
       "19999  read recommend get 3rd recommend buy landcruis...   \n",
       "\n",
       "                                                   nouns  \\\n",
       "0      Club Colors story college Las Vegas college bu...   \n",
       "1      mystery Rattle stock FXD rate gear idle gear n...   \n",
       "2      tailpipe bike trip father food bike spot hour ...   \n",
       "3      bar t bar bob San Diego bar dave 12 cross bar ...   \n",
       "4      day Mini Floorboards sportster week Mini Floor...   \n",
       "...                                                  ...   \n",
       "19995  JBL Sound System issue 4runner week JBL Synthe...   \n",
       "19996  2nd gen Dead Tools runners- experience future ...   \n",
       "19997  Tranny temperature 4runner thing immaculate co...   \n",
       "19998  Wrangler Runner r jeep guy shot day car 4runne...   \n",
       "19999  Bilstein Shocks lot forum people TUNDRA Bilste...   \n",
       "\n",
       "                                            noun_phrases  \\\n",
       "0                               college_buddy dance_club   \n",
       "1                                             drive_gear   \n",
       "2                                              bike_trip   \n",
       "3                                        t_bar cross_bar   \n",
       "4             ankle_discomfort rubber_bumper fun_project   \n",
       "...                                                  ...   \n",
       "19995  sound_system head_unit head_unit head_unit_vol...   \n",
       "19996  hour_shift dash_light battery_terminal battery...   \n",
       "19997  immaculate_condition service_record strawberry...   \n",
       "19998  95k_mile service_record market_price comfort_z...   \n",
       "19999                                          lot_forum   \n",
       "\n",
       "                                        adj_noun_phrases  \\\n",
       "0         funny_story front_door bright_color much_booze   \n",
       "1      second_gear other_gear starter_drive starter_d...   \n",
       "2                                 metered_spot spare_rag   \n",
       "3                                             lucky_dave   \n",
       "4                                     few_week long_ride   \n",
       "...                                                  ...   \n",
       "19995  first_4runner whole_neighborhood sound_quality...   \n",
       "19996  fellow_runners- recent_experience more_time fe...   \n",
       "19997                                   cold_temperature   \n",
       "19998  equal_shot next_car 4runner_route big_draw par...   \n",
       "19999                                 landcruiser_spring   \n",
       "\n",
       "                                                entities  \n",
       "0            Las_Vegas/GPE Hogs_&_Heifers/ORG ANYONE/ORG  \n",
       "1                                                FXD/ORG  \n",
       "2                                                         \n",
       "3                                          San_Diego/GPE  \n",
       "4               Sportster/PERSON CNC_Shapeoko_Router/ORG  \n",
       "...                                                  ...  \n",
       "19995  JBL_Sound_System_issue/ORG JBL/ORG Kenwood_KDC...  \n",
       "19996                                                     \n",
       "19997                       strawberry/PERSON Canada/GPE  \n",
       "19998  Wrangler/PERSON Runner/PERSON jeep/ORG Jeep/OR...  \n",
       "19999  Bilstein_Shocks/PERSON forum/PERSON Bilstein_S...  \n",
       "\n",
       "[20000 rows x 6 columns]"
      ]
     },
     "execution_count": 137,
     "metadata": {},
     "output_type": "execute_result"
    }
   ],
   "source": [
    "df[nlp_columns] = df[nlp_columns].applymap(lambda items: ' '.join(items))\n",
    "df[nlp_columns]"
   ]
  },
  {
   "cell_type": "code",
   "execution_count": 138,
   "id": "157e1b9c",
   "metadata": {},
   "outputs": [
    {
     "data": {
      "text/plain": [
       "'reddit-selfposts.db'"
      ]
     },
     "execution_count": 138,
     "metadata": {},
     "output_type": "execute_result"
    }
   ],
   "source": [
    "db_name"
   ]
  },
  {
   "cell_type": "code",
   "execution_count": 144,
   "id": "fad3b30a",
   "metadata": {},
   "outputs": [
    {
     "name": "stdout",
     "output_type": "stream",
     "text": [
      "[('posts',), ('posts_cleaned',)]\n"
     ]
    }
   ],
   "source": [
    "con = sqlite3.connect(os.path.join(data_path, \"reddit-selfposts\", db_name))\n",
    "sql_query = \"\"\"SELECT name FROM sqlite_master WHERE type='table';\"\"\"\n",
    "cursor = con.cursor()\n",
    "cursor.execute(sql_query)\n",
    "print(cursor.fetchall())"
   ]
  },
  {
   "cell_type": "code",
   "execution_count": 146,
   "id": "f9812ded",
   "metadata": {},
   "outputs": [
    {
     "data": {
      "text/plain": [
       "20000"
      ]
     },
     "execution_count": 146,
     "metadata": {},
     "output_type": "execute_result"
    }
   ],
   "source": [
    "df.to_sql(\"posts_nlp\", con, index=False, if_exists=\"replace\")"
   ]
  },
  {
   "cell_type": "code",
   "execution_count": 147,
   "id": "e3a99461",
   "metadata": {},
   "outputs": [
    {
     "name": "stdout",
     "output_type": "stream",
     "text": [
      "[('posts',), ('posts_cleaned',), ('posts_nlp',)]\n"
     ]
    }
   ],
   "source": [
    "cursor = con.cursor()\n",
    "cursor.execute(sql_query)\n",
    "print(cursor.fetchall())"
   ]
  },
  {
   "cell_type": "code",
   "execution_count": 148,
   "id": "5c234dea",
   "metadata": {},
   "outputs": [
    {
     "name": "stdout",
     "output_type": "stream",
     "text": [
      "Collecting fasttext\n",
      "  Downloading fasttext-0.9.2.tar.gz (68 kB)\n",
      "\u001b[2K     \u001b[38;2;114;156;31m━━━━━━━━━━━━━━━━━━━━━━━━━━━━━━━━━━━━━━━━\u001b[0m \u001b[32m68.8/68.8 kB\u001b[0m \u001b[31m2.3 MB/s\u001b[0m eta \u001b[36m0:00:00\u001b[0m\n",
      "\u001b[?25h  Preparing metadata (setup.py) ... \u001b[?25ldone\n",
      "\u001b[?25hCollecting pybind11>=2.2\n",
      "  Using cached pybind11-2.10.3-py3-none-any.whl (222 kB)\n",
      "Requirement already satisfied: setuptools>=0.7.0 in /home/nicolas/anaconda3/lib/python3.8/site-packages (from fasttext) (65.6.3)\n",
      "Requirement already satisfied: numpy in /home/nicolas/anaconda3/lib/python3.8/site-packages (from fasttext) (1.22.3)\n",
      "Building wheels for collected packages: fasttext\n",
      "  Building wheel for fasttext (setup.py) ... \u001b[?25ldone\n",
      "\u001b[?25h  Created wheel for fasttext: filename=fasttext-0.9.2-cp38-cp38-linux_x86_64.whl size=4676309 sha256=fd867e0124dbf5ea45f685a56288e19b855809b276129f7ad5de181b8b63a011\n",
      "  Stored in directory: /home/nicolas/.cache/pip/wheels/b8/6e/68/d9e7236903651c82c9ad4e2aca0c8fb462c7569bf619ebc67a\n",
      "Successfully built fasttext\n",
      "Installing collected packages: pybind11, fasttext\n",
      "Successfully installed fasttext-0.9.2 pybind11-2.10.3\n"
     ]
    }
   ],
   "source": [
    "!pip install fasttext"
   ]
  },
  {
   "cell_type": "code",
   "execution_count": 149,
   "id": "3f10a36d",
   "metadata": {},
   "outputs": [
    {
     "name": "stdout",
     "output_type": "stream",
     "text": [
      "Collecting fasttext-langdetect\n",
      "  Downloading fasttext-langdetect-1.0.5.tar.gz (6.8 kB)\n",
      "  Preparing metadata (setup.py) ... \u001b[?25ldone\n",
      "\u001b[?25hRequirement already satisfied: fasttext>=0.9.1 in /home/nicolas/anaconda3/lib/python3.8/site-packages (from fasttext-langdetect) (0.9.2)\n",
      "Requirement already satisfied: requests>=2.22.0 in /home/nicolas/anaconda3/lib/python3.8/site-packages (from fasttext-langdetect) (2.27.1)\n",
      "Requirement already satisfied: setuptools>=0.7.0 in /home/nicolas/anaconda3/lib/python3.8/site-packages (from fasttext>=0.9.1->fasttext-langdetect) (65.6.3)\n",
      "Requirement already satisfied: numpy in /home/nicolas/anaconda3/lib/python3.8/site-packages (from fasttext>=0.9.1->fasttext-langdetect) (1.22.3)\n",
      "Requirement already satisfied: pybind11>=2.2 in /home/nicolas/anaconda3/lib/python3.8/site-packages (from fasttext>=0.9.1->fasttext-langdetect) (2.10.3)\n",
      "Requirement already satisfied: charset-normalizer~=2.0.0 in /home/nicolas/anaconda3/lib/python3.8/site-packages (from requests>=2.22.0->fasttext-langdetect) (2.0.4)\n",
      "Requirement already satisfied: idna<4,>=2.5 in /home/nicolas/anaconda3/lib/python3.8/site-packages (from requests>=2.22.0->fasttext-langdetect) (3.3)\n",
      "Requirement already satisfied: certifi>=2017.4.17 in /home/nicolas/anaconda3/lib/python3.8/site-packages (from requests>=2.22.0->fasttext-langdetect) (2021.10.8)\n",
      "Requirement already satisfied: urllib3<1.27,>=1.21.1 in /home/nicolas/anaconda3/lib/python3.8/site-packages (from requests>=2.22.0->fasttext-langdetect) (1.26.8)\n",
      "Building wheels for collected packages: fasttext-langdetect\n",
      "  Building wheel for fasttext-langdetect (setup.py) ... \u001b[?25ldone\n",
      "\u001b[?25h  Created wheel for fasttext-langdetect: filename=fasttext_langdetect-1.0.5-py3-none-any.whl size=7503 sha256=a5868f9f82dfbb1ce2982ac9a039e1b15a1d6dae3ef4c9b10547f7dc8ed78315\n",
      "  Stored in directory: /home/nicolas/.cache/pip/wheels/37/97/a3/16327f2c5e2d3fff3b2e12fefdf3e591d48dccc1e40b2158f0\n",
      "Successfully built fasttext-langdetect\n",
      "Installing collected packages: fasttext-langdetect\n",
      "Successfully installed fasttext-langdetect-1.0.5\n"
     ]
    }
   ],
   "source": [
    "!pip install fasttext-langdetect"
   ]
  },
  {
   "cell_type": "code",
   "execution_count": 151,
   "id": "774441bd",
   "metadata": {},
   "outputs": [],
   "source": [
    "from ftlangdetect import detect"
   ]
  },
  {
   "cell_type": "code",
   "execution_count": 155,
   "id": "4e8c3afb",
   "metadata": {},
   "outputs": [
    {
     "data": {
      "text/plain": [
       "{'lang': 'en', 'score': 0.9772987365722656}"
      ]
     },
     "execution_count": 155,
     "metadata": {},
     "output_type": "execute_result"
    }
   ],
   "source": [
    "detect(df.text[0])"
   ]
  },
  {
   "cell_type": "code",
   "execution_count": 156,
   "id": "412f5cf2",
   "metadata": {},
   "outputs": [
    {
     "data": {
      "text/plain": [
       "<function textacy.spacier.core.make_spacy_doc(data: 'types.DocData', lang: 'types.LangLikeInContext', *, chunk_size: 'Optional[int]' = None) -> 'Doc'>"
      ]
     },
     "execution_count": 156,
     "metadata": {},
     "output_type": "execute_result"
    }
   ],
   "source": [
    "textacy.make_spacy_doc"
   ]
  },
  {
   "cell_type": "code",
   "execution_count": null,
   "id": "1c7b31fe",
   "metadata": {},
   "outputs": [],
   "source": []
  }
 ],
 "metadata": {
  "kernelspec": {
   "display_name": "Python 3 (ipykernel)",
   "language": "python",
   "name": "python3"
  },
  "language_info": {
   "codemirror_mode": {
    "name": "ipython",
    "version": 3
   },
   "file_extension": ".py",
   "mimetype": "text/x-python",
   "name": "python",
   "nbconvert_exporter": "python",
   "pygments_lexer": "ipython3",
   "version": "3.8.3"
  }
 },
 "nbformat": 4,
 "nbformat_minor": 5
}
